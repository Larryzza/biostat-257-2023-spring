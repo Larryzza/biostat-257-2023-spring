{
 "cells": [
  {
   "cell_type": "raw",
   "metadata": {},
   "source": [
    "---\n",
    "title: Biostat/Biomath M257 Homework 5\n",
    "subtitle: 'Due May 26 @ 11:59PM'\n",
    "author: Zian ZHUANG and UID:405444165\n",
    "date: today\n",
    "format:\n",
    "  html:\n",
    "    theme: cosmo\n",
    "    embed-resources: true\n",
    "    number-sections: true\n",
    "    toc: true\n",
    "    toc-depth: 4\n",
    "    toc-location: left\n",
    "---"
   ]
  },
  {
   "cell_type": "markdown",
   "metadata": {},
   "source": [
    "System information (for reproducibility):"
   ]
  },
  {
   "cell_type": "code",
   "execution_count": 1,
   "metadata": {
    "tags": []
   },
   "outputs": [
    {
     "name": "stdout",
     "output_type": "stream",
     "text": [
      "Julia Version 1.9.0\n",
      "Commit 8e63055292 (2023-05-07 11:25 UTC)\n",
      "Platform Info:\n",
      "  OS: Windows (x86_64-w64-mingw32)\n",
      "  CPU: 16 × AMD Ryzen 7 5800 8-Core Processor              \n",
      "  WORD_SIZE: 64\n",
      "  LIBM: libopenlibm\n",
      "  LLVM: libLLVM-14.0.6 (ORCJIT, znver3)\n",
      "  Threads: 9 on 16 virtual cores\n",
      "Environment:\n",
      "  JULIA_NUM_THREADS = 8\n"
     ]
    }
   ],
   "source": [
    "versioninfo()"
   ]
  },
  {
   "cell_type": "markdown",
   "metadata": {},
   "source": [
    "Load packages:"
   ]
  },
  {
   "cell_type": "code",
   "execution_count": 2,
   "metadata": {
    "tags": []
   },
   "outputs": [
    {
     "name": "stderr",
     "output_type": "stream",
     "text": [
      "\u001b[32m\u001b[1m  Activating\u001b[22m\u001b[39m project at `C:\\Users\\larry\\Dropbox\\zza\\UCLA\\academic\\year 3\\quarter 3\\257\\biostat-257-2023-spring\\hw5`\n"
     ]
    },
    {
     "name": "stdout",
     "output_type": "stream",
     "text": [
      "\u001b[32m\u001b[1mStatus\u001b[22m\u001b[39m `C:\\Users\\larry\\Dropbox\\zza\\UCLA\\academic\\year 3\\quarter 3\\257\\biostat-257-2023-spring\\hw5\\Project.toml`\n",
      "  \u001b[90m[f65535da] \u001b[39mConvex v0.15.3\n",
      "  \u001b[90m[a93c6f00] \u001b[39mDataFrames v1.5.0\n",
      "  \u001b[90m[87dc4568] \u001b[39mHiGHS v1.5.1\n",
      "  \u001b[90m[b99e6be6] \u001b[39mHypatia v0.7.3\n",
      "  \u001b[90m[4076af6c] \u001b[39mJuMP v1.11.1\n",
      "  \u001b[90m[b8f27783] \u001b[39mMathOptInterface v1.16.0\n",
      "  \u001b[90m[6405355b] \u001b[39mMosek v10.0.2\n",
      "  \u001b[90m[1ec41992] \u001b[39mMosekTools v0.15.0\n",
      "  \u001b[90m[2f354839] \u001b[39mPajarito v0.8.2\n",
      "  \u001b[90m[08abe8d2] \u001b[39mPrettyTables v2.2.4\n",
      "  \u001b[90m[c946c3f1] \u001b[39mSCS v1.1.4\n",
      "  \u001b[90m[3eaba693] \u001b[39mStatsModels v0.7.2\n"
     ]
    }
   ],
   "source": [
    "using Pkg\n",
    "\n",
    "Pkg.activate(pwd())\n",
    "Pkg.instantiate()\n",
    "Pkg.status()\n",
    "\n",
    "using DataFrames, Convex, MosekTools, MathOptInterface "
   ]
  },
  {
   "cell_type": "markdown",
   "metadata": {},
   "source": [
    "In this exercise, we practice using disciplined convex programming (SDP in particular) to solve optimal design problems.\n",
    "\n",
    "## Introduction to Optimal design\n",
    "\n",
    "Consider a linear model\n",
    "\\begin{eqnarray*}\n",
    "\ty_i = \\mathbf{x}_i^T \\boldsymbol{\\beta} + \\epsilon_i, \\quad i = 1,\\ldots, n,\n",
    "\\end{eqnarray*}\n",
    "where $\\epsilon_i$ are independent Gaussian noises with common variance $\\sigma^2$. It is well known that the least squares estimate $\\hat{\\boldsymbol{\\beta}}$ is unbiased and has covariance $\\sigma^2 (\\sum_{i=1}^n \\mathbf{x}_i \\mathbf{x}_i^T)^{-1}$. \n",
    "\n",
    "In **exact optimal design**, given total number of $n$ allowable experiments, we want to choose among a list of $m$ candidate design points $\\{\\mathbf{x}_1, \\ldots, \\mathbf{x}_m\\}$ such that the covariance matrix is minimized in some sense. In mathematical terms, we want to find an integer vector $\\mathbf{n} = (n_1, \\ldots, n_m)$ such that $n_i \\ge 0$, $\\sum_{i=1}^m n_i = n$, and the matrix $\\mathbf{V} = \\left( \\sum_{i=1}^m n_i \\mathbf{x}_i \\mathbf{x}_i^T \\right)^{-1}$ is \"small\".\n",
    "\n",
    "In **approximate optimal design**,  we want to find a probability vector $\\mathbf{p} = (p_1, \\ldots, p_m)$ such that $p_i \\ge 0$, $\\sum_{i=1}^m p_i = 1$, and the matrix $\\mathbf{V} = \\left( \\sum_{i=1}^m p_i \\mathbf{x}_i \\mathbf{x}_i^T \\right)^{-1}$ is \"small\".\n",
    "\n",
    "Commonly used optimal design criteria include:\n",
    "\n",
    "- In **$D$-optimal design**, we minimize the determinant of $\\mathbf{V}$\n",
    "\\begin{eqnarray*}\n",
    "\t&\\text{minimize}& \\det \\left( \\sum_{i=1}^m p_i \\mathbf{x}_i \\mathbf{x}_i^T \\right)^{-1} \\\\\n",
    "\t&\\text{subject to}& p_i \\ge 0, \\sum_{i=1}^m p_i = 1.\n",
    "\\end{eqnarray*}\n",
    "\n",
    "- In **$E$-optimal design**, we minimize the spectral norm, i.e., the maximum eigenvalue of $\\mathbf{V}$\n",
    "\\begin{eqnarray*}\n",
    "\t&\\text{minimize}& \\lambda_{\\text{max}} \\left( \\sum_{i=1}^m p_i \\mathbf{x}_i \\mathbf{x}_i^T \\right)^{-1} \\\\\n",
    "\t&\\text{subject to}& p_i \\ge 0, \\sum_{i=1}^m p_i = 1.\t\n",
    "\\end{eqnarray*}\n",
    "Statistically we are minimizing the maximum variance of $\\sum_{j=1}^p a_j \\text{var}(\\hat \\beta_j)$ over all vectors $\\mathbf{a}$ with unit norm.\n",
    "\n",
    "- In **$A$-optimal design**, we minimize the trace of $\\mathbf{V}$\n",
    "\\begin{eqnarray*}\n",
    "\t&\\text{minimize}& \\text{tr} \\left( \\sum_{i=1}^m p_i \\mathbf{x}_i \\mathbf{x}_i^T \\right)^{-1} \\\\\n",
    "\t&\\text{subject to}& p_i \\ge 0, \\sum_{i=1}^m p_i = 1.\n",
    "\\end{eqnarray*}\n",
    "Statistically we are minimizing the total variance $\\sum_{j=1}^p \\text{var}(\\hat \\beta_j)$.\n",
    "\n",
    "## Q1 (10 pts) 3x4 factorial design\n",
    "\n",
    "A drug company ask you to help design a two factor clinical trial, in which treatment A has three levels (A1, A2, and A3) and treatment B has four levels (B1, B2, B3, and B4). Drug company also tells you that the treatment combination A3:B4 has undesirable side effects so we ignore this design point. \n",
    "\n",
    "Using dummy coding with A1 and B1 as the baseline levels, find the matrix $C$ with each row a unique design point."
   ]
  },
  {
   "cell_type": "markdown",
   "metadata": {},
   "source": [
    "**Sol.**"
   ]
  },
  {
   "cell_type": "code",
   "execution_count": 76,
   "metadata": {},
   "outputs": [
    {
     "data": {
      "text/html": [
       "<div><div style = \"float: left;\"><span>11×7 DataFrame</span></div><div style = \"clear: both;\"></div></div><div class = \"data-frame\" style = \"overflow-x: scroll;\"><table class = \"data-frame\" style = \"margin-bottom: 6px;\"><thead><tr class = \"header\"><th class = \"rowNumber\" style = \"font-weight: bold; text-align: right;\">Row</th><th style = \"text-align: left;\">treatment_combination</th><th style = \"text-align: left;\">intcept</th><th style = \"text-align: left;\">A2</th><th style = \"text-align: left;\">A3</th><th style = \"text-align: left;\">B2</th><th style = \"text-align: left;\">B3</th><th style = \"text-align: left;\">B4</th></tr><tr class = \"subheader headerLastRow\"><th class = \"rowNumber\" style = \"font-weight: bold; text-align: right;\"></th><th title = \"String\" style = \"text-align: left;\">String</th><th title = \"Float64\" style = \"text-align: left;\">Float64</th><th title = \"Int64\" style = \"text-align: left;\">Int64</th><th title = \"Int64\" style = \"text-align: left;\">Int64</th><th title = \"Int64\" style = \"text-align: left;\">Int64</th><th title = \"Int64\" style = \"text-align: left;\">Int64</th><th title = \"Int64\" style = \"text-align: left;\">Int64</th></tr></thead><tbody><tr><td class = \"rowNumber\" style = \"font-weight: bold; text-align: right;\">1</td><td style = \"text-align: left;\">A1:B1</td><td style = \"text-align: right;\">1.0</td><td style = \"text-align: right;\">0</td><td style = \"text-align: right;\">0</td><td style = \"text-align: right;\">0</td><td style = \"text-align: right;\">0</td><td style = \"text-align: right;\">0</td></tr><tr><td class = \"rowNumber\" style = \"font-weight: bold; text-align: right;\">2</td><td style = \"text-align: left;\">A2:B1</td><td style = \"text-align: right;\">1.0</td><td style = \"text-align: right;\">1</td><td style = \"text-align: right;\">0</td><td style = \"text-align: right;\">0</td><td style = \"text-align: right;\">0</td><td style = \"text-align: right;\">0</td></tr><tr><td class = \"rowNumber\" style = \"font-weight: bold; text-align: right;\">3</td><td style = \"text-align: left;\">A3:B1</td><td style = \"text-align: right;\">1.0</td><td style = \"text-align: right;\">0</td><td style = \"text-align: right;\">1</td><td style = \"text-align: right;\">0</td><td style = \"text-align: right;\">0</td><td style = \"text-align: right;\">0</td></tr><tr><td class = \"rowNumber\" style = \"font-weight: bold; text-align: right;\">4</td><td style = \"text-align: left;\">A1:B2</td><td style = \"text-align: right;\">1.0</td><td style = \"text-align: right;\">0</td><td style = \"text-align: right;\">0</td><td style = \"text-align: right;\">1</td><td style = \"text-align: right;\">0</td><td style = \"text-align: right;\">0</td></tr><tr><td class = \"rowNumber\" style = \"font-weight: bold; text-align: right;\">5</td><td style = \"text-align: left;\">A2:B2</td><td style = \"text-align: right;\">1.0</td><td style = \"text-align: right;\">1</td><td style = \"text-align: right;\">0</td><td style = \"text-align: right;\">1</td><td style = \"text-align: right;\">0</td><td style = \"text-align: right;\">0</td></tr><tr><td class = \"rowNumber\" style = \"font-weight: bold; text-align: right;\">6</td><td style = \"text-align: left;\">A3:B2</td><td style = \"text-align: right;\">1.0</td><td style = \"text-align: right;\">0</td><td style = \"text-align: right;\">1</td><td style = \"text-align: right;\">1</td><td style = \"text-align: right;\">0</td><td style = \"text-align: right;\">0</td></tr><tr><td class = \"rowNumber\" style = \"font-weight: bold; text-align: right;\">7</td><td style = \"text-align: left;\">A1:B3</td><td style = \"text-align: right;\">1.0</td><td style = \"text-align: right;\">0</td><td style = \"text-align: right;\">0</td><td style = \"text-align: right;\">0</td><td style = \"text-align: right;\">1</td><td style = \"text-align: right;\">0</td></tr><tr><td class = \"rowNumber\" style = \"font-weight: bold; text-align: right;\">8</td><td style = \"text-align: left;\">A2:B3</td><td style = \"text-align: right;\">1.0</td><td style = \"text-align: right;\">1</td><td style = \"text-align: right;\">0</td><td style = \"text-align: right;\">0</td><td style = \"text-align: right;\">1</td><td style = \"text-align: right;\">0</td></tr><tr><td class = \"rowNumber\" style = \"font-weight: bold; text-align: right;\">9</td><td style = \"text-align: left;\">A3:B3</td><td style = \"text-align: right;\">1.0</td><td style = \"text-align: right;\">0</td><td style = \"text-align: right;\">1</td><td style = \"text-align: right;\">0</td><td style = \"text-align: right;\">1</td><td style = \"text-align: right;\">0</td></tr><tr><td class = \"rowNumber\" style = \"font-weight: bold; text-align: right;\">10</td><td style = \"text-align: left;\">A1:B4</td><td style = \"text-align: right;\">1.0</td><td style = \"text-align: right;\">0</td><td style = \"text-align: right;\">0</td><td style = \"text-align: right;\">0</td><td style = \"text-align: right;\">0</td><td style = \"text-align: right;\">1</td></tr><tr><td class = \"rowNumber\" style = \"font-weight: bold; text-align: right;\">11</td><td style = \"text-align: left;\">A2:B4</td><td style = \"text-align: right;\">1.0</td><td style = \"text-align: right;\">1</td><td style = \"text-align: right;\">0</td><td style = \"text-align: right;\">0</td><td style = \"text-align: right;\">0</td><td style = \"text-align: right;\">1</td></tr></tbody></table></div>"
      ],
      "text/latex": [
       "\\begin{tabular}{r|ccccccc}\n",
       "\t& treatment\\_combination & intcept & A2 & A3 & B2 & B3 & B4\\\\\n",
       "\t\\hline\n",
       "\t& String & Float64 & Int64 & Int64 & Int64 & Int64 & Int64\\\\\n",
       "\t\\hline\n",
       "\t1 & A1:B1 & 1.0 & 0 & 0 & 0 & 0 & 0 \\\\\n",
       "\t2 & A2:B1 & 1.0 & 1 & 0 & 0 & 0 & 0 \\\\\n",
       "\t3 & A3:B1 & 1.0 & 0 & 1 & 0 & 0 & 0 \\\\\n",
       "\t4 & A1:B2 & 1.0 & 0 & 0 & 1 & 0 & 0 \\\\\n",
       "\t5 & A2:B2 & 1.0 & 1 & 0 & 1 & 0 & 0 \\\\\n",
       "\t6 & A3:B2 & 1.0 & 0 & 1 & 1 & 0 & 0 \\\\\n",
       "\t7 & A1:B3 & 1.0 & 0 & 0 & 0 & 1 & 0 \\\\\n",
       "\t8 & A2:B3 & 1.0 & 1 & 0 & 0 & 1 & 0 \\\\\n",
       "\t9 & A3:B3 & 1.0 & 0 & 1 & 0 & 1 & 0 \\\\\n",
       "\t10 & A1:B4 & 1.0 & 0 & 0 & 0 & 0 & 1 \\\\\n",
       "\t11 & A2:B4 & 1.0 & 1 & 0 & 0 & 0 & 1 \\\\\n",
       "\\end{tabular}\n"
      ],
      "text/plain": [
       "\u001b[1m11×7 DataFrame\u001b[0m\n",
       "\u001b[1m Row \u001b[0m│\u001b[1m treatment_combination \u001b[0m\u001b[1m intcept \u001b[0m\u001b[1m A2    \u001b[0m\u001b[1m A3    \u001b[0m\u001b[1m B2    \u001b[0m\u001b[1m B3    \u001b[0m\u001b[1m B4    \u001b[0m\n",
       "     │\u001b[90m String                \u001b[0m\u001b[90m Float64 \u001b[0m\u001b[90m Int64 \u001b[0m\u001b[90m Int64 \u001b[0m\u001b[90m Int64 \u001b[0m\u001b[90m Int64 \u001b[0m\u001b[90m Int64 \u001b[0m\n",
       "─────┼───────────────────────────────────────────────────────────────────\n",
       "   1 │ A1:B1                      1.0      0      0      0      0      0\n",
       "   2 │ A2:B1                      1.0      1      0      0      0      0\n",
       "   3 │ A3:B1                      1.0      0      1      0      0      0\n",
       "   4 │ A1:B2                      1.0      0      0      1      0      0\n",
       "   5 │ A2:B2                      1.0      1      0      1      0      0\n",
       "   6 │ A3:B2                      1.0      0      1      1      0      0\n",
       "   7 │ A1:B3                      1.0      0      0      0      1      0\n",
       "   8 │ A2:B3                      1.0      1      0      0      1      0\n",
       "   9 │ A3:B3                      1.0      0      1      0      1      0\n",
       "  10 │ A1:B4                      1.0      0      0      0      0      1\n",
       "  11 │ A2:B4                      1.0      1      0      0      0      1"
      ]
     },
     "execution_count": 76,
     "metadata": {},
     "output_type": "execute_result"
    }
   ],
   "source": [
    "treatment_combination = [\"A1:B1\", \"A2:B1\", \"A3:B1\", \"A1:B2\", \"A2:B2\", \n",
    "                         \"A3:B2\", \"A1:B3\", \"A2:B3\", \"A3:B3\", \"A1:B4\", \"A2:B4\"]\n",
    "A2 = [0, 1, 0, 0, 1, 0, 0, 1, 0, 0, 1]\n",
    "A3 = [0, 0, 1, 0, 0, 1, 0, 0, 1, 0, 0]\n",
    "B2 = [0, 0, 0, 1, 1, 1, 0, 0, 0, 0, 0]\n",
    "B3 = [0, 0, 0, 0, 0, 0, 1, 1, 1, 0, 0]\n",
    "B4 = [0, 0, 0, 0, 0, 0, 0, 0, 0, 1, 1]\n",
    "\n",
    "df = DataFrame(treatment_combination = treatment_combination, intcept = ones(11),\n",
    "               A2 = A2, A3 = A3, B2 = B2, B3 = B3, B4 = B4)\n",
    "df\n"
   ]
  },
  {
   "cell_type": "markdown",
   "metadata": {},
   "source": [
    "## Q2 (30 pts) Find approximate optimal designs\n",
    "\n",
    "Using semidefinite programming (SDP) software to find the approximate D-, E-, and A-optimal designs for this clinical trial.\n",
    "\n",
    "Hint: This is what I got, which may or may not be correct.\n",
    "\n",
    "```\n",
    "Approximate Optimal Design\n",
    "┌───────────┬─────────┬─────────┬─────────┬─────────┬─────────┬─────────┐\n",
    "│ design_pt │   D_opt │   E_opt │   A_opt │ D_opt_n │ E_opt_n │ A_opt_n │\n",
    "│    String │ Float64 │ Float64 │ Float64 │ Float64 │ Float64 │ Float64 │\n",
    "├───────────┼─────────┼─────────┼─────────┼─────────┼─────────┼─────────┤\n",
    "│      A1B1 │   0.082 │   0.272 │   0.200 │       8 │      27 │      20 │\n",
    "│      A2B1 │   0.082 │   0.152 │   0.101 │       8 │      15 │      10 │\n",
    "│      A3B1 │   0.097 │   0.114 │   0.104 │      10 │      11 │      10 │\n",
    "│      A1B2 │   0.082 │   0.057 │   0.086 │       8 │       6 │       9 │\n",
    "│      A2B2 │   0.082 │   0.039 │   0.051 │       8 │       4 │       5 │\n",
    "│      A3B2 │   0.097 │   0.057 │   0.068 │      10 │       6 │       7 │\n",
    "│      A1B3 │   0.082 │   0.057 │   0.086 │       8 │       6 │       9 │\n",
    "│      A2B3 │   0.082 │   0.039 │   0.051 │       8 │       4 │       5 │\n",
    "│      A3B3 │   0.097 │   0.057 │   0.068 │      10 │       6 │       7 │\n",
    "│      A1B4 │   0.109 │   0.081 │   0.106 │      11 │       8 │      11 │\n",
    "│      A2B4 │   0.109 │   0.073 │   0.080 │      11 │       7 │       8 │\n",
    "└───────────┴─────────┴─────────┴─────────┴─────────┴─────────┴─────────┘\n",
    "```"
   ]
  },
  {
   "cell_type": "markdown",
   "metadata": {},
   "source": [
    "**Sol.**"
   ]
  },
  {
   "cell_type": "code",
   "execution_count": 77,
   "metadata": {},
   "outputs": [
    {
     "data": {
      "text/plain": [
       "(MathOptInterface.OPTIMAL, 8.98683156359766, [0.08194043080515269; 0.08195446134009557; … ; 0.10891345308189594; 0.1089056858612344;;])"
      ]
     },
     "execution_count": 77,
     "metadata": {},
     "output_type": "execute_result"
    }
   ],
   "source": [
    "X = hcat(ones(11), A2, A3, B2, B3, B4)\n",
    "# define problem\n",
    "P = Variable(size(X, 1))\n",
    "# D opt\n",
    "D_problem = minimize(-logdet(quadform(X, diagm(P)))) # objective\n",
    "D_problem.constraints += sum(P) == 1; # constraint\n",
    "D_problem.constraints += P >= 0; # constraint\n",
    "# define solver\n",
    "const MOI = MathOptInterface\n",
    "solver = Mosek.Optimizer()\n",
    "MOI.set(solver, MOI.RawOptimizerAttribute(\"LOG\"), 0)\n",
    "solve!(D_problem, solver)\n",
    "# Check the status, optimal value, and minimizer of the problem\n",
    "D_problem.status, D_problem.optval, P.value"
   ]
  },
  {
   "cell_type": "code",
   "execution_count": 78,
   "metadata": {},
   "outputs": [
    {
     "data": {
      "text/plain": [
       "11×1 Matrix{Float64}:\n",
       "  8.0\n",
       "  8.0\n",
       " 10.0\n",
       "  8.0\n",
       "  8.0\n",
       " 10.0\n",
       "  8.0\n",
       "  8.0\n",
       " 10.0\n",
       " 11.0\n",
       " 11.0"
      ]
     },
     "execution_count": 78,
     "metadata": {},
     "output_type": "execute_result"
    }
   ],
   "source": [
    "# save number\n",
    "D_opt_n = round.(P.value .* 100)"
   ]
  },
  {
   "cell_type": "code",
   "execution_count": 79,
   "metadata": {},
   "outputs": [
    {
     "data": {
      "text/plain": [
       "(MathOptInterface.OPTIMAL, -0.076923076725408, [0.27116845314152616; 0.15605925265960144; … ; 0.0810948952008921; 0.07274779284884167;;])"
      ]
     },
     "execution_count": 79,
     "metadata": {},
     "output_type": "execute_result"
    }
   ],
   "source": [
    "# E opt\n",
    "E_problem = minimize(-eigmin(quadform(X, diagm(P)))) # objective\n",
    "E_problem.constraints += sum(P) == 1; # constraint\n",
    "E_problem.constraints += P >= 0; # constraint\n",
    "# define solver\n",
    "const MOI = MathOptInterface\n",
    "solver = Mosek.Optimizer()\n",
    "MOI.set(solver, MOI.RawOptimizerAttribute(\"LOG\"), 0)\n",
    "solve!(E_problem, solver)\n",
    "# Check the status, optimal value, and minimizer of the problem\n",
    "E_problem.status, E_problem.optval, P.value"
   ]
  },
  {
   "cell_type": "code",
   "execution_count": 80,
   "metadata": {},
   "outputs": [
    {
     "data": {
      "text/plain": [
       "11×1 Matrix{Float64}:\n",
       " 27.0\n",
       " 16.0\n",
       " 11.0\n",
       "  6.0\n",
       "  4.0\n",
       "  6.0\n",
       "  6.0\n",
       "  4.0\n",
       "  6.0\n",
       "  8.0\n",
       "  7.0"
      ]
     },
     "execution_count": 80,
     "metadata": {},
     "output_type": "execute_result"
    }
   ],
   "source": [
    "# save number\n",
    "E_opt_n = round.(P.value .* 100)"
   ]
  },
  {
   "cell_type": "code",
   "execution_count": null,
   "metadata": {},
   "outputs": [],
   "source": [
    "# E opt\n",
    "E_problem = minimize(-eigmin(quadform(X, diagm(P)))) # objective\n",
    "E_problem.constraints += sum(P) == 1; # constraint\n",
    "E_problem.constraints += P >= 0; # constraint"
   ]
  },
  {
   "cell_type": "markdown",
   "metadata": {},
   "source": [
    "## Q3 (30 pts) Find exact optimal designs\n",
    "\n",
    "Using mixed-integer semidefinite programming (SDP) software to find the exact D-, E-, and A-optimal designs for this clinical trial.\n",
    "\n",
    "Hint: This is what I got. Apparently I haven't got the E-optimal design right yet.\n",
    "\n",
    "```\n",
    "Exact Optimal Design\n",
    "┌───────────┬───────┬───────┬───────┐\n",
    "│ design_pt │ D_opt │ E_opt │ A_opt │\n",
    "│    String │ Int64 │ Int64 │ Int64 │\n",
    "├───────────┼───────┼───────┼───────┤\n",
    "│      A1B1 │     8 │    90 │    20 │\n",
    "│      A2B1 │     8 │     1 │    10 │\n",
    "│      A3B1 │    10 │     1 │    10 │\n",
    "│      A1B2 │     8 │     1 │     9 │\n",
    "│      A2B2 │     8 │     1 │     5 │\n",
    "│      A3B2 │    10 │     1 │     7 │\n",
    "│      A1B3 │     8 │     1 │     9 │\n",
    "│      A2B3 │     8 │     1 │     5 │\n",
    "│      A3B3 │    10 │     1 │     7 │\n",
    "│      A1B4 │    11 │     1 │    10 │\n",
    "│      A2B4 │    11 │     1 │     8 │\n",
    "└───────────┴───────┴───────┴───────┘\n",
    "```"
   ]
  },
  {
   "cell_type": "markdown",
   "metadata": {},
   "source": [
    "## Q4 (30 bonus points) Optimal design with nuisance parameters\n",
    "\n",
    "Suppose the regression coefficients of linear model $\\boldsymbol{\\beta}$ is partitioned as $\\boldsymbol{\\beta} = (\\boldsymbol{\\beta}_0^T, \\boldsymbol{\\beta}_1^T)^T$, where $\\boldsymbol{\\beta}_0$ are nuisance parameters and $\\boldsymbol{\\beta}_1$ are parameters of primary interest. Given an approximate design $\\mathbf{p} = (p_1, \\ldots, p_m)$, let the information matrix be partitioned accordingly\n",
    "$$\n",
    "\\mathbf{I}(\\mathbf{p}) = \\sum_{i=1}^m p_i \\mathbf{x}_i \\mathbf{x}_i^T =  \\begin{pmatrix}\n",
    "\\mathbf{I}_{00} & \\mathbf{I}_{01} \\\\\n",
    "\\mathbf{I}_{10} & \\mathbf{I}_{11}\n",
    "\\end{pmatrix}.\n",
    "$$\n",
    "Then the information matrix for $\\boldsymbol{\\beta}_1$ adjusted for nuisance parameter $\\boldsymbol{\\beta}_0$ is\n",
    "$$\n",
    "\\mathbf{I}_{1 \\mid 0}(\\mathbf{p}) = \\mathbf{I}_{11} - \\mathbf{I}_{10} \\mathbf{I}_{00}^{-1} \\mathbf{I}_{01}.\n",
    "$$\n",
    "\n",
    "Revisiting the 3x4 factorial design problem in Q1, suppose the drug company only cares about the estimation of A treatment effects. Find the approximate D-, E-, and A-optimal designs."
   ]
  }
 ],
 "metadata": {
  "@webio": {
   "lastCommId": null,
   "lastKernelId": null
  },
  "jupytext": {
   "formats": "ipynb,qmd"
  },
  "kernelspec": {
   "display_name": "Julia 1.9.0 (8 threads) 1.9.0",
   "language": "julia",
   "name": "julia-1.9.0-_8-threads_-1.9"
  },
  "language_info": {
   "file_extension": ".jl",
   "mimetype": "application/julia",
   "name": "julia",
   "version": "1.9.0"
  },
  "toc": {
   "colors": {
    "hover_highlight": "#DAA520",
    "running_highlight": "#FF0000",
    "selected_highlight": "#FFD700"
   },
   "moveMenuLeft": true,
   "nav_menu": {
    "height": "87px",
    "width": "252px"
   },
   "navigate_menu": true,
   "number_sections": false,
   "sideBar": true,
   "skip_h1_title": true,
   "threshold": 4,
   "toc_cell": false,
   "toc_section_display": "block",
   "toc_window_display": true,
   "widenNotebook": false
  }
 },
 "nbformat": 4,
 "nbformat_minor": 4
}
