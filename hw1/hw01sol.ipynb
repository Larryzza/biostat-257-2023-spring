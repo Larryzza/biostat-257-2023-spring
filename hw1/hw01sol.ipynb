{
  "cells": [
    {
      "cell_type": "raw",
      "metadata": {},
      "source": [
        "---\n",
        "title: Biostat/Biomath M257 Homework 1\n",
        "subtitle: 'Due Apr 14 @ 11:59PM'\n",
        "author: 'Zian ZHUANG (UID:405444165)'\n",
        "date: today\n",
        "format:\n",
        "  html:\n",
        "    theme: cosmo\n",
        "    embed-resources: true\n",
        "    number-sections: true\n",
        "    toc: true\n",
        "    toc-depth: 4\n",
        "    toc-location: left\n",
        "---"
      ],
      "id": "a77262f0"
    },
    {
      "cell_type": "code",
      "metadata": {},
      "source": [
        "versioninfo()"
      ],
      "id": "f100b259",
      "execution_count": null,
      "outputs": []
    },
    {
      "cell_type": "code",
      "metadata": {},
      "source": [
        "using Pkg\n",
        "Pkg.activate(pwd())\n",
        "Pkg.instantiate()\n",
        "Pkg.status()\n",
        "using LoopVectorization, Random, CairoMakie, LinearAlgebra, BenchmarkTools"
      ],
      "id": "752ff101",
      "execution_count": null,
      "outputs": []
    },
    {
      "cell_type": "markdown",
      "metadata": {},
      "source": [
        "## Q1\n",
        "\n",
        "**No handwritten homework reports are accepted for this course.** We work with Git/GitHub. Efficient and abundant use of Git, e.g., **frequent and well-documented** commits, is an important criterion for grading your homework.\n",
        "\n",
        "1.  If you don't have a GitHub account, apply for the [Student Developer Pack](https://education.github.com/pack) at GitHub using your UCLA email.\n",
        "\n",
        "2.  Create a **private** repository `biostat-257-2023-spring` and add `Hua-Zhou` and `parsajamshidian` (TA) as your collaborators.\n",
        "\n",
        "3.  Top directories of the repository should be `hw1`, `hw2`, ... You may create other branches for developing your homework solutions; but the `master` branch will be your presentation area. Put your homework submission files (Jupyter notebook `.ipynb`, html converted from notebook, all code and data set to reproduce results) in the `master` branch.\n",
        "\n",
        "4.  After each homework due date, teaching assistant and instructor will check out your `master` branch for grading. Tag each of your homework submissions with tag names `hw1`, `hw2`, ... Tagging time will be used as your submission time. That means if you tag your hw1 submission after deadline, penalty points will be deducted for late submission.\n",
        "\n",
        "5.  Read the [style guide](https://github.com/invenia/BlueStyle) for Julia programming. Following rules in the style guide will be strictly enforced when grading: (1) four space indenting rule, (2) 92 charcter rule, (3) space after comma rule, (4) no space before comma rule, (5) space around binary operator rule.\n",
        "\n",
        "### Sol.\n",
        "\n",
        "1.  done\n",
        "\n",
        "2.  done\n",
        "\n",
        "3.  done\n",
        "\n",
        "4.  done\n",
        "\n",
        "5.  done\n",
        "\n",
        "## Q2\n",
        "\n",
        "Let's check whether floating-point numbers obey certain algebraic rules. For 2-5, one counter-example suffices.\n",
        "\n",
        "1.  Associative rule for addition says `(x + y) + z == x + (y + z)`. Check association rule using `x = 0.1`, `y = 0.1` and `z = 1.0` in Julia. Explain what you find.\n",
        "\n",
        "2.  Do floating-point numbers obey the associative rule for multiplication: `(x * y) * z == x * (y * z)`?\n",
        "\n",
        "3.  Do floating-point numbers obey the distributive rule: `a * (x + y) == a * x + a * y`?\n",
        "\n",
        "4.  Is `0 * x == 0` true for all floating-point number `x`?\n",
        "\n",
        "5.  Is `x / a == x * (1 / a)` always true?\n",
        "\n",
        "### 1.\n"
      ],
      "id": "d412efb5"
    },
    {
      "cell_type": "code",
      "metadata": {},
      "source": [
        "x, y, z = 0.1, 0.1, 1.0\n",
        "print(\"(x + y) + z = \", (x + y) + z, \";  x + (y + z) = \", x + (y + z))\n",
        "(x + y) + z == x + (y + z)"
      ],
      "id": "e68915b6",
      "execution_count": null,
      "outputs": []
    },
    {
      "cell_type": "markdown",
      "metadata": {},
      "source": [
        "We found that associative rule is invalid here. Explain: When we added two floating-point numbers with different magnitudes, computer did rounding and we loose the precision of the number with smaller magnitude. In `(x + y) + z` we rounded one time but `x + (y + z)` we did twice. Thus, they provided different answers. \n",
        "\n",
        "### 2.\n"
      ],
      "id": "3dd964e9"
    },
    {
      "cell_type": "code",
      "metadata": {},
      "source": [
        "x, y, z = 11.1, 0.1, 111.1\n",
        "print(\"(x * y) * z = \", (x * y) * z, \";  x * (y * z) = \", x * (y * z))\n",
        "(x * y) * z == x * (y * z)"
      ],
      "id": "6d178d60",
      "execution_count": null,
      "outputs": []
    },
    {
      "cell_type": "markdown",
      "metadata": {},
      "source": [
        "No, floating-point numbers do not obey the associative rule for multiplication. The reason is same as above (rounding issues).\n",
        "\n",
        "### 3.\n"
      ],
      "id": "9827e845"
    },
    {
      "cell_type": "code",
      "metadata": {},
      "source": [
        "x, y, z = 11.1, 0.1, 111.1\n",
        "print(\"z * (x + y) = \", z * (x + y), \";  z * x + z * y = \", z * x + z * y)\n",
        "(x * y) * z == x * (y * z)"
      ],
      "id": "a51b8760",
      "execution_count": null,
      "outputs": []
    },
    {
      "cell_type": "markdown",
      "metadata": {},
      "source": [
        "No, floating-point numbers do not obey the distributive rule. The reason is same as above (rounding issues).\n",
        "\n",
        "### 4.\n"
      ],
      "id": "e3b71577"
    },
    {
      "cell_type": "code",
      "metadata": {},
      "source": [
        "0 * Inf == 0"
      ],
      "id": "f22ce2cf",
      "execution_count": null,
      "outputs": []
    },
    {
      "cell_type": "markdown",
      "metadata": {},
      "source": [
        "We can see `0 * x == 0` is not always true for all floating-point number `x`.\n",
        "\n",
        "### 5.\n"
      ],
      "id": "b4d4670d"
    },
    {
      "cell_type": "code",
      "metadata": {},
      "source": [
        "x, a = 1e-13, 1e10\n",
        "print(\"x / a = \", x / a, \";  x * (1 / a) = \", x * (1 / a))\n",
        "x / a == x * (1 / a)"
      ],
      "id": "88e6d028",
      "execution_count": null,
      "outputs": []
    },
    {
      "cell_type": "markdown",
      "metadata": {},
      "source": [
        "Then we can see `x / a == x * (1 / a)` is not always true.\n",
        "\n",
        "## Q3\n",
        "\n",
        "Consider Julia function\n"
      ],
      "id": "db0e058c"
    },
    {
      "cell_type": "code",
      "metadata": {},
      "source": [
        "function g(k)\n",
        "    for i in 1:10\n",
        "        k = 5k - 1\n",
        "    end\n",
        "    k\n",
        "end"
      ],
      "id": "fef9e0bc",
      "execution_count": null,
      "outputs": []
    },
    {
      "cell_type": "markdown",
      "metadata": {},
      "source": [
        "1.  Use `@code_llvm` to find the LLVM bitcode of compiled `g` with `Int64` input.\\\n",
        "2.  Use `@code_llvm` to find the LLVM bitcode of compiled `g` with `Float64` input.\\\n",
        "3.  Compare the bitcode from questions 1 and 2. What do you find?\\\n",
        "4.  Read Julia documentation on `@fastmath` and repeat the questions 1-3 on the function\n"
      ],
      "id": "9c8eb522"
    },
    {
      "cell_type": "code",
      "metadata": {},
      "source": [
        "function g_fastmath(k)  \n",
        "    @fastmath for i in 1:10  \n",
        "        k = 5k - 1\n",
        "    end\n",
        "    k\n",
        "end"
      ],
      "id": "c84309c3",
      "execution_count": null,
      "outputs": []
    },
    {
      "cell_type": "markdown",
      "metadata": {},
      "source": [
        "Explain what does the macro `@fastmath` do? And why are the bitcodes for `g` and `g_fastmath` with `Float64` input different? (Hint: Q2)\n",
        "\n",
        "### 1.\n"
      ],
      "id": "917d4232"
    },
    {
      "cell_type": "code",
      "metadata": {},
      "source": [
        "@code_llvm g(1)"
      ],
      "id": "5a24adb4",
      "execution_count": null,
      "outputs": []
    },
    {
      "cell_type": "markdown",
      "metadata": {},
      "source": [
        "### 2.\n"
      ],
      "id": "c7f7844e"
    },
    {
      "cell_type": "code",
      "metadata": {},
      "source": [
        "@code_llvm g(1.1)"
      ],
      "id": "051b974c",
      "execution_count": null,
      "outputs": []
    },
    {
      "cell_type": "markdown",
      "metadata": {},
      "source": [
        "### 3.\n",
        "\n",
        "We can see that although we didn’t specify a type annotation. LLVM bitcodes were still generated depending on the appropriate argument type. LLVM code shows that , compared to the Float type (20 steps),  computation for Int type is much simpler (2 steps).\n",
        "\n",
        "### 4.\n"
      ],
      "id": "d35800a6"
    },
    {
      "cell_type": "code",
      "metadata": {},
      "source": [
        "@code_llvm g_fastmath(1)"
      ],
      "id": "05fde5ba",
      "execution_count": null,
      "outputs": []
    },
    {
      "cell_type": "code",
      "metadata": {},
      "source": [
        "@code_llvm g_fastmath(1.1)"
      ],
      "id": "f8932996",
      "execution_count": null,
      "outputs": []
    },
    {
      "cell_type": "markdown",
      "metadata": {},
      "source": [
        "As we can tell from the llvm code, `fastmath` deals with the Float types in a more efficient way (2 steps) than the original method (20 steps). But we need to be careful when using this tool, since in document it states that this method\n",
        "\n",
        "> Execute a transformed version of the expression, which calls functions that may violate strict IEEE semantics. This allows the fastest possible operation, but results are undefined – be careful when doing this, as it may change numerical results.\n",
        "\n",
        "\n",
        "## Q4\n",
        "\n",
        "Create the vector `x = (0.988, 0.989, 0.990, ..., 1.010, 1.011, 1.012)`.\n",
        "\n",
        "1.  Plot the polynomial `y = x^7 - 7x^6 + 21x^5 - 35x^4 + 35x^3 - 21x^2 + 7x - 1` at points `x`.\n",
        "\n",
        "2.  Plot the polynomial `y = (x - 1)^7` at points `x`.\n",
        "\n",
        "3.  Explain what you found.\n",
        "\n",
        "### 1.\n"
      ],
      "id": "4256ff6b"
    },
    {
      "cell_type": "code",
      "metadata": {},
      "source": [
        "x = [0.988:0.001:1.012...]\n",
        "function f1(x::Real)\n",
        "    x^7 - 7x^6 + 21x^5 - 35x^4 + 35x^3 - 21x^2 + 7x - 1\n",
        "end\n",
        "\n",
        "lines(x, f1, color = :red, label = \"polynomial 1\")\n",
        "axislegend()\n",
        "current_figure()"
      ],
      "id": "f9fd97eb",
      "execution_count": null,
      "outputs": []
    },
    {
      "cell_type": "markdown",
      "metadata": {},
      "source": [
        "### 2.\n"
      ],
      "id": "4b957a35"
    },
    {
      "cell_type": "code",
      "metadata": {},
      "source": [
        "x = [0.988:0.001:1.012...]\n",
        "function f2(x :: Real)\n",
        "    (x - 1)^7\n",
        "end\n",
        "lines(x, f2, color = :blue, label = \"polynomial 2\")\n",
        "axislegend()\n",
        "current_figure()"
      ],
      "id": "42c39a0c",
      "execution_count": null,
      "outputs": []
    },
    {
      "cell_type": "markdown",
      "metadata": {},
      "source": [
        "### 3.\n",
        "\n",
        "Here we plot `y = x^7 - 7x^6 + 21x^5 - 35x^4 + 35x^3 - 21x^2 + 7x - 1` and `y = (x - 1)^7` together:\n"
      ],
      "id": "c1220316"
    },
    {
      "cell_type": "code",
      "metadata": {},
      "source": [
        "lines(x, f1, color = :red, label = \"polynomial 1\")\n",
        "lines!(x, f2, color = :blue, label = \"polynomial 2\")\n",
        "axislegend()\n",
        "current_figure()"
      ],
      "id": "3f62bc7e",
      "execution_count": null,
      "outputs": []
    },
    {
      "cell_type": "markdown",
      "metadata": {},
      "source": [
        "We can find that `y = (x - 1)^7` is smoother than `y = x^7 - 7x^6 + 21x^5 - 35x^4 + 35x^3 - 21x^2 + 7x - 1`. Possible reason: `y = x^7 - 7x^6 + 21x^5 - 35x^4 + 35x^3 - 21x^2 + 7x - 1` did much more rounding than `y = (x - 1)^7` because it calculated each block separately (`x^7`, `7x^6`, ...) and lost more precision.\n",
        "\n",
        "## Q5\n",
        "\n",
        "1.  Show the **Sherman-Morrison formula** $$\n",
        "     (\\mathbf{A} + \\mathbf{u} \\mathbf{u}^T)^{-1} = \\mathbf{A}^{-1} - \\frac{1}{1 + \\mathbf{u}^T \\mathbf{A}^{-1} \\mathbf{u}} \\mathbf{A}^{-1} \\mathbf{u} \\mathbf{u}^T \\mathbf{A}^{-1},\n",
        "    $$ where $\\mathbf{A} \\in \\mathbb{R}^{n \\times n}$ is nonsingular and $\\mathbf{u} \\in \\mathbb{R}^n$. This formula supplies the inverse of the symmetric, rank-one perturbation of $\\mathbf{A}$.\n",
        "\n",
        "2.  Show the **Woodbury formula** $$\n",
        "     (\\mathbf{A} + \\mathbf{U} \\mathbf{V}^T)^{-1} = \\mathbf{A}^{-1} - \\mathbf{A}^{-1} \\mathbf{U} (\\mathbf{I}_m + \\mathbf{V}^T \\mathbf{A}^{-1} \\mathbf{U})^{-1} \\mathbf{V}^T \\mathbf{A}^{-1},\n",
        "    $$ where $\\mathbf{A} \\in \\mathbb{R}^{n \\times n}$ is nonsingular, $\\mathbf{U}, \\mathbf{V} \\in \\mathbb{R}^{n \\times m}$, and $\\mathbf{I}_m$ is the $m \\times m$ identity matrix. In many applications $m$ is much smaller than $n$. Woodbury formula generalizes Sherman-Morrison and is valuable because the smaller matrix $\\mathbf{I}_m + \\mathbf{V}^T \\mathbf{A}^{-1} \\mathbf{U}$ is cheaper to invert than the larger matrix $\\mathbf{A} + \\mathbf{U} \\mathbf{V}^T$.\n",
        "\n",
        "3.  Show the **binomial inversion formula** $$\n",
        "     (\\mathbf{A} + \\mathbf{U} \\mathbf{B} \\mathbf{V}^T)^{-1} = \\mathbf{A}^{-1} - \\mathbf{A}^{-1} \\mathbf{U} (\\mathbf{B}^{-1} + \\mathbf{V}^T \\mathbf{A}^{-1} \\mathbf{U})^{-1} \\mathbf{V}^T \\mathbf{A}^{-1},\n",
        "    $$ where $\\mathbf{A}$ and $\\mathbf{B}$ are nonsingular.\n",
        "\n",
        "4.  Show the identity $$\n",
        "     \\text{det}(\\mathbf{A} + \\mathbf{U} \\mathbf{V}^T) = \\text{det}(\\mathbf{A}) \\text{det}(\\mathbf{I}_m + \\mathbf{V}^T \\mathbf{A}^{-1} \\mathbf{U}).\n",
        "    $$ This formula is useful for evaluating the density of a multivariate normal with covariance matrix $\\mathbf{A} + \\mathbf{U} \\mathbf{V}^T$.\n",
        "\n",
        "**Hint**: 1 and 2 are special cases of 3. For 4, show that $$\n",
        "\\begin{pmatrix}\n",
        "- \\mathbf{A} & \\mathbf{O} \\\\\n",
        "\\mathbf{O} & \\mathbf{I} + \\mathbf{V}^T \\mathbf{A}^{-1} \\mathbf{U}\n",
        "\\end{pmatrix} = \\begin{pmatrix}\n",
        "\\mathbf{I} & \\mathbf{O} \\\\\n",
        "\\mathbf{V}^T \\mathbf{A}^{-1} & \\mathbf{I}\n",
        "\\end{pmatrix} \\begin{pmatrix}\n",
        "- \\mathbf{A} & \\mathbf{U} \\\\\n",
        "\\mathbf{V}^T & \\mathbf{I}\n",
        "\\end{pmatrix} \\begin{pmatrix}\n",
        "\\mathbf{I} & \\mathbf{A}^{-1} \\mathbf{U} \\\\\n",
        "\\mathbf{O} & \\mathbf{I}\n",
        "\\end{pmatrix}.\n",
        "$$\n",
        "\n",
        "### 3.\n",
        "\n",
        "Proof:\n",
        "\n",
        "Firstly, we can\n",
        "\n",
        "$$\n",
        "\\begin{aligned}\n",
        "& \\left(A+U B V^{\\top}\\right)\\left(A^{-1}-A^{-1} U\\left(B^{-1}+V^{\\top} A^{-1} U\\right)^{-1} V^{\\top} A^{-1}\\right) \\\\\n",
        "= & I+U B V^{\\top} A^{-1}-U\\left(B^{-1}+V^{\\top} A^{-1} U\\right)^{-1} V^{\\top} A^{-1}-U B V^{\\top} A^{-1} U\\left(B^{-1}+V^{\\top} A^{-1} U\\right)^{-1} V^{\\top} A^{-1} \\\\\n",
        "= & I+U B V^{\\top} A^{-1}-\\left(U+U B V^{\\top} A^{-1} U\\right)\\left(B^{-1}+V^{\\top} A^{-1} U\\right)^{-1} V^{\\top} A^{-1} \\\\\n",
        "= & I+U B V^{\\top} A^{-1}-U B\\left(B^{-1}+V^{\\top} A^{-1} U\\right)\\left(B^{-1}+V^{\\top} A^{-1} U\\right)^{-1} V^{\\top} A^{-1} \\\\\n",
        "= & I+U B V^{\\top} A^{-1}-U B V^{\\top} A^{-1} \\\\\n",
        "= & I\n",
        "\\end{aligned}\n",
        "$$\n",
        "\n",
        "Since $\\left(A+U B V^{\\top}\\right)^{-1}$ exist, we have,\n",
        "\n",
        "$$\n",
        "\\begin{aligned}\n",
        "\\left(A+U B V^{\\top}\\right)^{-1} I & =(A+U B V)^{-1}\\left(A+U B U^{\\top}\\right)\\left(A^{-1}-A^{-1} U\\left(B^{-1}+U^{\\top} A^{-1} U\\right)^{-1} U^{\\top} A^{-1}\\right) \\\\\n",
        "\\left(A+U B V^{\\top}\\right)^{-1} & \\left.=A^{-1}-A^{-1} U\\left(B^{-1}+V^{\\top} A^{\\top} U\\right)^{-1} V^{\\top} A^{-1}\\right.\n",
        "\\end{aligned}\n",
        "$$\n",
        "\n",
        "### 1.\n",
        "\n",
        "Based on what we derived in Q3, we set $\\mathbf{u}=U, \\mathbf{u}^{T}=V$ and $\\mathbf{I}_1=B$, then we can get,\n",
        "\n",
        "$$\n",
        "    (\\mathbf{A} + \\mathbf{u} \\mathbf{u}^T)^{-1} = \\mathbf{A}^{-1} - \\frac{1}{1 + \\mathbf{u}^T \\mathbf{A}^{-1} \\mathbf{u}} \\mathbf{A}^{-1} \\mathbf{u} \\mathbf{u}^T \\mathbf{A}^{-1},\n",
        "$$\n",
        "\n",
        "where $\\mathbf{A} \\in \\mathbb{R}^{n \\times n}$ is nonsingular and $\\mathbf{u} \\in \\mathbb{R}^n$. This formula supplies the inverse of the symmetric, rank-one perturbation of $\\mathbf{A}$.\n",
        "\n",
        "### 2.\n",
        "\n",
        "Based on what we derived in Q3, we set $\\mathbf{I}_m=B$, then we can get,\n",
        "\n",
        "$$\n",
        "    (\\mathbf{A} + \\mathbf{U} \\mathbf{V}^T)^{-1} = \\mathbf{A}^{-1} - \\mathbf{A}^{-1} \\mathbf{U} (\\mathbf{I}_m + \\mathbf{V}^T \\mathbf{A}^{-1} \\mathbf{U})^{-1} \\mathbf{V}^T \\mathbf{A}^{-1},\n",
        "$$\n",
        "\n",
        "where $\\mathbf{A} \\in \\mathbb{R}^{n \\times n}$ is nonsingular, $\\mathbf{U}, \\mathbf{V} \\in \\mathbb{R}^{n \\times m}$, and $\\mathbf{I}_m$ is the $m \\times m$ identity matrix.\n",
        "\n",
        "### 4.\n",
        "\n",
        "Firstly, we can derive the relationship, $$\n",
        "\\begin{aligned}\n",
        "& \\left(\\begin{array}{cc}\n",
        "I & 0 \\\\\n",
        "V^{\\top} A^{-1} & I\n",
        "\\end{array}\\right)\\left(\\begin{array}{cc}\n",
        "-A & U \\\\\n",
        "V^{\\top} & I\n",
        "\\end{array}\\right)\\left(\\begin{array}{cc}\n",
        "I & A^{-1} U \\\\\n",
        "0 & I\n",
        "\\end{array}\\right) \\\\\n",
        "=& \\left(\\begin{array}{cc}\n",
        "-A& U  \\\\\n",
        "-V^{-} A^{-1} A+V^{\\top} &V^{\\top} A^{-1} U+I\\end{array}\\right)\\left(\\begin{array}{cc}\n",
        "I & A^{-1} U \\\\\n",
        "0 & I\n",
        "\\end{array}\\right) \\\\\n",
        "=& \\left(\\begin{array}{cc}\n",
        "-A & U \\\\\n",
        "0 & V^{\\top} A^{-1} U+I\n",
        "\\end{array}\\right)\\left(\\begin{array}{cc}\n",
        "I & A^{-1} U \\\\\n",
        "0 & I\n",
        "\\end{array}\\right) \\\\\n",
        "=& \\left(\\begin{array}{cc}\n",
        "-A & -A A^{-1} U+U \\\\\n",
        "0 & V^{\\top} A^{-1} U+I\n",
        "\\end{array}\\right) \\\\\n",
        " =&\\left(\\begin{array}{cc}\n",
        "-A & 0 \\\\\n",
        "0 & I+V^{\\top} A^{-1} U\n",
        "\\end{array}\\right)\n",
        "\\end{aligned}\n",
        "$$\n",
        "\n",
        "Then we know\n",
        "\n",
        "$$\n",
        "\\begin{aligned}\n",
        " \\operatorname{det}\\left(\\begin{array}{cc}\n",
        "-A & 0 \\\\\n",
        "0 & I+V^{\\top} A^{-1} U\n",
        "\\end{array}\\right)&=\\operatorname{det}\\left(\\begin{array}{cc}\n",
        "I & 0 \\\\\n",
        "V^{\\top} A^{-1} & I\n",
        "\\end{array}\\right)\\left(\\begin{array}{cc}\n",
        "-A & U \\\\\n",
        "V^{\\top} & I\n",
        "\\end{array}\\right)\\left(\\begin{array}{cc}\n",
        "I & A^{-1} U \\\\\n",
        "0 & I\n",
        "\\end{array}\\right) \\\\\n",
        " \\operatorname{det}(-A) \\operatorname{det}\\left(I+V^{\\top} A^{-1} U\\right)&= 1 * \\operatorname{det}\\left(\\begin{array}{cc}\n",
        "-A & U \\\\\n",
        "V^{\\top} & I\n",
        "\\end{array}\\right)* 1 \\\\\n",
        " \\operatorname{det}\\left(A+U V^{\\top}\\right)&=\\operatorname{det}(A) \\operatorname{det}\\left(I+V^{\\top} A^{-1} U\\right)\n",
        "\\end{aligned}\n",
        "$$\n",
        "\n",
        "## Q6\n",
        "\n",
        "Demonstrate the following facts about triangular and orthogonal matrices in Julia (one numerical example for each fact). Mathematically curious ones are also encouraged to prove them.\n",
        "\n",
        "Note a unit triangular matrix is a triangular matrix with all diagonal entries being 1.\n",
        "\n",
        "1.  The product of two upper (lower) triangular matrices is upper (lower) triangular.\n",
        "\n",
        "2.  The inverse of an upper (lower) triangular matrix is upper (lower) triangular.\n",
        "\n",
        "3.  The product of two unit upper (lower) triangular matrices is unit upper (lower) triangular.\n",
        "\n",
        "4.  The inverse of a unit upper (lower) triangular matrix is unit upper (lower) triangular.\n",
        "\n",
        "5.  An orthogonal upper (lower) triangular matrix is diagonal. (You just need to prove this.)\n",
        "\n",
        "6.  The product of two orthogonal matrices is orthogonal.\n",
        "\n",
        "### 1.\n"
      ],
      "id": "889c37a3"
    },
    {
      "cell_type": "code",
      "metadata": {},
      "source": [
        "Random.seed!(257)\n",
        "upp1 = UpperTriangular(randn(3, 3))\n",
        "upp2 = UpperTriangular(randn(3, 3))\n",
        "upp1 * upp2"
      ],
      "id": "40e5454c",
      "execution_count": null,
      "outputs": []
    },
    {
      "cell_type": "markdown",
      "metadata": {},
      "source": [
        "### 2.\n"
      ],
      "id": "18a06b8d"
    },
    {
      "cell_type": "code",
      "metadata": {},
      "source": [
        "Random.seed!(257)\n",
        "upp = UpperTriangular(randn(3, 3))\n",
        "inv(upp)"
      ],
      "id": "75197dcb",
      "execution_count": null,
      "outputs": []
    },
    {
      "cell_type": "markdown",
      "metadata": {},
      "source": [
        "### 3.\n"
      ],
      "id": "dac32454"
    },
    {
      "cell_type": "code",
      "metadata": {},
      "source": [
        "Random.seed!(257)\n",
        "upp1 = UpperTriangular(randn(3, 3))\n",
        "upp2 = UpperTriangular(randn(3, 3))\n",
        "for i in 1:3\n",
        "  upp1[i, i] = 1\n",
        "  upp2[i, i] = 1\n",
        "end\n",
        "upp1 * upp2 "
      ],
      "id": "8b50d62a",
      "execution_count": null,
      "outputs": []
    },
    {
      "cell_type": "markdown",
      "metadata": {},
      "source": [
        "### 4.\n"
      ],
      "id": "de461e51"
    },
    {
      "cell_type": "code",
      "metadata": {},
      "source": [
        "Random.seed!(257)\n",
        "upp = UpperTriangular(randn(3, 3))\n",
        "for i in 1:3\n",
        "  upp[i, i] = 1\n",
        "end\n",
        "inv(upp)"
      ],
      "id": "6c45ab9b",
      "execution_count": null,
      "outputs": []
    },
    {
      "cell_type": "markdown",
      "metadata": {},
      "source": [
        "### 5.\n",
        "\n",
        "Consider a $2 \\times 2$ orthogonal upper matrix $A$,\n",
        "\n",
        "$$\n",
        "\\text { Let } A=\\left[\\begin{array}{ll}\n",
        "a & b \\\\\n",
        "0 & c\n",
        "\\end{array}\\right]\n",
        "$$\n",
        "\n",
        "Since it is orthogonal, we know $AA^{'}=I$,\n",
        "\n",
        "$$\n",
        "\\begin{aligned}\n",
        "\\Rightarrow & {\\left[\\begin{array}{ll}\n",
        "a & b \\\\\n",
        "0 & c\n",
        "\\end{array}\\right]\\left[\\begin{array}{ll}\n",
        "a & 0 \\\\\n",
        "b & c\n",
        "\\end{array}\\right]=\\left[\\begin{array}{cc}\n",
        "a^{2}+b^{2} & b c \\\\\n",
        "c b & c^{2}\n",
        "\\end{array}\\right]=I }\n",
        "\\end{aligned}\n",
        "$$\n",
        "\n",
        "Then it's easy to get,\n",
        "\n",
        "$$\n",
        "\\left\\{\\begin{array}{l}\n",
        "a= \\pm 1 \\\\\n",
        "b=0 \\\\\n",
        "c= \\pm 1\n",
        "\\end{array}\\right.\n",
        "$$\n",
        "\n",
        "in $3 \\times 3$ matrix $A$, we can partition it into 4 parts,\n",
        "\n",
        "$$\n",
        "A=\\left[\\begin{array}{ll}B & C \\\\ 0 & D\\end{array}\\right]\n",
        "$$ \n",
        ", here $B$ is $2 \\times 2$ upper matrix.\n",
        "\n",
        "Similar as $2 \\times 2$ case, we can get \n",
        "\n",
        "$$\n",
        "\\left\\{\\begin{array}{l}\n",
        "B^{'}B=I_{2} \\\\\n",
        "C=0 \\\\\n",
        "D= \\pm 1\n",
        "\\end{array}\\right.\n",
        "$$\n",
        "\n",
        "Since we already know $2 \\times 2$ orthogonal upper matrix is diagonal, then we know $B$ is diagonal.\n",
        "\n",
        "Then, by induction, we know that all orthogonal upper (lower) triangular matrix is diagonal.\n",
        "\n",
        "### 6.\n"
      ],
      "id": "07396c1c"
    },
    {
      "cell_type": "code",
      "metadata": {},
      "source": [
        "Random.seed!(257)\n",
        "Q1, R1 = qr(randn(3,3))\n",
        "Q2, R2 = qr(randn(3,3))\n",
        "round.(transpose(Q1 * Q2) * (Q1 * Q2); digits = 4)"
      ],
      "id": "fa584fe4",
      "execution_count": null,
      "outputs": []
    },
    {
      "cell_type": "markdown",
      "metadata": {},
      "source": [
        "Let $A, B$ be two compatible orthogonal matrix, we have,\n",
        "\n",
        "$$\n",
        "A^{'} A=I\\\\\n",
        "B^{'} B=I\n",
        "$$\n",
        "\n",
        "Then, \n",
        "\n",
        "$$\n",
        "\\begin{aligned}\n",
        "(A B)^{\\prime}(A B)&=B^{\\prime} A^{\\prime} A B\\\\\n",
        "& =B^{\\prime} I B \\\\\n",
        "& =I\n",
        "\\end{aligned}\n",
        "$$\n",
        "\n",
        "Thus we know $AB$ is also orthogonal matrix\n",
        "\n",
        "## Q7\n",
        "\n",
        "Let the $n \\times n$ matrix `H` have elements `H[i, j] = 1 / (i + j - 1)`.\n",
        "\n",
        "1.  Write a function `h(n)` that outputs $n \\times n$ matrix `H`. Try at least 4 ways, e.g., $ij$-looping, $ji$-looping, [comprehension](https://docs.julialang.org/en/v1/manual/arrays/#man-comprehensions), and vectorization (R style). Compute and print `H` for `n = 5`.\n",
        "\n",
        "2.  Compare their efficiencies (using `BenchmarkTools`) at `n = 5000`.\n",
        "\n",
        "### 1.\n",
        "\n",
        "#### $ij$-looping\n"
      ],
      "id": "d3e7e6d6"
    },
    {
      "cell_type": "code",
      "metadata": {},
      "source": [
        "n = 5\n",
        "H = Matrix{Float64}(undef, n, n)\n",
        "function hij(n::Int, H::Matrix{Float64})\n",
        "    for i in 1:n, j in 1:n\n",
        "        H[i, j] = 1 / (i + j - 1)\n",
        "    end\n",
        "    H\n",
        "end\n",
        "hij(5, H)"
      ],
      "id": "e1e1cd6f",
      "execution_count": null,
      "outputs": []
    },
    {
      "cell_type": "markdown",
      "metadata": {},
      "source": [
        "#### $ji$-looping\n"
      ],
      "id": "94bd77ba"
    },
    {
      "cell_type": "code",
      "metadata": {},
      "source": [
        "function hji(n::Int, H::Matrix{Float64})\n",
        "    for j in 1:n, i in 1:n\n",
        "        H[i, j] = 1 / (i + j - 1)\n",
        "    end\n",
        "    H\n",
        "end\n",
        "hji(5, H)"
      ],
      "id": "dc4ba27e",
      "execution_count": null,
      "outputs": []
    },
    {
      "cell_type": "markdown",
      "metadata": {},
      "source": [
        "#### $ij$-looping (with turbo speed up)\n"
      ],
      "id": "a1021c44"
    },
    {
      "cell_type": "code",
      "metadata": {},
      "source": [
        "function hijt(n::Int, H::Matrix{Float64})\n",
        "    @turbo for i in 1:n, j in 1:n\n",
        "        H[i, j] = 1 / (i + j - 1)\n",
        "    end\n",
        "    H\n",
        "end\n",
        "hijt(5, H)"
      ],
      "id": "76f54678",
      "execution_count": null,
      "outputs": []
    },
    {
      "cell_type": "markdown",
      "metadata": {},
      "source": [
        "#### $ji$-looping (with turbo speed up)\n"
      ],
      "id": "a00b7e4e"
    },
    {
      "cell_type": "code",
      "metadata": {},
      "source": [
        "function hjit(n::Int, H::Matrix{Float64})\n",
        "    @turbo for j in 1:n, i in 1:n\n",
        "        H[i, j] = 1 / (i + j - 1)\n",
        "    end\n",
        "    H\n",
        "end\n",
        "hjit(5, H)"
      ],
      "id": "3578ee23",
      "execution_count": null,
      "outputs": []
    },
    {
      "cell_type": "markdown",
      "metadata": {},
      "source": [
        "#### $ij$-looping (with tturbo speed up)\n"
      ],
      "id": "06fb1196"
    },
    {
      "cell_type": "code",
      "metadata": {},
      "source": [
        "function hijtt(n::Int, H::Matrix{Float64})\n",
        "    @tturbo for i in 1:n, j in 1:n\n",
        "        H[i, j] = 1 / (i + j - 1)\n",
        "    end\n",
        "    H\n",
        "end\n",
        "hijtt(5, H)"
      ],
      "id": "31cd0cc7",
      "execution_count": null,
      "outputs": []
    },
    {
      "cell_type": "markdown",
      "metadata": {},
      "source": [
        "#### $ji$-looping (with tturbo speed up)\n"
      ],
      "id": "d86b6272"
    },
    {
      "cell_type": "code",
      "metadata": {},
      "source": [
        "function hjitt(n::Int, H::Matrix{Float64})\n",
        "    @tturbo for j in 1:n, i in 1:n\n",
        "        H[i, j] = 1 / (i + j - 1)\n",
        "    end\n",
        "    H\n",
        "end\n",
        "hjitt(5, H)"
      ],
      "id": "598cd7aa",
      "execution_count": null,
      "outputs": []
    },
    {
      "cell_type": "markdown",
      "metadata": {},
      "source": [
        "#### comprehension\n"
      ],
      "id": "1b8b9813"
    },
    {
      "cell_type": "code",
      "metadata": {},
      "source": [
        "function hcom(n::Int, H::Matrix{Float64})\n",
        "    H = [1 / (i + j - 1) for i in 1:n, j in 1:n]\n",
        "    H\n",
        "end\n",
        "hcom(5, H)"
      ],
      "id": "99fd0ef3",
      "execution_count": null,
      "outputs": []
    },
    {
      "cell_type": "markdown",
      "metadata": {},
      "source": [
        "#### vectorization\n"
      ],
      "id": "21b23d1b"
    },
    {
      "cell_type": "code",
      "metadata": {},
      "source": [
        "function hvec(indices::UnitRange{Int64}, H::Matrix{Float64})\n",
        "    H = 1 ./ (indices .+ transpose(indices) .- 1)\n",
        "    H\n",
        "end\n",
        "hvec(1:5, H)"
      ],
      "id": "c1ad7c55",
      "execution_count": null,
      "outputs": []
    },
    {
      "cell_type": "markdown",
      "metadata": {},
      "source": [
        "### 2.\n"
      ],
      "id": "7d7ee9c3"
    },
    {
      "cell_type": "code",
      "metadata": {},
      "source": [
        "# prepare matrix and dictionary\n",
        "n = 5000\n",
        "H = Matrix{Float64}(undef, n, n)\n",
        "benchmark_result = Dict() "
      ],
      "id": "5520751d",
      "execution_count": null,
      "outputs": []
    },
    {
      "cell_type": "code",
      "metadata": {},
      "source": [
        "# ji looping\n",
        "bmij = @benchmark hij(5000, $H)"
      ],
      "id": "edfe62f2",
      "execution_count": null,
      "outputs": []
    },
    {
      "cell_type": "code",
      "metadata": {},
      "source": [
        "# ji looping\n",
        "bmji = @benchmark hji(5000, $H)"
      ],
      "id": "ec79293e",
      "execution_count": null,
      "outputs": []
    },
    {
      "cell_type": "code",
      "metadata": {},
      "source": [
        "# ij looping (with turbo speed up)\n",
        "bmijt = @benchmark hijt(5000, $H)"
      ],
      "id": "c4799b41",
      "execution_count": null,
      "outputs": []
    },
    {
      "cell_type": "code",
      "metadata": {},
      "source": [
        "# ji looping (with turbo speed up)\n",
        "bmjit = @benchmark hjit(5000, $H)"
      ],
      "id": "79d11a72",
      "execution_count": null,
      "outputs": []
    },
    {
      "cell_type": "code",
      "metadata": {},
      "source": [
        "# ij looping (with tturbo speed up)\n",
        "bmijtt = @benchmark hijtt(5000, $H)"
      ],
      "id": "c208716a",
      "execution_count": null,
      "outputs": []
    },
    {
      "cell_type": "code",
      "metadata": {},
      "source": [
        "# ji looping (with tturbo speed up)\n",
        "bmjitt = @benchmark hjitt(5000, $H)"
      ],
      "id": "e6dea8b5",
      "execution_count": null,
      "outputs": []
    },
    {
      "cell_type": "code",
      "metadata": {},
      "source": [
        "# comprehension\n",
        "bmcom = @benchmark hcom(5000, $H)"
      ],
      "id": "37b136cc",
      "execution_count": null,
      "outputs": []
    },
    {
      "cell_type": "code",
      "metadata": {},
      "source": [
        "# vectorization\n",
        "bmvec = @benchmark hvec(1:5000, $H)"
      ],
      "id": "bf91755a",
      "execution_count": null,
      "outputs": []
    },
    {
      "cell_type": "markdown",
      "metadata": {},
      "source": [
        "#### Summary table\n"
      ],
      "id": "da8185c6"
    },
    {
      "cell_type": "code",
      "metadata": {},
      "source": [
        "benchmark_result[\"ij-looping\"] = median(bmij.times) \n",
        "benchmark_result[\"ji-looping\"] = median(bmji.times) \n",
        "benchmark_result[\"ij-looping (turbo)\"] = median(bmijt.times) \n",
        "benchmark_result[\"ji-looping (turbo)\"] = median(bmjit.times) \n",
        "benchmark_result[\"ij-looping (tturbo)\"] = median(bmijtt.times) \n",
        "benchmark_result[\"ji-looping (tturbo)\"] = median(bmjitt.times) \n",
        "benchmark_result[\"comprehension\"] = median(bmcom.times) \n",
        "benchmark_result[\"vectorization\"] = median(bmvec.times) \n",
        "sort(collect(benchmark_result), by = x -> x[2])"
      ],
      "id": "b489c9bc",
      "execution_count": null,
      "outputs": []
    },
    {
      "cell_type": "markdown",
      "metadata": {},
      "source": [
        "As we can tell from the table, `ij-looping (turbo)` performed the best. When equipped with `turbo` tool, both `ij-looping` and `ji-looping` performs better than `comprehension` and `vectorization`. However, without `turbo` tool, `ij-looping` is the slower than `comprehension` and `vectorization`. Here we can also see that the multithreads `tturbo` did not improve the speed. The possible reason is that the number of the loop did is not large enough and it also took time to run the multithreads function.\n"
      ],
      "id": "3cd3223d"
    }
  ],
  "metadata": {
    "kernelspec": {
      "display_name": "Julia (16 threads) 1.8.5",
      "language": "julia",
      "name": "julia-_16-threads_-1.8"
    },
    "jupytext": {
      "formats": "ipynb,qmd",
      "text_representation": {
        "extension": ".qmd",
        "format_name": "quarto",
        "format_version": "1.0",
        "jupytext_version": "1.14.5"
      }
    }
  },
  "nbformat": 4,
  "nbformat_minor": 5
}