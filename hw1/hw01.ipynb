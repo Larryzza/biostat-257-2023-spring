{
 "cells": [
  {
   "cell_type": "raw",
   "metadata": {},
   "source": [
    "---\n",
    "title: Biostat/Biomath M257 Homework 1\n",
    "subtitle: Due Apr 14 @ 11:59PM\n",
    "author: Zian ZHUANG (UID:405444165)\n",
    "date: Apr. 5\n",
    "format:\n",
    "  html:\n",
    "    theme: cosmo\n",
    "    embed-resources: true\n",
    "    number-sections: true\n",
    "    toc: true\n",
    "    toc-depth: 4\n",
    "    toc-location: left\n",
    "---"
   ]
  },
  {
   "cell_type": "code",
   "execution_count": 2,
   "metadata": {},
   "outputs": [
    {
     "name": "stdout",
     "output_type": "stream",
     "text": [
      "Julia Version 1.8.5\n",
      "Commit 17cfb8e65e (2023-01-08 06:45 UTC)\n",
      "Platform Info:\n",
      "  OS: Windows (x86_64-w64-mingw32)\n",
      "  CPU: 16 × AMD Ryzen 7 5800 8-Core Processor              \n",
      "  WORD_SIZE: 64\n",
      "  LIBM: libopenlibm\n",
      "  LLVM: libLLVM-13.0.1 (ORCJIT, znver3)\n",
      "  Threads: 1 on 16 virtual cores\n"
     ]
    }
   ],
   "source": [
    "versioninfo()"
   ]
  },
  {
   "cell_type": "code",
   "execution_count": 102,
   "metadata": {},
   "outputs": [
    {
     "name": "stderr",
     "output_type": "stream",
     "text": [
      "\u001b[32m\u001b[1m  Activating\u001b[22m\u001b[39m project at `C:\\Users\\larry\\Dropbox\\zza\\UCLA\\academic\\year 3\\quarter 3\\257\\biostat-257-2023-spring\\hw1`\n"
     ]
    },
    {
     "name": "stdout",
     "output_type": "stream",
     "text": [
      "\u001b[32m\u001b[1mStatus\u001b[22m\u001b[39m `C:\\Users\\larry\\Dropbox\\zza\\UCLA\\academic\\year 3\\quarter 3\\257\\biostat-257-2023-spring\\hw1\\Project.toml`\n",
      " \u001b[90m [bdcacae8] \u001b[39mLoopVectorization v0.12.157\n",
      " \u001b[90m [91a5bcdd] \u001b[39mPlots v1.38.9\n"
     ]
    }
   ],
   "source": [
    "using Pkg\n",
    "Pkg.activate(pwd())\n",
    "Pkg.instantiate()\n",
    "Pkg.status()\n",
    "using LoopVectorization, Random, Plots, LinearAlgebra"
   ]
  },
  {
   "cell_type": "markdown",
   "metadata": {},
   "source": [
    "## Q1\n",
    "\n",
    "**No handwritten homework reports are accepted for this course.**  We work with Git/GitHub.  Efficient and abundant use of Git, e.g., **frequent and well-documented** commits, is an important criterion for grading your homework.\n",
    "\n",
    "1. If you don't have a GitHub account, apply for the [Student Developer Pack](https://education.github.com/pack) at GitHub using your UCLA email.\n",
    "\n",
    "2. Create a **private** repository `biostat-257-2023-spring` and add `Hua-Zhou` and `parsajamshidian` (TA) as your collaborators.\n",
    "\n",
    "3. Top directories of the repository should be `hw1`, `hw2`, ... You may create other branches for developing your homework solutions; but the `master` branch will be your presentation area. Put your homework submission files (Jupyter notebook `.ipynb`, html converted from notebook, all code and data set to reproduce results) in the `master` branch. \n",
    "\n",
    "4. After each homework due date, teaching assistant and instructor will check out your `master` branch for grading. Tag each of your homework submissions with tag names `hw1`, `hw2`, ...  Tagging time will be used as your submission time. That means if you tag your hw1 submission after deadline, penalty points will be deducted for late submission.  \n",
    "\n",
    "5. Read the [style guide](https://github.com/invenia/BlueStyle) for Julia programming. Following rules in the style guide will be strictly enforced when grading: (1) four space indenting rule, (2) 92 charcter rule, (3) space after comma rule, (4) no space before comma rule, (5) space around binary operator rule."
   ]
  },
  {
   "cell_type": "markdown",
   "metadata": {},
   "source": [
    "### **Sol.**\n",
    "1. done\n",
    "2. done\n",
    "3. done\n",
    "4. done\n",
    "5. done"
   ]
  },
  {
   "cell_type": "markdown",
   "metadata": {},
   "source": [
    "## Q2\n",
    "\n",
    "Let's check whether floating-point numbers obey certain algebraic rules. For 2-5, one counter-example suffices.\n",
    "\n",
    "1. Associative rule for addition says `(x + y) + z == x + (y + z)`. Check association rule using `x = 0.1`, `y = 0.1` and `z = 1.0` in Julia. Explain what you find.\n",
    "\n",
    "2. Do floating-point numbers obey the associative rule for multiplication: `(x * y) * z == x * (y * z)`?\n",
    "\n",
    "3. Do floating-point numbers obey the distributive rule: `a * (x + y) == a * x + a * y`?  \n",
    "\n",
    "4. Is `0 * x == 0` true for all floating-point number `x`? \n",
    "\n",
    "5. Is `x / a == x * (1 / a)` always true?"
   ]
  },
  {
   "cell_type": "markdown",
   "metadata": {},
   "source": [
    "### **Sol.**\n",
    "\n",
    "#### 1. "
   ]
  },
  {
   "cell_type": "code",
   "execution_count": 7,
   "metadata": {},
   "outputs": [
    {
     "name": "stdout",
     "output_type": "stream",
     "text": [
      "(x + y) + z = 1.2;  x + (y + z) = 1.2000000000000002"
     ]
    },
    {
     "data": {
      "text/plain": [
       "false"
      ]
     },
     "execution_count": 7,
     "metadata": {},
     "output_type": "execute_result"
    }
   ],
   "source": [
    "x, y, z = 0.1, 0.1, 1.0\n",
    "print(\"(x + y) + z = \", (x + y) + z, \";  x + (y + z) = \", x + (y + z))\n",
    "(x + y) + z == x + (y + z)"
   ]
  },
  {
   "cell_type": "markdown",
   "metadata": {},
   "source": [
    "Explain:"
   ]
  },
  {
   "cell_type": "markdown",
   "metadata": {},
   "source": [
    "#### 2. "
   ]
  },
  {
   "cell_type": "code",
   "execution_count": 8,
   "metadata": {},
   "outputs": [
    {
     "name": "stdout",
     "output_type": "stream",
     "text": [
      "(x * y) * z = 0.010000000000000002;  x * (y * z) = 0.010000000000000002"
     ]
    },
    {
     "data": {
      "text/plain": [
       "true"
      ]
     },
     "execution_count": 8,
     "metadata": {},
     "output_type": "execute_result"
    }
   ],
   "source": [
    "print(\"(x * y) * z = \", (x * y) * z, \";  x * (y * z) = \", x * (y * z))\n",
    "(x * y) * z == x * (y * z)"
   ]
  },
  {
   "cell_type": "markdown",
   "metadata": {},
   "source": [
    "Yes floating-point numbers obey the associative rule for multiplication"
   ]
  },
  {
   "cell_type": "markdown",
   "metadata": {},
   "source": [
    "#### 3."
   ]
  },
  {
   "cell_type": "code",
   "execution_count": 10,
   "metadata": {},
   "outputs": [
    {
     "name": "stdout",
     "output_type": "stream",
     "text": [
      "z * (x + y) = 0.2;  z * x + z * y = 0.2"
     ]
    },
    {
     "data": {
      "text/plain": [
       "true"
      ]
     },
     "execution_count": 10,
     "metadata": {},
     "output_type": "execute_result"
    }
   ],
   "source": [
    "print(\"z * (x + y) = \", z * (x + y), \";  z * x + z * y = \", z * x + z * y)\n",
    "(x * y) * z == x * (y * z)"
   ]
  },
  {
   "cell_type": "markdown",
   "metadata": {},
   "source": [
    "#### 4."
   ]
  },
  {
   "cell_type": "code",
   "execution_count": 14,
   "metadata": {},
   "outputs": [
    {
     "data": {
      "text/plain": [
       "false"
      ]
     },
     "execution_count": 14,
     "metadata": {},
     "output_type": "execute_result"
    }
   ],
   "source": [
    "0 * Inf == 0"
   ]
  },
  {
   "cell_type": "markdown",
   "metadata": {},
   "source": [
    "Then we can see `0 * x == 0` is not always true for all floating-point number `x`."
   ]
  },
  {
   "cell_type": "markdown",
   "metadata": {},
   "source": [
    "#### 5."
   ]
  },
  {
   "cell_type": "code",
   "execution_count": 53,
   "metadata": {},
   "outputs": [
    {
     "name": "stdout",
     "output_type": "stream",
     "text": [
      "0.47468221721270687"
     ]
    }
   ],
   "source": [
    "Random.seed!(257)\n",
    "A = rand(100)\n",
    "for i in 1:100\n",
    "    if !(x / A[i] == x * (1 / A[i]))\n",
    "        print(A[i])\n",
    "        break\n",
    "    end\n",
    "end"
   ]
  },
  {
   "cell_type": "markdown",
   "metadata": {},
   "source": [
    "Then we can see `x / a == x * (1 / a)` is not always true (one example: `a = 0.47468221721270687`)."
   ]
  },
  {
   "cell_type": "markdown",
   "metadata": {},
   "source": [
    "## Q3\n",
    "\n",
    "Consider Julia function\n",
    "```julia\n",
    "function g(k)\n",
    "    for i in 1:10\n",
    "        k = 5k - 1\n",
    "    end\n",
    "    k\n",
    "end\n",
    "```\n",
    "1. Use `@code_llvm` to find the LLVM bitcode of compiled `g` with `Int64` input.   \n",
    "2. Use `@code_llvm` to find the LLVM bitcode of compiled `g` with `Float64` input.  \n",
    "3. Compare the bitcode from questions 1 and 2. What do you find?  \n",
    "4. Read Julia documentation on `@fastmath` and repeat the questions 1-3 on the function  \n",
    "\n",
    "```julia\n",
    "function g_fastmath(k)  \n",
    "    @fastmath for i in 1:10  \n",
    "        k = 5k - 1\n",
    "    end\n",
    "    k\n",
    "end\n",
    "```\n",
    "Explain what does the macro `@fastmath` do? And why are the bitcodes for `g` and `g_fastmath` with `Float64` input different? (Hint: Q2)"
   ]
  },
  {
   "cell_type": "markdown",
   "metadata": {},
   "source": [
    "## Q4\n",
    "\n",
    "Create the vector `x = (0.988, 0.989, 0.990, ..., 1.010, 1.011, 1.012)`.   \n",
    "\n",
    "1. Plot the polynomial `y = x^7 - 7x^6 + 21x^5 - 35x^4 + 35x^3 - 21x^2 + 7x - 1` at points `x`.  \n",
    "\n",
    "2. Plot the polynomial `y = (x - 1)^7` at points `x`.  \n",
    "\n",
    "3. Explain what you found."
   ]
  },
  {
   "cell_type": "markdown",
   "metadata": {},
   "source": [
    "### **Sol.**\n",
    "\n",
    "#### 1. "
   ]
  },
  {
   "cell_type": "code",
   "execution_count": 74,
   "metadata": {},
   "outputs": [
    {
     "data": {
      "image/svg+xml": [
       "<?xml version=\"1.0\" encoding=\"utf-8\"?>\n",
       "<svg xmlns=\"http://www.w3.org/2000/svg\" xmlns:xlink=\"http://www.w3.org/1999/xlink\" width=\"600\" height=\"400\" viewBox=\"0 0 2400 1600\">\n",
       "<defs>\n",
       "  <clipPath id=\"clip260\">\n",
       "    <rect x=\"0\" y=\"0\" width=\"2400\" height=\"1600\"/>\n",
       "  </clipPath>\n",
       "</defs>\n",
       "<path clip-path=\"url(#clip260)\" d=\"M0 1600 L2400 1600 L2400 0 L0 0  Z\" fill=\"#ffffff\" fill-rule=\"evenodd\" fill-opacity=\"1\"/>\n",
       "<defs>\n",
       "  <clipPath id=\"clip261\">\n",
       "    <rect x=\"480\" y=\"0\" width=\"1681\" height=\"1600\"/>\n",
       "  </clipPath>\n",
       "</defs>\n",
       "<path clip-path=\"url(#clip260)\" d=\"M369.025 1486.45 L2352.76 1486.45 L2352.76 47.2441 L369.025 47.2441  Z\" fill=\"#ffffff\" fill-rule=\"evenodd\" fill-opacity=\"1\"/>\n",
       "<defs>\n",
       "  <clipPath id=\"clip262\">\n",
       "    <rect x=\"369\" y=\"47\" width=\"1985\" height=\"1440\"/>\n",
       "  </clipPath>\n",
       "</defs>\n",
       "<polyline clip-path=\"url(#clip262)\" style=\"stroke:#000000; stroke-linecap:round; stroke-linejoin:round; stroke-width:2; stroke-opacity:0.1; fill:none\" points=\"581.122,1486.45 581.122,47.2441 \"/>\n",
       "<polyline clip-path=\"url(#clip262)\" style=\"stroke:#000000; stroke-linecap:round; stroke-linejoin:round; stroke-width:2; stroke-opacity:0.1; fill:none\" points=\"971.006,1486.45 971.006,47.2441 \"/>\n",
       "<polyline clip-path=\"url(#clip262)\" style=\"stroke:#000000; stroke-linecap:round; stroke-linejoin:round; stroke-width:2; stroke-opacity:0.1; fill:none\" points=\"1360.89,1486.45 1360.89,47.2441 \"/>\n",
       "<polyline clip-path=\"url(#clip262)\" style=\"stroke:#000000; stroke-linecap:round; stroke-linejoin:round; stroke-width:2; stroke-opacity:0.1; fill:none\" points=\"1750.77,1486.45 1750.77,47.2441 \"/>\n",
       "<polyline clip-path=\"url(#clip262)\" style=\"stroke:#000000; stroke-linecap:round; stroke-linejoin:round; stroke-width:2; stroke-opacity:0.1; fill:none\" points=\"2140.66,1486.45 2140.66,47.2441 \"/>\n",
       "<polyline clip-path=\"url(#clip260)\" style=\"stroke:#000000; stroke-linecap:round; stroke-linejoin:round; stroke-width:4; stroke-opacity:1; fill:none\" points=\"369.025,1486.45 2352.76,1486.45 \"/>\n",
       "<polyline clip-path=\"url(#clip260)\" style=\"stroke:#000000; stroke-linecap:round; stroke-linejoin:round; stroke-width:4; stroke-opacity:1; fill:none\" points=\"581.122,1486.45 581.122,1467.55 \"/>\n",
       "<polyline clip-path=\"url(#clip260)\" style=\"stroke:#000000; stroke-linecap:round; stroke-linejoin:round; stroke-width:4; stroke-opacity:1; fill:none\" points=\"971.006,1486.45 971.006,1467.55 \"/>\n",
       "<polyline clip-path=\"url(#clip260)\" style=\"stroke:#000000; stroke-linecap:round; stroke-linejoin:round; stroke-width:4; stroke-opacity:1; fill:none\" points=\"1360.89,1486.45 1360.89,1467.55 \"/>\n",
       "<polyline clip-path=\"url(#clip260)\" style=\"stroke:#000000; stroke-linecap:round; stroke-linejoin:round; stroke-width:4; stroke-opacity:1; fill:none\" points=\"1750.77,1486.45 1750.77,1467.55 \"/>\n",
       "<polyline clip-path=\"url(#clip260)\" style=\"stroke:#000000; stroke-linecap:round; stroke-linejoin:round; stroke-width:4; stroke-opacity:1; fill:none\" points=\"2140.66,1486.45 2140.66,1467.55 \"/>\n",
       "<path clip-path=\"url(#clip260)\" d=\"M528.344 1517.37 Q524.733 1517.37 522.905 1520.93 Q521.099 1524.47 521.099 1531.6 Q521.099 1538.71 522.905 1542.27 Q524.733 1545.82 528.344 1545.82 Q531.979 1545.82 533.784 1542.27 Q535.613 1538.71 535.613 1531.6 Q535.613 1524.47 533.784 1520.93 Q531.979 1517.37 528.344 1517.37 M528.344 1513.66 Q534.154 1513.66 537.21 1518.27 Q540.289 1522.85 540.289 1531.6 Q540.289 1540.33 537.21 1544.94 Q534.154 1549.52 528.344 1549.52 Q522.534 1549.52 519.455 1544.94 Q516.4 1540.33 516.4 1531.6 Q516.4 1522.85 519.455 1518.27 Q522.534 1513.66 528.344 1513.66 Z\" fill=\"#000000\" fill-rule=\"nonzero\" fill-opacity=\"1\" /><path clip-path=\"url(#clip260)\" d=\"M548.506 1542.97 L553.39 1542.97 L553.39 1548.85 L548.506 1548.85 L548.506 1542.97 Z\" fill=\"#000000\" fill-rule=\"nonzero\" fill-opacity=\"1\" /><path clip-path=\"url(#clip260)\" d=\"M563.714 1548.13 L563.714 1543.87 Q565.474 1544.7 567.279 1545.14 Q569.085 1545.58 570.821 1545.58 Q575.451 1545.58 577.881 1542.48 Q580.335 1539.36 580.682 1533.01 Q579.339 1535.01 577.279 1536.07 Q575.219 1537.13 572.719 1537.13 Q567.534 1537.13 564.502 1534.01 Q561.492 1530.86 561.492 1525.42 Q561.492 1520.1 564.64 1516.88 Q567.789 1513.66 573.02 1513.66 Q579.015 1513.66 582.163 1518.27 Q585.335 1522.85 585.335 1531.6 Q585.335 1539.77 581.446 1544.66 Q577.58 1549.52 571.029 1549.52 Q569.27 1549.52 567.464 1549.17 Q565.659 1548.82 563.714 1548.13 M573.02 1533.48 Q576.168 1533.48 577.997 1531.32 Q579.849 1529.17 579.849 1525.42 Q579.849 1521.7 577.997 1519.54 Q576.168 1517.37 573.02 1517.37 Q569.872 1517.37 568.02 1519.54 Q566.191 1521.7 566.191 1525.42 Q566.191 1529.17 568.02 1531.32 Q569.872 1533.48 573.02 1533.48 Z\" fill=\"#000000\" fill-rule=\"nonzero\" fill-opacity=\"1\" /><path clip-path=\"url(#clip260)\" d=\"M593.876 1548.13 L593.876 1543.87 Q595.636 1544.7 597.441 1545.14 Q599.247 1545.58 600.983 1545.58 Q605.612 1545.58 608.043 1542.48 Q610.497 1539.36 610.844 1533.01 Q609.501 1535.01 607.441 1536.07 Q605.381 1537.13 602.881 1537.13 Q597.696 1537.13 594.663 1534.01 Q591.654 1530.86 591.654 1525.42 Q591.654 1520.1 594.802 1516.88 Q597.95 1513.66 603.182 1513.66 Q609.177 1513.66 612.325 1518.27 Q615.497 1522.85 615.497 1531.6 Q615.497 1539.77 611.608 1544.66 Q607.742 1549.52 601.191 1549.52 Q599.432 1549.52 597.626 1549.17 Q595.821 1548.82 593.876 1548.13 M603.182 1533.48 Q606.33 1533.48 608.159 1531.32 Q610.011 1529.17 610.011 1525.42 Q610.011 1521.7 608.159 1519.54 Q606.33 1517.37 603.182 1517.37 Q600.034 1517.37 598.182 1519.54 Q596.353 1521.7 596.353 1525.42 Q596.353 1529.17 598.182 1531.32 Q600.034 1533.48 603.182 1533.48 Z\" fill=\"#000000\" fill-rule=\"nonzero\" fill-opacity=\"1\" /><path clip-path=\"url(#clip260)\" d=\"M633.899 1517.37 Q630.288 1517.37 628.46 1520.93 Q626.654 1524.47 626.654 1531.6 Q626.654 1538.71 628.46 1542.27 Q630.288 1545.82 633.899 1545.82 Q637.534 1545.82 639.339 1542.27 Q641.168 1538.71 641.168 1531.6 Q641.168 1524.47 639.339 1520.93 Q637.534 1517.37 633.899 1517.37 M633.899 1513.66 Q639.709 1513.66 642.765 1518.27 Q645.844 1522.85 645.844 1531.6 Q645.844 1540.33 642.765 1544.94 Q639.709 1549.52 633.899 1549.52 Q628.089 1549.52 625.01 1544.94 Q621.955 1540.33 621.955 1531.6 Q621.955 1522.85 625.01 1518.27 Q628.089 1513.66 633.899 1513.66 Z\" fill=\"#000000\" fill-rule=\"nonzero\" fill-opacity=\"1\" /><path clip-path=\"url(#clip260)\" d=\"M918.726 1517.37 Q915.115 1517.37 913.286 1520.93 Q911.481 1524.47 911.481 1531.6 Q911.481 1538.71 913.286 1542.27 Q915.115 1545.82 918.726 1545.82 Q922.36 1545.82 924.166 1542.27 Q925.995 1538.71 925.995 1531.6 Q925.995 1524.47 924.166 1520.93 Q922.36 1517.37 918.726 1517.37 M918.726 1513.66 Q924.536 1513.66 927.592 1518.27 Q930.671 1522.85 930.671 1531.6 Q930.671 1540.33 927.592 1544.94 Q924.536 1549.52 918.726 1549.52 Q912.916 1549.52 909.837 1544.94 Q906.782 1540.33 906.782 1531.6 Q906.782 1522.85 909.837 1518.27 Q912.916 1513.66 918.726 1513.66 Z\" fill=\"#000000\" fill-rule=\"nonzero\" fill-opacity=\"1\" /><path clip-path=\"url(#clip260)\" d=\"M938.888 1542.97 L943.772 1542.97 L943.772 1548.85 L938.888 1548.85 L938.888 1542.97 Z\" fill=\"#000000\" fill-rule=\"nonzero\" fill-opacity=\"1\" /><path clip-path=\"url(#clip260)\" d=\"M954.096 1548.13 L954.096 1543.87 Q955.856 1544.7 957.661 1545.14 Q959.467 1545.58 961.203 1545.58 Q965.832 1545.58 968.263 1542.48 Q970.717 1539.36 971.064 1533.01 Q969.721 1535.01 967.661 1536.07 Q965.601 1537.13 963.101 1537.13 Q957.916 1537.13 954.883 1534.01 Q951.874 1530.86 951.874 1525.42 Q951.874 1520.1 955.022 1516.88 Q958.17 1513.66 963.402 1513.66 Q969.397 1513.66 972.545 1518.27 Q975.717 1522.85 975.717 1531.6 Q975.717 1539.77 971.828 1544.66 Q967.962 1549.52 961.411 1549.52 Q959.652 1549.52 957.846 1549.17 Q956.041 1548.82 954.096 1548.13 M963.402 1533.48 Q966.55 1533.48 968.379 1531.32 Q970.231 1529.17 970.231 1525.42 Q970.231 1521.7 968.379 1519.54 Q966.55 1517.37 963.402 1517.37 Q960.254 1517.37 958.402 1519.54 Q956.573 1521.7 956.573 1525.42 Q956.573 1529.17 958.402 1531.32 Q960.254 1533.48 963.402 1533.48 Z\" fill=\"#000000\" fill-rule=\"nonzero\" fill-opacity=\"1\" /><path clip-path=\"url(#clip260)\" d=\"M984.258 1548.13 L984.258 1543.87 Q986.018 1544.7 987.823 1545.14 Q989.629 1545.58 991.365 1545.58 Q995.994 1545.58 998.425 1542.48 Q1000.88 1539.36 1001.23 1533.01 Q999.883 1535.01 997.823 1536.07 Q995.763 1537.13 993.263 1537.13 Q988.078 1537.13 985.045 1534.01 Q982.036 1530.86 982.036 1525.42 Q982.036 1520.1 985.184 1516.88 Q988.332 1513.66 993.564 1513.66 Q999.559 1513.66 1002.71 1518.27 Q1005.88 1522.85 1005.88 1531.6 Q1005.88 1539.77 1001.99 1544.66 Q998.124 1549.52 991.573 1549.52 Q989.814 1549.52 988.008 1549.17 Q986.203 1548.82 984.258 1548.13 M993.564 1533.48 Q996.712 1533.48 998.541 1531.32 Q1000.39 1529.17 1000.39 1525.42 Q1000.39 1521.7 998.541 1519.54 Q996.712 1517.37 993.564 1517.37 Q990.416 1517.37 988.564 1519.54 Q986.735 1521.7 986.735 1525.42 Q986.735 1529.17 988.564 1531.32 Q990.416 1533.48 993.564 1533.48 Z\" fill=\"#000000\" fill-rule=\"nonzero\" fill-opacity=\"1\" /><path clip-path=\"url(#clip260)\" d=\"M1014.33 1514.29 L1032.68 1514.29 L1032.68 1518.22 L1018.61 1518.22 L1018.61 1526.7 Q1019.63 1526.35 1020.65 1526.19 Q1021.67 1526 1022.68 1526 Q1028.47 1526 1031.85 1529.17 Q1035.23 1532.34 1035.23 1537.76 Q1035.23 1543.34 1031.76 1546.44 Q1028.29 1549.52 1021.97 1549.52 Q1019.79 1549.52 1017.52 1549.15 Q1015.28 1548.78 1012.87 1548.04 L1012.87 1543.34 Q1014.95 1544.47 1017.17 1545.03 Q1019.4 1545.58 1021.87 1545.58 Q1025.88 1545.58 1028.22 1543.48 Q1030.55 1541.37 1030.55 1537.76 Q1030.55 1534.15 1028.22 1532.04 Q1025.88 1529.94 1021.87 1529.94 Q1020 1529.94 1018.12 1530.35 Q1016.27 1530.77 1014.33 1531.65 L1014.33 1514.29 Z\" fill=\"#000000\" fill-rule=\"nonzero\" fill-opacity=\"1\" /><path clip-path=\"url(#clip260)\" d=\"M1297.88 1544.91 L1305.52 1544.91 L1305.52 1518.55 L1297.21 1520.21 L1297.21 1515.95 L1305.47 1514.29 L1310.15 1514.29 L1310.15 1544.91 L1317.79 1544.91 L1317.79 1548.85 L1297.88 1548.85 L1297.88 1544.91 Z\" fill=\"#000000\" fill-rule=\"nonzero\" fill-opacity=\"1\" /><path clip-path=\"url(#clip260)\" d=\"M1327.23 1542.97 L1332.12 1542.97 L1332.12 1548.85 L1327.23 1548.85 L1327.23 1542.97 Z\" fill=\"#000000\" fill-rule=\"nonzero\" fill-opacity=\"1\" /><path clip-path=\"url(#clip260)\" d=\"M1352.3 1517.37 Q1348.69 1517.37 1346.86 1520.93 Q1345.06 1524.47 1345.06 1531.6 Q1345.06 1538.71 1346.86 1542.27 Q1348.69 1545.82 1352.3 1545.82 Q1355.94 1545.82 1357.74 1542.27 Q1359.57 1538.71 1359.57 1531.6 Q1359.57 1524.47 1357.74 1520.93 Q1355.94 1517.37 1352.3 1517.37 M1352.3 1513.66 Q1358.11 1513.66 1361.17 1518.27 Q1364.25 1522.85 1364.25 1531.6 Q1364.25 1540.33 1361.17 1544.94 Q1358.11 1549.52 1352.3 1549.52 Q1346.49 1549.52 1343.41 1544.94 Q1340.36 1540.33 1340.36 1531.6 Q1340.36 1522.85 1343.41 1518.27 Q1346.49 1513.66 1352.3 1513.66 Z\" fill=\"#000000\" fill-rule=\"nonzero\" fill-opacity=\"1\" /><path clip-path=\"url(#clip260)\" d=\"M1382.46 1517.37 Q1378.85 1517.37 1377.02 1520.93 Q1375.22 1524.47 1375.22 1531.6 Q1375.22 1538.71 1377.02 1542.27 Q1378.85 1545.82 1382.46 1545.82 Q1386.1 1545.82 1387.9 1542.27 Q1389.73 1538.71 1389.73 1531.6 Q1389.73 1524.47 1387.9 1520.93 Q1386.1 1517.37 1382.46 1517.37 M1382.46 1513.66 Q1388.27 1513.66 1391.33 1518.27 Q1394.41 1522.85 1394.41 1531.6 Q1394.41 1540.33 1391.33 1544.94 Q1388.27 1549.52 1382.46 1549.52 Q1376.65 1549.52 1373.58 1544.94 Q1370.52 1540.33 1370.52 1531.6 Q1370.52 1522.85 1373.58 1518.27 Q1376.65 1513.66 1382.46 1513.66 Z\" fill=\"#000000\" fill-rule=\"nonzero\" fill-opacity=\"1\" /><path clip-path=\"url(#clip260)\" d=\"M1412.63 1517.37 Q1409.02 1517.37 1407.19 1520.93 Q1405.38 1524.47 1405.38 1531.6 Q1405.38 1538.71 1407.19 1542.27 Q1409.02 1545.82 1412.63 1545.82 Q1416.26 1545.82 1418.07 1542.27 Q1419.89 1538.71 1419.89 1531.6 Q1419.89 1524.47 1418.07 1520.93 Q1416.26 1517.37 1412.63 1517.37 M1412.63 1513.66 Q1418.44 1513.66 1421.49 1518.27 Q1424.57 1522.85 1424.57 1531.6 Q1424.57 1540.33 1421.49 1544.94 Q1418.44 1549.52 1412.63 1549.52 Q1406.82 1549.52 1403.74 1544.94 Q1400.68 1540.33 1400.68 1531.6 Q1400.68 1522.85 1403.74 1518.27 Q1406.82 1513.66 1412.63 1513.66 Z\" fill=\"#000000\" fill-rule=\"nonzero\" fill-opacity=\"1\" /><path clip-path=\"url(#clip260)\" d=\"M1688.26 1544.91 L1695.9 1544.91 L1695.9 1518.55 L1687.59 1520.21 L1687.59 1515.95 L1695.86 1514.29 L1700.53 1514.29 L1700.53 1544.91 L1708.17 1544.91 L1708.17 1548.85 L1688.26 1548.85 L1688.26 1544.91 Z\" fill=\"#000000\" fill-rule=\"nonzero\" fill-opacity=\"1\" /><path clip-path=\"url(#clip260)\" d=\"M1717.62 1542.97 L1722.5 1542.97 L1722.5 1548.85 L1717.62 1548.85 L1717.62 1542.97 Z\" fill=\"#000000\" fill-rule=\"nonzero\" fill-opacity=\"1\" /><path clip-path=\"url(#clip260)\" d=\"M1742.68 1517.37 Q1739.07 1517.37 1737.24 1520.93 Q1735.44 1524.47 1735.44 1531.6 Q1735.44 1538.71 1737.24 1542.27 Q1739.07 1545.82 1742.68 1545.82 Q1746.32 1545.82 1748.12 1542.27 Q1749.95 1538.71 1749.95 1531.6 Q1749.95 1524.47 1748.12 1520.93 Q1746.32 1517.37 1742.68 1517.37 M1742.68 1513.66 Q1748.49 1513.66 1751.55 1518.27 Q1754.63 1522.85 1754.63 1531.6 Q1754.63 1540.33 1751.55 1544.94 Q1748.49 1549.52 1742.68 1549.52 Q1736.87 1549.52 1733.8 1544.94 Q1730.74 1540.33 1730.74 1531.6 Q1730.74 1522.85 1733.8 1518.27 Q1736.87 1513.66 1742.68 1513.66 Z\" fill=\"#000000\" fill-rule=\"nonzero\" fill-opacity=\"1\" /><path clip-path=\"url(#clip260)\" d=\"M1772.85 1517.37 Q1769.24 1517.37 1767.41 1520.93 Q1765.6 1524.47 1765.6 1531.6 Q1765.6 1538.71 1767.41 1542.27 Q1769.24 1545.82 1772.85 1545.82 Q1776.48 1545.82 1778.29 1542.27 Q1780.11 1538.71 1780.11 1531.6 Q1780.11 1524.47 1778.29 1520.93 Q1776.48 1517.37 1772.85 1517.37 M1772.85 1513.66 Q1778.66 1513.66 1781.71 1518.27 Q1784.79 1522.85 1784.79 1531.6 Q1784.79 1540.33 1781.71 1544.94 Q1778.66 1549.52 1772.85 1549.52 Q1767.04 1549.52 1763.96 1544.94 Q1760.9 1540.33 1760.9 1531.6 Q1760.9 1522.85 1763.96 1518.27 Q1767.04 1513.66 1772.85 1513.66 Z\" fill=\"#000000\" fill-rule=\"nonzero\" fill-opacity=\"1\" /><path clip-path=\"url(#clip260)\" d=\"M1793.05 1514.29 L1811.41 1514.29 L1811.41 1518.22 L1797.34 1518.22 L1797.34 1526.7 Q1798.36 1526.35 1799.37 1526.19 Q1800.39 1526 1801.41 1526 Q1807.2 1526 1810.58 1529.17 Q1813.96 1532.34 1813.96 1537.76 Q1813.96 1543.34 1810.48 1546.44 Q1807.01 1549.52 1800.69 1549.52 Q1798.52 1549.52 1796.25 1549.15 Q1794 1548.78 1791.6 1548.04 L1791.6 1543.34 Q1793.68 1544.47 1795.9 1545.03 Q1798.12 1545.58 1800.6 1545.58 Q1804.61 1545.58 1806.94 1543.48 Q1809.28 1541.37 1809.28 1537.76 Q1809.28 1534.15 1806.94 1532.04 Q1804.61 1529.94 1800.6 1529.94 Q1798.73 1529.94 1796.85 1530.35 Q1795 1530.77 1793.05 1531.65 L1793.05 1514.29 Z\" fill=\"#000000\" fill-rule=\"nonzero\" fill-opacity=\"1\" /><path clip-path=\"url(#clip260)\" d=\"M2077.65 1544.91 L2085.29 1544.91 L2085.29 1518.55 L2076.98 1520.21 L2076.98 1515.95 L2085.24 1514.29 L2089.92 1514.29 L2089.92 1544.91 L2097.56 1544.91 L2097.56 1548.85 L2077.65 1548.85 L2077.65 1544.91 Z\" fill=\"#000000\" fill-rule=\"nonzero\" fill-opacity=\"1\" /><path clip-path=\"url(#clip260)\" d=\"M2107 1542.97 L2111.89 1542.97 L2111.89 1548.85 L2107 1548.85 L2107 1542.97 Z\" fill=\"#000000\" fill-rule=\"nonzero\" fill-opacity=\"1\" /><path clip-path=\"url(#clip260)\" d=\"M2132.07 1517.37 Q2128.46 1517.37 2126.63 1520.93 Q2124.83 1524.47 2124.83 1531.6 Q2124.83 1538.71 2126.63 1542.27 Q2128.46 1545.82 2132.07 1545.82 Q2135.71 1545.82 2137.51 1542.27 Q2139.34 1538.71 2139.34 1531.6 Q2139.34 1524.47 2137.51 1520.93 Q2135.71 1517.37 2132.07 1517.37 M2132.07 1513.66 Q2137.88 1513.66 2140.94 1518.27 Q2144.02 1522.85 2144.02 1531.6 Q2144.02 1540.33 2140.94 1544.94 Q2137.88 1549.52 2132.07 1549.52 Q2126.26 1549.52 2123.18 1544.94 Q2120.13 1540.33 2120.13 1531.6 Q2120.13 1522.85 2123.18 1518.27 Q2126.26 1513.66 2132.07 1513.66 Z\" fill=\"#000000\" fill-rule=\"nonzero\" fill-opacity=\"1\" /><path clip-path=\"url(#clip260)\" d=\"M2153.04 1544.91 L2160.68 1544.91 L2160.68 1518.55 L2152.37 1520.21 L2152.37 1515.95 L2160.64 1514.29 L2165.31 1514.29 L2165.31 1544.91 L2172.95 1544.91 L2172.95 1548.85 L2153.04 1548.85 L2153.04 1544.91 Z\" fill=\"#000000\" fill-rule=\"nonzero\" fill-opacity=\"1\" /><path clip-path=\"url(#clip260)\" d=\"M2192.39 1517.37 Q2188.78 1517.37 2186.95 1520.93 Q2185.15 1524.47 2185.15 1531.6 Q2185.15 1538.71 2186.95 1542.27 Q2188.78 1545.82 2192.39 1545.82 Q2196.03 1545.82 2197.83 1542.27 Q2199.66 1538.71 2199.66 1531.6 Q2199.66 1524.47 2197.83 1520.93 Q2196.03 1517.37 2192.39 1517.37 M2192.39 1513.66 Q2198.2 1513.66 2201.26 1518.27 Q2204.34 1522.85 2204.34 1531.6 Q2204.34 1540.33 2201.26 1544.94 Q2198.2 1549.52 2192.39 1549.52 Q2186.58 1549.52 2183.51 1544.94 Q2180.45 1540.33 2180.45 1531.6 Q2180.45 1522.85 2183.51 1518.27 Q2186.58 1513.66 2192.39 1513.66 Z\" fill=\"#000000\" fill-rule=\"nonzero\" fill-opacity=\"1\" /><polyline clip-path=\"url(#clip262)\" style=\"stroke:#000000; stroke-linecap:round; stroke-linejoin:round; stroke-width:2; stroke-opacity:0.1; fill:none\" points=\"369.025,1175.99 2352.76,1175.99 \"/>\n",
       "<polyline clip-path=\"url(#clip262)\" style=\"stroke:#000000; stroke-linecap:round; stroke-linejoin:round; stroke-width:2; stroke-opacity:0.1; fill:none\" points=\"369.025,828.561 2352.76,828.561 \"/>\n",
       "<polyline clip-path=\"url(#clip262)\" style=\"stroke:#000000; stroke-linecap:round; stroke-linejoin:round; stroke-width:2; stroke-opacity:0.1; fill:none\" points=\"369.025,481.134 2352.76,481.134 \"/>\n",
       "<polyline clip-path=\"url(#clip262)\" style=\"stroke:#000000; stroke-linecap:round; stroke-linejoin:round; stroke-width:2; stroke-opacity:0.1; fill:none\" points=\"369.025,133.707 2352.76,133.707 \"/>\n",
       "<polyline clip-path=\"url(#clip260)\" style=\"stroke:#000000; stroke-linecap:round; stroke-linejoin:round; stroke-width:4; stroke-opacity:1; fill:none\" points=\"369.025,1486.45 369.025,47.2441 \"/>\n",
       "<polyline clip-path=\"url(#clip260)\" style=\"stroke:#000000; stroke-linecap:round; stroke-linejoin:round; stroke-width:4; stroke-opacity:1; fill:none\" points=\"369.025,1175.99 387.922,1175.99 \"/>\n",
       "<polyline clip-path=\"url(#clip260)\" style=\"stroke:#000000; stroke-linecap:round; stroke-linejoin:round; stroke-width:4; stroke-opacity:1; fill:none\" points=\"369.025,828.561 387.922,828.561 \"/>\n",
       "<polyline clip-path=\"url(#clip260)\" style=\"stroke:#000000; stroke-linecap:round; stroke-linejoin:round; stroke-width:4; stroke-opacity:1; fill:none\" points=\"369.025,481.134 387.922,481.134 \"/>\n",
       "<polyline clip-path=\"url(#clip260)\" style=\"stroke:#000000; stroke-linecap:round; stroke-linejoin:round; stroke-width:4; stroke-opacity:1; fill:none\" points=\"369.025,133.707 387.922,133.707 \"/>\n",
       "<path clip-path=\"url(#clip260)\" d=\"M50.9921 1182.89 L80.6679 1182.89 L80.6679 1186.82 L50.9921 1186.82 L50.9921 1182.89 Z\" fill=\"#000000\" fill-rule=\"nonzero\" fill-opacity=\"1\" /><path clip-path=\"url(#clip260)\" d=\"M94.7882 1195.78 L111.108 1195.78 L111.108 1199.72 L89.1632 1199.72 L89.1632 1195.78 Q91.8252 1193.03 96.4085 1188.4 Q101.015 1183.74 102.196 1182.4 Q104.441 1179.88 105.321 1178.14 Q106.223 1176.38 106.223 1174.69 Q106.223 1171.94 104.279 1170.2 Q102.358 1168.47 99.2558 1168.47 Q97.0567 1168.47 94.603 1169.23 Q92.1725 1169.99 89.3947 1171.54 L89.3947 1166.82 Q92.2188 1165.69 94.6724 1165.11 Q97.1261 1164.53 99.1632 1164.53 Q104.534 1164.53 107.728 1167.22 Q110.922 1169.9 110.922 1174.39 Q110.922 1176.52 110.112 1178.44 Q109.325 1180.34 107.219 1182.93 Q106.64 1183.6 103.538 1186.82 Q100.436 1190.02 94.7882 1195.78 Z\" fill=\"#000000\" fill-rule=\"nonzero\" fill-opacity=\"1\" /><path clip-path=\"url(#clip260)\" d=\"M120.922 1193.84 L125.807 1193.84 L125.807 1199.72 L120.922 1199.72 L120.922 1193.84 Z\" fill=\"#000000\" fill-rule=\"nonzero\" fill-opacity=\"1\" /><path clip-path=\"url(#clip260)\" d=\"M145.992 1168.23 Q142.381 1168.23 140.552 1171.8 Q138.746 1175.34 138.746 1182.47 Q138.746 1189.58 140.552 1193.14 Q142.381 1196.68 145.992 1196.68 Q149.626 1196.68 151.431 1193.14 Q153.26 1189.58 153.26 1182.47 Q153.26 1175.34 151.431 1171.8 Q149.626 1168.23 145.992 1168.23 M145.992 1164.53 Q151.802 1164.53 154.857 1169.14 Q157.936 1173.72 157.936 1182.47 Q157.936 1191.2 154.857 1195.8 Q151.802 1200.39 145.992 1200.39 Q140.181 1200.39 137.103 1195.8 Q134.047 1191.2 134.047 1182.47 Q134.047 1173.72 137.103 1169.14 Q140.181 1164.53 145.992 1164.53 Z\" fill=\"#000000\" fill-rule=\"nonzero\" fill-opacity=\"1\" /><path clip-path=\"url(#clip260)\" d=\"M194.325 1174.25 L183.746 1184.88 L194.325 1195.46 L191.57 1198.26 L180.945 1187.63 L170.32 1198.26 L167.589 1195.46 L178.144 1184.88 L167.589 1174.25 L170.32 1171.45 L180.945 1182.08 L191.57 1171.45 L194.325 1174.25 Z\" fill=\"#000000\" fill-rule=\"nonzero\" fill-opacity=\"1\" /><path clip-path=\"url(#clip260)\" d=\"M206.686 1195.78 L214.325 1195.78 L214.325 1169.42 L206.014 1171.08 L206.014 1166.82 L214.278 1165.16 L218.954 1165.16 L218.954 1195.78 L226.593 1195.78 L226.593 1199.72 L206.686 1199.72 L206.686 1195.78 Z\" fill=\"#000000\" fill-rule=\"nonzero\" fill-opacity=\"1\" /><path clip-path=\"url(#clip260)\" d=\"M246.037 1168.23 Q242.426 1168.23 240.598 1171.8 Q238.792 1175.34 238.792 1182.47 Q238.792 1189.58 240.598 1193.14 Q242.426 1196.68 246.037 1196.68 Q249.672 1196.68 251.477 1193.14 Q253.306 1189.58 253.306 1182.47 Q253.306 1175.34 251.477 1171.8 Q249.672 1168.23 246.037 1168.23 M246.037 1164.53 Q251.848 1164.53 254.903 1169.14 Q257.982 1173.72 257.982 1182.47 Q257.982 1191.2 254.903 1195.8 Q251.848 1200.39 246.037 1200.39 Q240.227 1200.39 237.149 1195.8 Q234.093 1191.2 234.093 1182.47 Q234.093 1173.72 237.149 1169.14 Q240.227 1164.53 246.037 1164.53 Z\" fill=\"#000000\" fill-rule=\"nonzero\" fill-opacity=\"1\" /><path clip-path=\"url(#clip260)\" d=\"M257.982 1158.63 L282.093 1158.63 L282.093 1161.83 L257.982 1161.83 L257.982 1158.63 Z\" fill=\"#000000\" fill-rule=\"nonzero\" fill-opacity=\"1\" /><path clip-path=\"url(#clip260)\" d=\"M290.952 1169.11 L297.158 1169.11 L297.158 1147.69 L290.406 1149.04 L290.406 1145.58 L297.121 1144.23 L300.92 1144.23 L300.92 1169.11 L307.126 1169.11 L307.126 1172.31 L290.952 1172.31 L290.952 1169.11 Z\" fill=\"#000000\" fill-rule=\"nonzero\" fill-opacity=\"1\" /><path clip-path=\"url(#clip260)\" d=\"M325.238 1147.54 L315.646 1162.53 L325.238 1162.53 L325.238 1147.54 M324.242 1144.23 L329.019 1144.23 L329.019 1162.53 L333.025 1162.53 L333.025 1165.69 L329.019 1165.69 L329.019 1172.31 L325.238 1172.31 L325.238 1165.69 L312.562 1165.69 L312.562 1162.02 L324.242 1144.23 Z\" fill=\"#000000\" fill-rule=\"nonzero\" fill-opacity=\"1\" /><path clip-path=\"url(#clip260)\" d=\"M321.08 814.36 Q317.469 814.36 315.641 817.925 Q313.835 821.467 313.835 828.596 Q313.835 835.703 315.641 839.267 Q317.469 842.809 321.08 842.809 Q324.715 842.809 326.52 839.267 Q328.349 835.703 328.349 828.596 Q328.349 821.467 326.52 817.925 Q324.715 814.36 321.08 814.36 M321.08 810.656 Q326.891 810.656 329.946 815.263 Q333.025 819.846 333.025 828.596 Q333.025 837.323 329.946 841.929 Q326.891 846.513 321.08 846.513 Q315.27 846.513 312.192 841.929 Q309.136 837.323 309.136 828.596 Q309.136 819.846 312.192 815.263 Q315.27 810.656 321.08 810.656 Z\" fill=\"#000000\" fill-rule=\"nonzero\" fill-opacity=\"1\" /><path clip-path=\"url(#clip260)\" d=\"M94.7882 500.927 L111.108 500.927 L111.108 504.862 L89.1632 504.862 L89.1632 500.927 Q91.8252 498.172 96.4085 493.543 Q101.015 488.89 102.196 487.547 Q104.441 485.024 105.321 483.288 Q106.223 481.529 106.223 479.839 Q106.223 477.084 104.279 475.348 Q102.358 473.612 99.2558 473.612 Q97.0567 473.612 94.603 474.376 Q92.1725 475.14 89.3947 476.691 L89.3947 471.969 Q92.2188 470.834 94.6724 470.256 Q97.1261 469.677 99.1632 469.677 Q104.534 469.677 107.728 472.362 Q110.922 475.047 110.922 479.538 Q110.922 481.668 110.112 483.589 Q109.325 485.487 107.219 488.08 Q106.64 488.751 103.538 491.969 Q100.436 495.163 94.7882 500.927 Z\" fill=\"#000000\" fill-rule=\"nonzero\" fill-opacity=\"1\" /><path clip-path=\"url(#clip260)\" d=\"M120.922 498.982 L125.807 498.982 L125.807 504.862 L120.922 504.862 L120.922 498.982 Z\" fill=\"#000000\" fill-rule=\"nonzero\" fill-opacity=\"1\" /><path clip-path=\"url(#clip260)\" d=\"M145.992 473.381 Q142.381 473.381 140.552 476.946 Q138.746 480.487 138.746 487.617 Q138.746 494.723 140.552 498.288 Q142.381 501.83 145.992 501.83 Q149.626 501.83 151.431 498.288 Q153.26 494.723 153.26 487.617 Q153.26 480.487 151.431 476.946 Q149.626 473.381 145.992 473.381 M145.992 469.677 Q151.802 469.677 154.857 474.283 Q157.936 478.867 157.936 487.617 Q157.936 496.344 154.857 500.95 Q151.802 505.533 145.992 505.533 Q140.181 505.533 137.103 500.95 Q134.047 496.344 134.047 487.617 Q134.047 478.867 137.103 474.283 Q140.181 469.677 145.992 469.677 Z\" fill=\"#000000\" fill-rule=\"nonzero\" fill-opacity=\"1\" /><path clip-path=\"url(#clip260)\" d=\"M194.325 479.399 L183.746 490.024 L194.325 500.603 L191.57 503.404 L180.945 492.779 L170.32 503.404 L167.589 500.603 L178.144 490.024 L167.589 479.399 L170.32 476.598 L180.945 487.223 L191.57 476.598 L194.325 479.399 Z\" fill=\"#000000\" fill-rule=\"nonzero\" fill-opacity=\"1\" /><path clip-path=\"url(#clip260)\" d=\"M206.686 500.927 L214.325 500.927 L214.325 474.561 L206.014 476.228 L206.014 471.969 L214.278 470.302 L218.954 470.302 L218.954 500.927 L226.593 500.927 L226.593 504.862 L206.686 504.862 L206.686 500.927 Z\" fill=\"#000000\" fill-rule=\"nonzero\" fill-opacity=\"1\" /><path clip-path=\"url(#clip260)\" d=\"M246.037 473.381 Q242.426 473.381 240.598 476.946 Q238.792 480.487 238.792 487.617 Q238.792 494.723 240.598 498.288 Q242.426 501.83 246.037 501.83 Q249.672 501.83 251.477 498.288 Q253.306 494.723 253.306 487.617 Q253.306 480.487 251.477 476.946 Q249.672 473.381 246.037 473.381 M246.037 469.677 Q251.848 469.677 254.903 474.283 Q257.982 478.867 257.982 487.617 Q257.982 496.344 254.903 500.95 Q251.848 505.533 246.037 505.533 Q240.227 505.533 237.149 500.95 Q234.093 496.344 234.093 487.617 Q234.093 478.867 237.149 474.283 Q240.227 469.677 246.037 469.677 Z\" fill=\"#000000\" fill-rule=\"nonzero\" fill-opacity=\"1\" /><path clip-path=\"url(#clip260)\" d=\"M257.982 463.778 L282.093 463.778 L282.093 466.976 L257.982 466.976 L257.982 463.778 Z\" fill=\"#000000\" fill-rule=\"nonzero\" fill-opacity=\"1\" /><path clip-path=\"url(#clip260)\" d=\"M290.952 474.254 L297.158 474.254 L297.158 452.832 L290.406 454.186 L290.406 450.726 L297.121 449.372 L300.92 449.372 L300.92 474.254 L307.126 474.254 L307.126 477.452 L290.952 477.452 L290.952 474.254 Z\" fill=\"#000000\" fill-rule=\"nonzero\" fill-opacity=\"1\" /><path clip-path=\"url(#clip260)\" d=\"M325.238 452.682 L315.646 467.672 L325.238 467.672 L325.238 452.682 M324.242 449.372 L329.019 449.372 L329.019 467.672 L333.025 467.672 L333.025 470.831 L329.019 470.831 L329.019 477.452 L325.238 477.452 L325.238 470.831 L312.562 470.831 L312.562 467.164 L324.242 449.372 Z\" fill=\"#000000\" fill-rule=\"nonzero\" fill-opacity=\"1\" /><path clip-path=\"url(#clip260)\" d=\"M103.608 126.949 L91.8021 145.398 L103.608 145.398 L103.608 126.949 M102.381 122.875 L108.26 122.875 L108.26 145.398 L113.191 145.398 L113.191 149.287 L108.26 149.287 L108.26 157.435 L103.608 157.435 L103.608 149.287 L88.0058 149.287 L88.0058 144.773 L102.381 122.875 Z\" fill=\"#000000\" fill-rule=\"nonzero\" fill-opacity=\"1\" /><path clip-path=\"url(#clip260)\" d=\"M120.922 151.555 L125.807 151.555 L125.807 157.435 L120.922 157.435 L120.922 151.555 Z\" fill=\"#000000\" fill-rule=\"nonzero\" fill-opacity=\"1\" /><path clip-path=\"url(#clip260)\" d=\"M145.992 125.954 Q142.381 125.954 140.552 129.519 Q138.746 133.06 138.746 140.19 Q138.746 147.296 140.552 150.861 Q142.381 154.403 145.992 154.403 Q149.626 154.403 151.431 150.861 Q153.26 147.296 153.26 140.19 Q153.26 133.06 151.431 129.519 Q149.626 125.954 145.992 125.954 M145.992 122.25 Q151.802 122.25 154.857 126.857 Q157.936 131.44 157.936 140.19 Q157.936 148.917 154.857 153.523 Q151.802 158.106 145.992 158.106 Q140.181 158.106 137.103 153.523 Q134.047 148.917 134.047 140.19 Q134.047 131.44 137.103 126.857 Q140.181 122.25 145.992 122.25 Z\" fill=\"#000000\" fill-rule=\"nonzero\" fill-opacity=\"1\" /><path clip-path=\"url(#clip260)\" d=\"M194.325 131.972 L183.746 142.597 L194.325 153.176 L191.57 155.977 L180.945 145.352 L170.32 155.977 L167.589 153.176 L178.144 142.597 L167.589 131.972 L170.32 129.171 L180.945 139.796 L191.57 129.171 L194.325 131.972 Z\" fill=\"#000000\" fill-rule=\"nonzero\" fill-opacity=\"1\" /><path clip-path=\"url(#clip260)\" d=\"M206.686 153.5 L214.325 153.5 L214.325 127.134 L206.014 128.801 L206.014 124.542 L214.278 122.875 L218.954 122.875 L218.954 153.5 L226.593 153.5 L226.593 157.435 L206.686 157.435 L206.686 153.5 Z\" fill=\"#000000\" fill-rule=\"nonzero\" fill-opacity=\"1\" /><path clip-path=\"url(#clip260)\" d=\"M246.037 125.954 Q242.426 125.954 240.598 129.519 Q238.792 133.06 238.792 140.19 Q238.792 147.296 240.598 150.861 Q242.426 154.403 246.037 154.403 Q249.672 154.403 251.477 150.861 Q253.306 147.296 253.306 140.19 Q253.306 133.06 251.477 129.519 Q249.672 125.954 246.037 125.954 M246.037 122.25 Q251.848 122.25 254.903 126.857 Q257.982 131.44 257.982 140.19 Q257.982 148.917 254.903 153.523 Q251.848 158.106 246.037 158.106 Q240.227 158.106 237.149 153.523 Q234.093 148.917 234.093 140.19 Q234.093 131.44 237.149 126.857 Q240.227 122.25 246.037 122.25 Z\" fill=\"#000000\" fill-rule=\"nonzero\" fill-opacity=\"1\" /><path clip-path=\"url(#clip260)\" d=\"M257.982 116.351 L282.093 116.351 L282.093 119.549 L257.982 119.549 L257.982 116.351 Z\" fill=\"#000000\" fill-rule=\"nonzero\" fill-opacity=\"1\" /><path clip-path=\"url(#clip260)\" d=\"M290.952 126.827 L297.158 126.827 L297.158 105.405 L290.406 106.759 L290.406 103.299 L297.121 101.945 L300.92 101.945 L300.92 126.827 L307.126 126.827 L307.126 130.025 L290.952 130.025 L290.952 126.827 Z\" fill=\"#000000\" fill-rule=\"nonzero\" fill-opacity=\"1\" /><path clip-path=\"url(#clip260)\" d=\"M325.238 105.255 L315.646 120.245 L325.238 120.245 L325.238 105.255 M324.242 101.945 L329.019 101.945 L329.019 120.245 L333.025 120.245 L333.025 123.404 L329.019 123.404 L329.019 130.025 L325.238 130.025 L325.238 123.404 L312.562 123.404 L312.562 119.737 L324.242 101.945 Z\" fill=\"#000000\" fill-rule=\"nonzero\" fill-opacity=\"1\" /><polyline clip-path=\"url(#clip262)\" style=\"stroke:#009af9; stroke-linecap:round; stroke-linejoin:round; stroke-width:4; stroke-opacity:1; fill:none\" points=\"425.168,1445.72 503.145,1229.71 581.122,1075.42 659.099,967.421 737.076,936.563 815.052,843.99 893.029,859.419 971.006,890.277 1048.98,859.419 1126.96,874.848 1204.94,843.99 1282.91,859.419 1360.89,828.561 1438.87,921.135 1516.84,874.848 1594.82,797.704 1672.8,859.419 1750.77,843.99 1828.75,859.419 1906.73,828.561 1984.71,905.706 2062.68,890.277 2140.66,828.561 2218.64,504.555 2296.61,87.9763 \"/>\n",
       "<path clip-path=\"url(#clip260)\" d=\"M435.149 198.898 L685.953 198.898 L685.953 95.2176 L435.149 95.2176  Z\" fill=\"#ffffff\" fill-rule=\"evenodd\" fill-opacity=\"1\"/>\n",
       "<polyline clip-path=\"url(#clip260)\" style=\"stroke:#000000; stroke-linecap:round; stroke-linejoin:round; stroke-width:4; stroke-opacity:1; fill:none\" points=\"435.149,198.898 685.953,198.898 685.953,95.2176 435.149,95.2176 435.149,198.898 \"/>\n",
       "<polyline clip-path=\"url(#clip260)\" style=\"stroke:#009af9; stroke-linecap:round; stroke-linejoin:round; stroke-width:4; stroke-opacity:1; fill:none\" points=\"457.191,147.058 589.439,147.058 \"/>\n",
       "<path clip-path=\"url(#clip260)\" d=\"M625.323 166.745 Q623.518 171.375 621.805 172.787 Q620.092 174.199 617.221 174.199 L613.819 174.199 L613.819 170.634 L616.319 170.634 Q618.078 170.634 619.05 169.8 Q620.022 168.967 621.203 165.865 L621.967 163.921 L611.481 138.412 L615.995 138.412 L624.096 158.689 L632.198 138.412 L636.712 138.412 L625.323 166.745 Z\" fill=\"#000000\" fill-rule=\"nonzero\" fill-opacity=\"1\" /><path clip-path=\"url(#clip260)\" d=\"M644.004 160.402 L651.643 160.402 L651.643 134.037 L643.332 135.703 L643.332 131.444 L651.596 129.778 L656.272 129.778 L656.272 160.402 L663.911 160.402 L663.911 164.338 L644.004 164.338 L644.004 160.402 Z\" fill=\"#000000\" fill-rule=\"nonzero\" fill-opacity=\"1\" /></svg>\n"
      ]
     },
     "execution_count": 74,
     "metadata": {},
     "output_type": "execute_result"
    }
   ],
   "source": [
    "x = [0.988:0.001:1.012...]\n",
    "function f1(x :: Real)\n",
    "    x^7 - 7x^6 + 21x^5 - 35x^4 + 35x^3 - 21x^2 + 7x - 1\n",
    "end\n",
    "y1 = map(f1, x)\n",
    "plot(x, y1)"
   ]
  },
  {
   "cell_type": "markdown",
   "metadata": {},
   "source": [
    "#### 2."
   ]
  },
  {
   "cell_type": "code",
   "execution_count": 75,
   "metadata": {},
   "outputs": [
    {
     "data": {
      "image/svg+xml": [
       "<?xml version=\"1.0\" encoding=\"utf-8\"?>\n",
       "<svg xmlns=\"http://www.w3.org/2000/svg\" xmlns:xlink=\"http://www.w3.org/1999/xlink\" width=\"600\" height=\"400\" viewBox=\"0 0 2400 1600\">\n",
       "<defs>\n",
       "  <clipPath id=\"clip300\">\n",
       "    <rect x=\"0\" y=\"0\" width=\"2400\" height=\"1600\"/>\n",
       "  </clipPath>\n",
       "</defs>\n",
       "<path clip-path=\"url(#clip300)\" d=\"M0 1600 L2400 1600 L2400 0 L0 0  Z\" fill=\"#ffffff\" fill-rule=\"evenodd\" fill-opacity=\"1\"/>\n",
       "<defs>\n",
       "  <clipPath id=\"clip301\">\n",
       "    <rect x=\"480\" y=\"0\" width=\"1681\" height=\"1600\"/>\n",
       "  </clipPath>\n",
       "</defs>\n",
       "<path clip-path=\"url(#clip300)\" d=\"M369.025 1486.45 L2352.76 1486.45 L2352.76 47.2441 L369.025 47.2441  Z\" fill=\"#ffffff\" fill-rule=\"evenodd\" fill-opacity=\"1\"/>\n",
       "<defs>\n",
       "  <clipPath id=\"clip302\">\n",
       "    <rect x=\"369\" y=\"47\" width=\"1985\" height=\"1440\"/>\n",
       "  </clipPath>\n",
       "</defs>\n",
       "<polyline clip-path=\"url(#clip302)\" style=\"stroke:#000000; stroke-linecap:round; stroke-linejoin:round; stroke-width:2; stroke-opacity:0.1; fill:none\" points=\"581.122,1486.45 581.122,47.2441 \"/>\n",
       "<polyline clip-path=\"url(#clip302)\" style=\"stroke:#000000; stroke-linecap:round; stroke-linejoin:round; stroke-width:2; stroke-opacity:0.1; fill:none\" points=\"971.006,1486.45 971.006,47.2441 \"/>\n",
       "<polyline clip-path=\"url(#clip302)\" style=\"stroke:#000000; stroke-linecap:round; stroke-linejoin:round; stroke-width:2; stroke-opacity:0.1; fill:none\" points=\"1360.89,1486.45 1360.89,47.2441 \"/>\n",
       "<polyline clip-path=\"url(#clip302)\" style=\"stroke:#000000; stroke-linecap:round; stroke-linejoin:round; stroke-width:2; stroke-opacity:0.1; fill:none\" points=\"1750.77,1486.45 1750.77,47.2441 \"/>\n",
       "<polyline clip-path=\"url(#clip302)\" style=\"stroke:#000000; stroke-linecap:round; stroke-linejoin:round; stroke-width:2; stroke-opacity:0.1; fill:none\" points=\"2140.66,1486.45 2140.66,47.2441 \"/>\n",
       "<polyline clip-path=\"url(#clip300)\" style=\"stroke:#000000; stroke-linecap:round; stroke-linejoin:round; stroke-width:4; stroke-opacity:1; fill:none\" points=\"369.025,1486.45 2352.76,1486.45 \"/>\n",
       "<polyline clip-path=\"url(#clip300)\" style=\"stroke:#000000; stroke-linecap:round; stroke-linejoin:round; stroke-width:4; stroke-opacity:1; fill:none\" points=\"581.122,1486.45 581.122,1467.55 \"/>\n",
       "<polyline clip-path=\"url(#clip300)\" style=\"stroke:#000000; stroke-linecap:round; stroke-linejoin:round; stroke-width:4; stroke-opacity:1; fill:none\" points=\"971.006,1486.45 971.006,1467.55 \"/>\n",
       "<polyline clip-path=\"url(#clip300)\" style=\"stroke:#000000; stroke-linecap:round; stroke-linejoin:round; stroke-width:4; stroke-opacity:1; fill:none\" points=\"1360.89,1486.45 1360.89,1467.55 \"/>\n",
       "<polyline clip-path=\"url(#clip300)\" style=\"stroke:#000000; stroke-linecap:round; stroke-linejoin:round; stroke-width:4; stroke-opacity:1; fill:none\" points=\"1750.77,1486.45 1750.77,1467.55 \"/>\n",
       "<polyline clip-path=\"url(#clip300)\" style=\"stroke:#000000; stroke-linecap:round; stroke-linejoin:round; stroke-width:4; stroke-opacity:1; fill:none\" points=\"2140.66,1486.45 2140.66,1467.55 \"/>\n",
       "<path clip-path=\"url(#clip300)\" d=\"M528.344 1517.37 Q524.733 1517.37 522.905 1520.93 Q521.099 1524.47 521.099 1531.6 Q521.099 1538.71 522.905 1542.27 Q524.733 1545.82 528.344 1545.82 Q531.979 1545.82 533.784 1542.27 Q535.613 1538.71 535.613 1531.6 Q535.613 1524.47 533.784 1520.93 Q531.979 1517.37 528.344 1517.37 M528.344 1513.66 Q534.154 1513.66 537.21 1518.27 Q540.289 1522.85 540.289 1531.6 Q540.289 1540.33 537.21 1544.94 Q534.154 1549.52 528.344 1549.52 Q522.534 1549.52 519.455 1544.94 Q516.4 1540.33 516.4 1531.6 Q516.4 1522.85 519.455 1518.27 Q522.534 1513.66 528.344 1513.66 Z\" fill=\"#000000\" fill-rule=\"nonzero\" fill-opacity=\"1\" /><path clip-path=\"url(#clip300)\" d=\"M548.506 1542.97 L553.39 1542.97 L553.39 1548.85 L548.506 1548.85 L548.506 1542.97 Z\" fill=\"#000000\" fill-rule=\"nonzero\" fill-opacity=\"1\" /><path clip-path=\"url(#clip300)\" d=\"M563.714 1548.13 L563.714 1543.87 Q565.474 1544.7 567.279 1545.14 Q569.085 1545.58 570.821 1545.58 Q575.451 1545.58 577.881 1542.48 Q580.335 1539.36 580.682 1533.01 Q579.339 1535.01 577.279 1536.07 Q575.219 1537.13 572.719 1537.13 Q567.534 1537.13 564.502 1534.01 Q561.492 1530.86 561.492 1525.42 Q561.492 1520.1 564.64 1516.88 Q567.789 1513.66 573.02 1513.66 Q579.015 1513.66 582.163 1518.27 Q585.335 1522.85 585.335 1531.6 Q585.335 1539.77 581.446 1544.66 Q577.58 1549.52 571.029 1549.52 Q569.27 1549.52 567.464 1549.17 Q565.659 1548.82 563.714 1548.13 M573.02 1533.48 Q576.168 1533.48 577.997 1531.32 Q579.849 1529.17 579.849 1525.42 Q579.849 1521.7 577.997 1519.54 Q576.168 1517.37 573.02 1517.37 Q569.872 1517.37 568.02 1519.54 Q566.191 1521.7 566.191 1525.42 Q566.191 1529.17 568.02 1531.32 Q569.872 1533.48 573.02 1533.48 Z\" fill=\"#000000\" fill-rule=\"nonzero\" fill-opacity=\"1\" /><path clip-path=\"url(#clip300)\" d=\"M593.876 1548.13 L593.876 1543.87 Q595.636 1544.7 597.441 1545.14 Q599.247 1545.58 600.983 1545.58 Q605.612 1545.58 608.043 1542.48 Q610.497 1539.36 610.844 1533.01 Q609.501 1535.01 607.441 1536.07 Q605.381 1537.13 602.881 1537.13 Q597.696 1537.13 594.663 1534.01 Q591.654 1530.86 591.654 1525.42 Q591.654 1520.1 594.802 1516.88 Q597.95 1513.66 603.182 1513.66 Q609.177 1513.66 612.325 1518.27 Q615.497 1522.85 615.497 1531.6 Q615.497 1539.77 611.608 1544.66 Q607.742 1549.52 601.191 1549.52 Q599.432 1549.52 597.626 1549.17 Q595.821 1548.82 593.876 1548.13 M603.182 1533.48 Q606.33 1533.48 608.159 1531.32 Q610.011 1529.17 610.011 1525.42 Q610.011 1521.7 608.159 1519.54 Q606.33 1517.37 603.182 1517.37 Q600.034 1517.37 598.182 1519.54 Q596.353 1521.7 596.353 1525.42 Q596.353 1529.17 598.182 1531.32 Q600.034 1533.48 603.182 1533.48 Z\" fill=\"#000000\" fill-rule=\"nonzero\" fill-opacity=\"1\" /><path clip-path=\"url(#clip300)\" d=\"M633.899 1517.37 Q630.288 1517.37 628.46 1520.93 Q626.654 1524.47 626.654 1531.6 Q626.654 1538.71 628.46 1542.27 Q630.288 1545.82 633.899 1545.82 Q637.534 1545.82 639.339 1542.27 Q641.168 1538.71 641.168 1531.6 Q641.168 1524.47 639.339 1520.93 Q637.534 1517.37 633.899 1517.37 M633.899 1513.66 Q639.709 1513.66 642.765 1518.27 Q645.844 1522.85 645.844 1531.6 Q645.844 1540.33 642.765 1544.94 Q639.709 1549.52 633.899 1549.52 Q628.089 1549.52 625.01 1544.94 Q621.955 1540.33 621.955 1531.6 Q621.955 1522.85 625.01 1518.27 Q628.089 1513.66 633.899 1513.66 Z\" fill=\"#000000\" fill-rule=\"nonzero\" fill-opacity=\"1\" /><path clip-path=\"url(#clip300)\" d=\"M918.726 1517.37 Q915.115 1517.37 913.286 1520.93 Q911.481 1524.47 911.481 1531.6 Q911.481 1538.71 913.286 1542.27 Q915.115 1545.82 918.726 1545.82 Q922.36 1545.82 924.166 1542.27 Q925.995 1538.71 925.995 1531.6 Q925.995 1524.47 924.166 1520.93 Q922.36 1517.37 918.726 1517.37 M918.726 1513.66 Q924.536 1513.66 927.592 1518.27 Q930.671 1522.85 930.671 1531.6 Q930.671 1540.33 927.592 1544.94 Q924.536 1549.52 918.726 1549.52 Q912.916 1549.52 909.837 1544.94 Q906.782 1540.33 906.782 1531.6 Q906.782 1522.85 909.837 1518.27 Q912.916 1513.66 918.726 1513.66 Z\" fill=\"#000000\" fill-rule=\"nonzero\" fill-opacity=\"1\" /><path clip-path=\"url(#clip300)\" d=\"M938.888 1542.97 L943.772 1542.97 L943.772 1548.85 L938.888 1548.85 L938.888 1542.97 Z\" fill=\"#000000\" fill-rule=\"nonzero\" fill-opacity=\"1\" /><path clip-path=\"url(#clip300)\" d=\"M954.096 1548.13 L954.096 1543.87 Q955.856 1544.7 957.661 1545.14 Q959.467 1545.58 961.203 1545.58 Q965.832 1545.58 968.263 1542.48 Q970.717 1539.36 971.064 1533.01 Q969.721 1535.01 967.661 1536.07 Q965.601 1537.13 963.101 1537.13 Q957.916 1537.13 954.883 1534.01 Q951.874 1530.86 951.874 1525.42 Q951.874 1520.1 955.022 1516.88 Q958.17 1513.66 963.402 1513.66 Q969.397 1513.66 972.545 1518.27 Q975.717 1522.85 975.717 1531.6 Q975.717 1539.77 971.828 1544.66 Q967.962 1549.52 961.411 1549.52 Q959.652 1549.52 957.846 1549.17 Q956.041 1548.82 954.096 1548.13 M963.402 1533.48 Q966.55 1533.48 968.379 1531.32 Q970.231 1529.17 970.231 1525.42 Q970.231 1521.7 968.379 1519.54 Q966.55 1517.37 963.402 1517.37 Q960.254 1517.37 958.402 1519.54 Q956.573 1521.7 956.573 1525.42 Q956.573 1529.17 958.402 1531.32 Q960.254 1533.48 963.402 1533.48 Z\" fill=\"#000000\" fill-rule=\"nonzero\" fill-opacity=\"1\" /><path clip-path=\"url(#clip300)\" d=\"M984.258 1548.13 L984.258 1543.87 Q986.018 1544.7 987.823 1545.14 Q989.629 1545.58 991.365 1545.58 Q995.994 1545.58 998.425 1542.48 Q1000.88 1539.36 1001.23 1533.01 Q999.883 1535.01 997.823 1536.07 Q995.763 1537.13 993.263 1537.13 Q988.078 1537.13 985.045 1534.01 Q982.036 1530.86 982.036 1525.42 Q982.036 1520.1 985.184 1516.88 Q988.332 1513.66 993.564 1513.66 Q999.559 1513.66 1002.71 1518.27 Q1005.88 1522.85 1005.88 1531.6 Q1005.88 1539.77 1001.99 1544.66 Q998.124 1549.52 991.573 1549.52 Q989.814 1549.52 988.008 1549.17 Q986.203 1548.82 984.258 1548.13 M993.564 1533.48 Q996.712 1533.48 998.541 1531.32 Q1000.39 1529.17 1000.39 1525.42 Q1000.39 1521.7 998.541 1519.54 Q996.712 1517.37 993.564 1517.37 Q990.416 1517.37 988.564 1519.54 Q986.735 1521.7 986.735 1525.42 Q986.735 1529.17 988.564 1531.32 Q990.416 1533.48 993.564 1533.48 Z\" fill=\"#000000\" fill-rule=\"nonzero\" fill-opacity=\"1\" /><path clip-path=\"url(#clip300)\" d=\"M1014.33 1514.29 L1032.68 1514.29 L1032.68 1518.22 L1018.61 1518.22 L1018.61 1526.7 Q1019.63 1526.35 1020.65 1526.19 Q1021.67 1526 1022.68 1526 Q1028.47 1526 1031.85 1529.17 Q1035.23 1532.34 1035.23 1537.76 Q1035.23 1543.34 1031.76 1546.44 Q1028.29 1549.52 1021.97 1549.52 Q1019.79 1549.52 1017.52 1549.15 Q1015.28 1548.78 1012.87 1548.04 L1012.87 1543.34 Q1014.95 1544.47 1017.17 1545.03 Q1019.4 1545.58 1021.87 1545.58 Q1025.88 1545.58 1028.22 1543.48 Q1030.55 1541.37 1030.55 1537.76 Q1030.55 1534.15 1028.22 1532.04 Q1025.88 1529.94 1021.87 1529.94 Q1020 1529.94 1018.12 1530.35 Q1016.27 1530.77 1014.33 1531.65 L1014.33 1514.29 Z\" fill=\"#000000\" fill-rule=\"nonzero\" fill-opacity=\"1\" /><path clip-path=\"url(#clip300)\" d=\"M1297.88 1544.91 L1305.52 1544.91 L1305.52 1518.55 L1297.21 1520.21 L1297.21 1515.95 L1305.47 1514.29 L1310.15 1514.29 L1310.15 1544.91 L1317.79 1544.91 L1317.79 1548.85 L1297.88 1548.85 L1297.88 1544.91 Z\" fill=\"#000000\" fill-rule=\"nonzero\" fill-opacity=\"1\" /><path clip-path=\"url(#clip300)\" d=\"M1327.23 1542.97 L1332.12 1542.97 L1332.12 1548.85 L1327.23 1548.85 L1327.23 1542.97 Z\" fill=\"#000000\" fill-rule=\"nonzero\" fill-opacity=\"1\" /><path clip-path=\"url(#clip300)\" d=\"M1352.3 1517.37 Q1348.69 1517.37 1346.86 1520.93 Q1345.06 1524.47 1345.06 1531.6 Q1345.06 1538.71 1346.86 1542.27 Q1348.69 1545.82 1352.3 1545.82 Q1355.94 1545.82 1357.74 1542.27 Q1359.57 1538.71 1359.57 1531.6 Q1359.57 1524.47 1357.74 1520.93 Q1355.94 1517.37 1352.3 1517.37 M1352.3 1513.66 Q1358.11 1513.66 1361.17 1518.27 Q1364.25 1522.85 1364.25 1531.6 Q1364.25 1540.33 1361.17 1544.94 Q1358.11 1549.52 1352.3 1549.52 Q1346.49 1549.52 1343.41 1544.94 Q1340.36 1540.33 1340.36 1531.6 Q1340.36 1522.85 1343.41 1518.27 Q1346.49 1513.66 1352.3 1513.66 Z\" fill=\"#000000\" fill-rule=\"nonzero\" fill-opacity=\"1\" /><path clip-path=\"url(#clip300)\" d=\"M1382.46 1517.37 Q1378.85 1517.37 1377.02 1520.93 Q1375.22 1524.47 1375.22 1531.6 Q1375.22 1538.71 1377.02 1542.27 Q1378.85 1545.82 1382.46 1545.82 Q1386.1 1545.82 1387.9 1542.27 Q1389.73 1538.71 1389.73 1531.6 Q1389.73 1524.47 1387.9 1520.93 Q1386.1 1517.37 1382.46 1517.37 M1382.46 1513.66 Q1388.27 1513.66 1391.33 1518.27 Q1394.41 1522.85 1394.41 1531.6 Q1394.41 1540.33 1391.33 1544.94 Q1388.27 1549.52 1382.46 1549.52 Q1376.65 1549.52 1373.58 1544.94 Q1370.52 1540.33 1370.52 1531.6 Q1370.52 1522.85 1373.58 1518.27 Q1376.65 1513.66 1382.46 1513.66 Z\" fill=\"#000000\" fill-rule=\"nonzero\" fill-opacity=\"1\" /><path clip-path=\"url(#clip300)\" d=\"M1412.63 1517.37 Q1409.02 1517.37 1407.19 1520.93 Q1405.38 1524.47 1405.38 1531.6 Q1405.38 1538.71 1407.19 1542.27 Q1409.02 1545.82 1412.63 1545.82 Q1416.26 1545.82 1418.07 1542.27 Q1419.89 1538.71 1419.89 1531.6 Q1419.89 1524.47 1418.07 1520.93 Q1416.26 1517.37 1412.63 1517.37 M1412.63 1513.66 Q1418.44 1513.66 1421.49 1518.27 Q1424.57 1522.85 1424.57 1531.6 Q1424.57 1540.33 1421.49 1544.94 Q1418.44 1549.52 1412.63 1549.52 Q1406.82 1549.52 1403.74 1544.94 Q1400.68 1540.33 1400.68 1531.6 Q1400.68 1522.85 1403.74 1518.27 Q1406.82 1513.66 1412.63 1513.66 Z\" fill=\"#000000\" fill-rule=\"nonzero\" fill-opacity=\"1\" /><path clip-path=\"url(#clip300)\" d=\"M1688.26 1544.91 L1695.9 1544.91 L1695.9 1518.55 L1687.59 1520.21 L1687.59 1515.95 L1695.86 1514.29 L1700.53 1514.29 L1700.53 1544.91 L1708.17 1544.91 L1708.17 1548.85 L1688.26 1548.85 L1688.26 1544.91 Z\" fill=\"#000000\" fill-rule=\"nonzero\" fill-opacity=\"1\" /><path clip-path=\"url(#clip300)\" d=\"M1717.62 1542.97 L1722.5 1542.97 L1722.5 1548.85 L1717.62 1548.85 L1717.62 1542.97 Z\" fill=\"#000000\" fill-rule=\"nonzero\" fill-opacity=\"1\" /><path clip-path=\"url(#clip300)\" d=\"M1742.68 1517.37 Q1739.07 1517.37 1737.24 1520.93 Q1735.44 1524.47 1735.44 1531.6 Q1735.44 1538.71 1737.24 1542.27 Q1739.07 1545.82 1742.68 1545.82 Q1746.32 1545.82 1748.12 1542.27 Q1749.95 1538.71 1749.95 1531.6 Q1749.95 1524.47 1748.12 1520.93 Q1746.32 1517.37 1742.68 1517.37 M1742.68 1513.66 Q1748.49 1513.66 1751.55 1518.27 Q1754.63 1522.85 1754.63 1531.6 Q1754.63 1540.33 1751.55 1544.94 Q1748.49 1549.52 1742.68 1549.52 Q1736.87 1549.52 1733.8 1544.94 Q1730.74 1540.33 1730.74 1531.6 Q1730.74 1522.85 1733.8 1518.27 Q1736.87 1513.66 1742.68 1513.66 Z\" fill=\"#000000\" fill-rule=\"nonzero\" fill-opacity=\"1\" /><path clip-path=\"url(#clip300)\" d=\"M1772.85 1517.37 Q1769.24 1517.37 1767.41 1520.93 Q1765.6 1524.47 1765.6 1531.6 Q1765.6 1538.71 1767.41 1542.27 Q1769.24 1545.82 1772.85 1545.82 Q1776.48 1545.82 1778.29 1542.27 Q1780.11 1538.71 1780.11 1531.6 Q1780.11 1524.47 1778.29 1520.93 Q1776.48 1517.37 1772.85 1517.37 M1772.85 1513.66 Q1778.66 1513.66 1781.71 1518.27 Q1784.79 1522.85 1784.79 1531.6 Q1784.79 1540.33 1781.71 1544.94 Q1778.66 1549.52 1772.85 1549.52 Q1767.04 1549.52 1763.96 1544.94 Q1760.9 1540.33 1760.9 1531.6 Q1760.9 1522.85 1763.96 1518.27 Q1767.04 1513.66 1772.85 1513.66 Z\" fill=\"#000000\" fill-rule=\"nonzero\" fill-opacity=\"1\" /><path clip-path=\"url(#clip300)\" d=\"M1793.05 1514.29 L1811.41 1514.29 L1811.41 1518.22 L1797.34 1518.22 L1797.34 1526.7 Q1798.36 1526.35 1799.37 1526.19 Q1800.39 1526 1801.41 1526 Q1807.2 1526 1810.58 1529.17 Q1813.96 1532.34 1813.96 1537.76 Q1813.96 1543.34 1810.48 1546.44 Q1807.01 1549.52 1800.69 1549.52 Q1798.52 1549.52 1796.25 1549.15 Q1794 1548.78 1791.6 1548.04 L1791.6 1543.34 Q1793.68 1544.47 1795.9 1545.03 Q1798.12 1545.58 1800.6 1545.58 Q1804.61 1545.58 1806.94 1543.48 Q1809.28 1541.37 1809.28 1537.76 Q1809.28 1534.15 1806.94 1532.04 Q1804.61 1529.94 1800.6 1529.94 Q1798.73 1529.94 1796.85 1530.35 Q1795 1530.77 1793.05 1531.65 L1793.05 1514.29 Z\" fill=\"#000000\" fill-rule=\"nonzero\" fill-opacity=\"1\" /><path clip-path=\"url(#clip300)\" d=\"M2077.65 1544.91 L2085.29 1544.91 L2085.29 1518.55 L2076.98 1520.21 L2076.98 1515.95 L2085.24 1514.29 L2089.92 1514.29 L2089.92 1544.91 L2097.56 1544.91 L2097.56 1548.85 L2077.65 1548.85 L2077.65 1544.91 Z\" fill=\"#000000\" fill-rule=\"nonzero\" fill-opacity=\"1\" /><path clip-path=\"url(#clip300)\" d=\"M2107 1542.97 L2111.89 1542.97 L2111.89 1548.85 L2107 1548.85 L2107 1542.97 Z\" fill=\"#000000\" fill-rule=\"nonzero\" fill-opacity=\"1\" /><path clip-path=\"url(#clip300)\" d=\"M2132.07 1517.37 Q2128.46 1517.37 2126.63 1520.93 Q2124.83 1524.47 2124.83 1531.6 Q2124.83 1538.71 2126.63 1542.27 Q2128.46 1545.82 2132.07 1545.82 Q2135.71 1545.82 2137.51 1542.27 Q2139.34 1538.71 2139.34 1531.6 Q2139.34 1524.47 2137.51 1520.93 Q2135.71 1517.37 2132.07 1517.37 M2132.07 1513.66 Q2137.88 1513.66 2140.94 1518.27 Q2144.02 1522.85 2144.02 1531.6 Q2144.02 1540.33 2140.94 1544.94 Q2137.88 1549.52 2132.07 1549.52 Q2126.26 1549.52 2123.18 1544.94 Q2120.13 1540.33 2120.13 1531.6 Q2120.13 1522.85 2123.18 1518.27 Q2126.26 1513.66 2132.07 1513.66 Z\" fill=\"#000000\" fill-rule=\"nonzero\" fill-opacity=\"1\" /><path clip-path=\"url(#clip300)\" d=\"M2153.04 1544.91 L2160.68 1544.91 L2160.68 1518.55 L2152.37 1520.21 L2152.37 1515.95 L2160.64 1514.29 L2165.31 1514.29 L2165.31 1544.91 L2172.95 1544.91 L2172.95 1548.85 L2153.04 1548.85 L2153.04 1544.91 Z\" fill=\"#000000\" fill-rule=\"nonzero\" fill-opacity=\"1\" /><path clip-path=\"url(#clip300)\" d=\"M2192.39 1517.37 Q2188.78 1517.37 2186.95 1520.93 Q2185.15 1524.47 2185.15 1531.6 Q2185.15 1538.71 2186.95 1542.27 Q2188.78 1545.82 2192.39 1545.82 Q2196.03 1545.82 2197.83 1542.27 Q2199.66 1538.71 2199.66 1531.6 Q2199.66 1524.47 2197.83 1520.93 Q2196.03 1517.37 2192.39 1517.37 M2192.39 1513.66 Q2198.2 1513.66 2201.26 1518.27 Q2204.34 1522.85 2204.34 1531.6 Q2204.34 1540.33 2201.26 1544.94 Q2198.2 1549.52 2192.39 1549.52 Q2186.58 1549.52 2183.51 1544.94 Q2180.45 1540.33 2180.45 1531.6 Q2180.45 1522.85 2183.51 1518.27 Q2186.58 1513.66 2192.39 1513.66 Z\" fill=\"#000000\" fill-rule=\"nonzero\" fill-opacity=\"1\" /><polyline clip-path=\"url(#clip302)\" style=\"stroke:#000000; stroke-linecap:round; stroke-linejoin:round; stroke-width:2; stroke-opacity:0.1; fill:none\" points=\"369.025,1335.23 2352.76,1335.23 \"/>\n",
       "<polyline clip-path=\"url(#clip302)\" style=\"stroke:#000000; stroke-linecap:round; stroke-linejoin:round; stroke-width:2; stroke-opacity:0.1; fill:none\" points=\"369.025,1145.77 2352.76,1145.77 \"/>\n",
       "<polyline clip-path=\"url(#clip302)\" style=\"stroke:#000000; stroke-linecap:round; stroke-linejoin:round; stroke-width:2; stroke-opacity:0.1; fill:none\" points=\"369.025,956.306 2352.76,956.306 \"/>\n",
       "<polyline clip-path=\"url(#clip302)\" style=\"stroke:#000000; stroke-linecap:round; stroke-linejoin:round; stroke-width:2; stroke-opacity:0.1; fill:none\" points=\"369.025,766.846 2352.76,766.846 \"/>\n",
       "<polyline clip-path=\"url(#clip302)\" style=\"stroke:#000000; stroke-linecap:round; stroke-linejoin:round; stroke-width:2; stroke-opacity:0.1; fill:none\" points=\"369.025,577.386 2352.76,577.386 \"/>\n",
       "<polyline clip-path=\"url(#clip302)\" style=\"stroke:#000000; stroke-linecap:round; stroke-linejoin:round; stroke-width:2; stroke-opacity:0.1; fill:none\" points=\"369.025,387.926 2352.76,387.926 \"/>\n",
       "<polyline clip-path=\"url(#clip302)\" style=\"stroke:#000000; stroke-linecap:round; stroke-linejoin:round; stroke-width:2; stroke-opacity:0.1; fill:none\" points=\"369.025,198.466 2352.76,198.466 \"/>\n",
       "<polyline clip-path=\"url(#clip300)\" style=\"stroke:#000000; stroke-linecap:round; stroke-linejoin:round; stroke-width:4; stroke-opacity:1; fill:none\" points=\"369.025,1486.45 369.025,47.2441 \"/>\n",
       "<polyline clip-path=\"url(#clip300)\" style=\"stroke:#000000; stroke-linecap:round; stroke-linejoin:round; stroke-width:4; stroke-opacity:1; fill:none\" points=\"369.025,1335.23 387.922,1335.23 \"/>\n",
       "<polyline clip-path=\"url(#clip300)\" style=\"stroke:#000000; stroke-linecap:round; stroke-linejoin:round; stroke-width:4; stroke-opacity:1; fill:none\" points=\"369.025,1145.77 387.922,1145.77 \"/>\n",
       "<polyline clip-path=\"url(#clip300)\" style=\"stroke:#000000; stroke-linecap:round; stroke-linejoin:round; stroke-width:4; stroke-opacity:1; fill:none\" points=\"369.025,956.306 387.922,956.306 \"/>\n",
       "<polyline clip-path=\"url(#clip300)\" style=\"stroke:#000000; stroke-linecap:round; stroke-linejoin:round; stroke-width:4; stroke-opacity:1; fill:none\" points=\"369.025,766.846 387.922,766.846 \"/>\n",
       "<polyline clip-path=\"url(#clip300)\" style=\"stroke:#000000; stroke-linecap:round; stroke-linejoin:round; stroke-width:4; stroke-opacity:1; fill:none\" points=\"369.025,577.386 387.922,577.386 \"/>\n",
       "<polyline clip-path=\"url(#clip300)\" style=\"stroke:#000000; stroke-linecap:round; stroke-linejoin:round; stroke-width:4; stroke-opacity:1; fill:none\" points=\"369.025,387.926 387.922,387.926 \"/>\n",
       "<polyline clip-path=\"url(#clip300)\" style=\"stroke:#000000; stroke-linecap:round; stroke-linejoin:round; stroke-width:4; stroke-opacity:1; fill:none\" points=\"369.025,198.466 387.922,198.466 \"/>\n",
       "<path clip-path=\"url(#clip300)\" d=\"M50.9921 1342.13 L80.6679 1342.13 L80.6679 1346.06 L50.9921 1346.06 L50.9921 1342.13 Z\" fill=\"#000000\" fill-rule=\"nonzero\" fill-opacity=\"1\" /><path clip-path=\"url(#clip300)\" d=\"M104.927 1340.32 Q108.283 1341.04 110.158 1343.31 Q112.057 1345.57 112.057 1348.91 Q112.057 1354.02 108.538 1356.82 Q105.02 1359.63 98.5382 1359.63 Q96.3623 1359.63 94.0475 1359.19 Q91.7558 1358.77 89.3021 1357.91 L89.3021 1353.4 Q91.2465 1354.53 93.5613 1355.11 Q95.8761 1355.69 98.3993 1355.69 Q102.797 1355.69 105.089 1353.95 Q107.404 1352.22 107.404 1348.91 Q107.404 1345.85 105.251 1344.14 Q103.121 1342.4 99.3021 1342.4 L95.2743 1342.4 L95.2743 1338.56 L99.4872 1338.56 Q102.936 1338.56 104.765 1337.19 Q106.594 1335.81 106.594 1333.21 Q106.594 1330.55 104.696 1329.14 Q102.821 1327.7 99.3021 1327.7 Q97.3808 1327.7 95.1817 1328.12 Q92.9826 1328.54 90.3438 1329.42 L90.3438 1325.25 Q93.0058 1324.51 95.3206 1324.14 Q97.6585 1323.77 99.7187 1323.77 Q105.043 1323.77 108.145 1326.2 Q111.246 1328.61 111.246 1332.73 Q111.246 1335.6 109.603 1337.59 Q107.959 1339.56 104.927 1340.32 Z\" fill=\"#000000\" fill-rule=\"nonzero\" fill-opacity=\"1\" /><path clip-path=\"url(#clip300)\" d=\"M120.922 1353.07 L125.807 1353.07 L125.807 1358.95 L120.922 1358.95 L120.922 1353.07 Z\" fill=\"#000000\" fill-rule=\"nonzero\" fill-opacity=\"1\" /><path clip-path=\"url(#clip300)\" d=\"M145.992 1327.47 Q142.381 1327.47 140.552 1331.04 Q138.746 1334.58 138.746 1341.71 Q138.746 1348.81 140.552 1352.38 Q142.381 1355.92 145.992 1355.92 Q149.626 1355.92 151.431 1352.38 Q153.26 1348.81 153.26 1341.71 Q153.26 1334.58 151.431 1331.04 Q149.626 1327.47 145.992 1327.47 M145.992 1323.77 Q151.802 1323.77 154.857 1328.38 Q157.936 1332.96 157.936 1341.71 Q157.936 1350.44 154.857 1355.04 Q151.802 1359.63 145.992 1359.63 Q140.181 1359.63 137.103 1355.04 Q134.047 1350.44 134.047 1341.71 Q134.047 1332.96 137.103 1328.38 Q140.181 1323.77 145.992 1323.77 Z\" fill=\"#000000\" fill-rule=\"nonzero\" fill-opacity=\"1\" /><path clip-path=\"url(#clip300)\" d=\"M194.325 1333.49 L183.746 1344.12 L194.325 1354.69 L191.57 1357.5 L180.945 1346.87 L170.32 1357.5 L167.589 1354.69 L178.144 1344.12 L167.589 1333.49 L170.32 1330.69 L180.945 1341.32 L191.57 1330.69 L194.325 1333.49 Z\" fill=\"#000000\" fill-rule=\"nonzero\" fill-opacity=\"1\" /><path clip-path=\"url(#clip300)\" d=\"M206.686 1355.02 L214.325 1355.02 L214.325 1328.65 L206.014 1330.32 L206.014 1326.06 L214.278 1324.39 L218.954 1324.39 L218.954 1355.02 L226.593 1355.02 L226.593 1358.95 L206.686 1358.95 L206.686 1355.02 Z\" fill=\"#000000\" fill-rule=\"nonzero\" fill-opacity=\"1\" /><path clip-path=\"url(#clip300)\" d=\"M246.037 1327.47 Q242.426 1327.47 240.598 1331.04 Q238.792 1334.58 238.792 1341.71 Q238.792 1348.81 240.598 1352.38 Q242.426 1355.92 246.037 1355.92 Q249.672 1355.92 251.477 1352.38 Q253.306 1348.81 253.306 1341.71 Q253.306 1334.58 251.477 1331.04 Q249.672 1327.47 246.037 1327.47 M246.037 1323.77 Q251.848 1323.77 254.903 1328.38 Q257.982 1332.96 257.982 1341.71 Q257.982 1350.44 254.903 1355.04 Q251.848 1359.63 246.037 1359.63 Q240.227 1359.63 237.149 1355.04 Q234.093 1350.44 234.093 1341.71 Q234.093 1332.96 237.149 1328.38 Q240.227 1323.77 246.037 1323.77 Z\" fill=\"#000000\" fill-rule=\"nonzero\" fill-opacity=\"1\" /><path clip-path=\"url(#clip300)\" d=\"M257.982 1317.87 L282.093 1317.87 L282.093 1321.07 L257.982 1321.07 L257.982 1317.87 Z\" fill=\"#000000\" fill-rule=\"nonzero\" fill-opacity=\"1\" /><path clip-path=\"url(#clip300)\" d=\"M290.952 1328.35 L297.158 1328.35 L297.158 1306.92 L290.406 1308.28 L290.406 1304.82 L297.121 1303.46 L300.92 1303.46 L300.92 1328.35 L307.126 1328.35 L307.126 1331.54 L290.952 1331.54 L290.952 1328.35 Z\" fill=\"#000000\" fill-rule=\"nonzero\" fill-opacity=\"1\" /><path clip-path=\"url(#clip300)\" d=\"M325.238 1306.77 L315.646 1321.76 L325.238 1321.76 L325.238 1306.77 M324.242 1303.46 L329.019 1303.46 L329.019 1321.76 L333.025 1321.76 L333.025 1324.92 L329.019 1324.92 L329.019 1331.54 L325.238 1331.54 L325.238 1324.92 L312.562 1324.92 L312.562 1321.26 L324.242 1303.46 Z\" fill=\"#000000\" fill-rule=\"nonzero\" fill-opacity=\"1\" /><path clip-path=\"url(#clip300)\" d=\"M50.9921 1152.67 L80.6679 1152.67 L80.6679 1156.6 L50.9921 1156.6 L50.9921 1152.67 Z\" fill=\"#000000\" fill-rule=\"nonzero\" fill-opacity=\"1\" /><path clip-path=\"url(#clip300)\" d=\"M94.7882 1165.56 L111.108 1165.56 L111.108 1169.49 L89.1632 1169.49 L89.1632 1165.56 Q91.8252 1162.8 96.4085 1158.17 Q101.015 1153.52 102.196 1152.18 Q104.441 1149.66 105.321 1147.92 Q106.223 1146.16 106.223 1144.47 Q106.223 1141.72 104.279 1139.98 Q102.358 1138.24 99.2558 1138.24 Q97.0567 1138.24 94.603 1139.01 Q92.1725 1139.77 89.3947 1141.32 L89.3947 1136.6 Q92.2188 1135.47 94.6724 1134.89 Q97.1261 1134.31 99.1632 1134.31 Q104.534 1134.31 107.728 1136.99 Q110.922 1139.68 110.922 1144.17 Q110.922 1146.3 110.112 1148.22 Q109.325 1150.12 107.219 1152.71 Q106.64 1153.38 103.538 1156.6 Q100.436 1159.79 94.7882 1165.56 Z\" fill=\"#000000\" fill-rule=\"nonzero\" fill-opacity=\"1\" /><path clip-path=\"url(#clip300)\" d=\"M120.922 1163.61 L125.807 1163.61 L125.807 1169.49 L120.922 1169.49 L120.922 1163.61 Z\" fill=\"#000000\" fill-rule=\"nonzero\" fill-opacity=\"1\" /><path clip-path=\"url(#clip300)\" d=\"M145.992 1138.01 Q142.381 1138.01 140.552 1141.58 Q138.746 1145.12 138.746 1152.25 Q138.746 1159.35 140.552 1162.92 Q142.381 1166.46 145.992 1166.46 Q149.626 1166.46 151.431 1162.92 Q153.26 1159.35 153.26 1152.25 Q153.26 1145.12 151.431 1141.58 Q149.626 1138.01 145.992 1138.01 M145.992 1134.31 Q151.802 1134.31 154.857 1138.92 Q157.936 1143.5 157.936 1152.25 Q157.936 1160.98 154.857 1165.58 Q151.802 1170.17 145.992 1170.17 Q140.181 1170.17 137.103 1165.58 Q134.047 1160.98 134.047 1152.25 Q134.047 1143.5 137.103 1138.92 Q140.181 1134.31 145.992 1134.31 Z\" fill=\"#000000\" fill-rule=\"nonzero\" fill-opacity=\"1\" /><path clip-path=\"url(#clip300)\" d=\"M194.325 1144.03 L183.746 1154.66 L194.325 1165.23 L191.57 1168.04 L180.945 1157.41 L170.32 1168.04 L167.589 1165.23 L178.144 1154.66 L167.589 1144.03 L170.32 1141.23 L180.945 1151.85 L191.57 1141.23 L194.325 1144.03 Z\" fill=\"#000000\" fill-rule=\"nonzero\" fill-opacity=\"1\" /><path clip-path=\"url(#clip300)\" d=\"M206.686 1165.56 L214.325 1165.56 L214.325 1139.19 L206.014 1140.86 L206.014 1136.6 L214.278 1134.93 L218.954 1134.93 L218.954 1165.56 L226.593 1165.56 L226.593 1169.49 L206.686 1169.49 L206.686 1165.56 Z\" fill=\"#000000\" fill-rule=\"nonzero\" fill-opacity=\"1\" /><path clip-path=\"url(#clip300)\" d=\"M246.037 1138.01 Q242.426 1138.01 240.598 1141.58 Q238.792 1145.12 238.792 1152.25 Q238.792 1159.35 240.598 1162.92 Q242.426 1166.46 246.037 1166.46 Q249.672 1166.46 251.477 1162.92 Q253.306 1159.35 253.306 1152.25 Q253.306 1145.12 251.477 1141.58 Q249.672 1138.01 246.037 1138.01 M246.037 1134.31 Q251.848 1134.31 254.903 1138.92 Q257.982 1143.5 257.982 1152.25 Q257.982 1160.98 254.903 1165.58 Q251.848 1170.17 246.037 1170.17 Q240.227 1170.17 237.149 1165.58 Q234.093 1160.98 234.093 1152.25 Q234.093 1143.5 237.149 1138.92 Q240.227 1134.31 246.037 1134.31 Z\" fill=\"#000000\" fill-rule=\"nonzero\" fill-opacity=\"1\" /><path clip-path=\"url(#clip300)\" d=\"M257.982 1128.41 L282.093 1128.41 L282.093 1131.61 L257.982 1131.61 L257.982 1128.41 Z\" fill=\"#000000\" fill-rule=\"nonzero\" fill-opacity=\"1\" /><path clip-path=\"url(#clip300)\" d=\"M290.952 1138.89 L297.158 1138.89 L297.158 1117.46 L290.406 1118.82 L290.406 1115.36 L297.121 1114 L300.92 1114 L300.92 1138.89 L307.126 1138.89 L307.126 1142.08 L290.952 1142.08 L290.952 1138.89 Z\" fill=\"#000000\" fill-rule=\"nonzero\" fill-opacity=\"1\" /><path clip-path=\"url(#clip300)\" d=\"M325.238 1117.31 L315.646 1132.3 L325.238 1132.3 L325.238 1117.31 M324.242 1114 L329.019 1114 L329.019 1132.3 L333.025 1132.3 L333.025 1135.46 L329.019 1135.46 L329.019 1142.08 L325.238 1142.08 L325.238 1135.46 L312.562 1135.46 L312.562 1131.8 L324.242 1114 Z\" fill=\"#000000\" fill-rule=\"nonzero\" fill-opacity=\"1\" /><path clip-path=\"url(#clip300)\" d=\"M50.9921 963.205 L80.6679 963.205 L80.6679 967.14 L50.9921 967.14 L50.9921 963.205 Z\" fill=\"#000000\" fill-rule=\"nonzero\" fill-opacity=\"1\" /><path clip-path=\"url(#clip300)\" d=\"M91.5706 976.098 L99.2095 976.098 L99.2095 949.733 L90.8993 951.4 L90.8993 947.14 L99.1632 945.474 L103.839 945.474 L103.839 976.098 L111.478 976.098 L111.478 980.034 L91.5706 980.034 L91.5706 976.098 Z\" fill=\"#000000\" fill-rule=\"nonzero\" fill-opacity=\"1\" /><path clip-path=\"url(#clip300)\" d=\"M120.922 974.154 L125.807 974.154 L125.807 980.034 L120.922 980.034 L120.922 974.154 Z\" fill=\"#000000\" fill-rule=\"nonzero\" fill-opacity=\"1\" /><path clip-path=\"url(#clip300)\" d=\"M145.992 948.552 Q142.381 948.552 140.552 952.117 Q138.746 955.659 138.746 962.788 Q138.746 969.895 140.552 973.46 Q142.381 977.001 145.992 977.001 Q149.626 977.001 151.431 973.46 Q153.26 969.895 153.26 962.788 Q153.26 955.659 151.431 952.117 Q149.626 948.552 145.992 948.552 M145.992 944.849 Q151.802 944.849 154.857 949.455 Q157.936 954.038 157.936 962.788 Q157.936 971.515 154.857 976.122 Q151.802 980.705 145.992 980.705 Q140.181 980.705 137.103 976.122 Q134.047 971.515 134.047 962.788 Q134.047 954.038 137.103 949.455 Q140.181 944.849 145.992 944.849 Z\" fill=\"#000000\" fill-rule=\"nonzero\" fill-opacity=\"1\" /><path clip-path=\"url(#clip300)\" d=\"M194.325 954.571 L183.746 965.196 L194.325 975.774 L191.57 978.575 L180.945 967.95 L170.32 978.575 L167.589 975.774 L178.144 965.196 L167.589 954.571 L170.32 951.77 L180.945 962.395 L191.57 951.77 L194.325 954.571 Z\" fill=\"#000000\" fill-rule=\"nonzero\" fill-opacity=\"1\" /><path clip-path=\"url(#clip300)\" d=\"M206.686 976.098 L214.325 976.098 L214.325 949.733 L206.014 951.4 L206.014 947.14 L214.278 945.474 L218.954 945.474 L218.954 976.098 L226.593 976.098 L226.593 980.034 L206.686 980.034 L206.686 976.098 Z\" fill=\"#000000\" fill-rule=\"nonzero\" fill-opacity=\"1\" /><path clip-path=\"url(#clip300)\" d=\"M246.037 948.552 Q242.426 948.552 240.598 952.117 Q238.792 955.659 238.792 962.788 Q238.792 969.895 240.598 973.46 Q242.426 977.001 246.037 977.001 Q249.672 977.001 251.477 973.46 Q253.306 969.895 253.306 962.788 Q253.306 955.659 251.477 952.117 Q249.672 948.552 246.037 948.552 M246.037 944.849 Q251.848 944.849 254.903 949.455 Q257.982 954.038 257.982 962.788 Q257.982 971.515 254.903 976.122 Q251.848 980.705 246.037 980.705 Q240.227 980.705 237.149 976.122 Q234.093 971.515 234.093 962.788 Q234.093 954.038 237.149 949.455 Q240.227 944.849 246.037 944.849 Z\" fill=\"#000000\" fill-rule=\"nonzero\" fill-opacity=\"1\" /><path clip-path=\"url(#clip300)\" d=\"M257.982 938.95 L282.093 938.95 L282.093 942.147 L257.982 942.147 L257.982 938.95 Z\" fill=\"#000000\" fill-rule=\"nonzero\" fill-opacity=\"1\" /><path clip-path=\"url(#clip300)\" d=\"M290.952 949.426 L297.158 949.426 L297.158 928.004 L290.406 929.358 L290.406 925.897 L297.121 924.543 L300.92 924.543 L300.92 949.426 L307.126 949.426 L307.126 952.623 L290.952 952.623 L290.952 949.426 Z\" fill=\"#000000\" fill-rule=\"nonzero\" fill-opacity=\"1\" /><path clip-path=\"url(#clip300)\" d=\"M325.238 927.853 L315.646 942.843 L325.238 942.843 L325.238 927.853 M324.242 924.543 L329.019 924.543 L329.019 942.843 L333.025 942.843 L333.025 946.003 L329.019 946.003 L329.019 952.623 L325.238 952.623 L325.238 946.003 L312.562 946.003 L312.562 942.335 L324.242 924.543 Z\" fill=\"#000000\" fill-rule=\"nonzero\" fill-opacity=\"1\" /><path clip-path=\"url(#clip300)\" d=\"M321.08 752.645 Q317.469 752.645 315.641 756.209 Q313.835 759.751 313.835 766.881 Q313.835 773.987 315.641 777.552 Q317.469 781.094 321.08 781.094 Q324.715 781.094 326.52 777.552 Q328.349 773.987 328.349 766.881 Q328.349 759.751 326.52 756.209 Q324.715 752.645 321.08 752.645 M321.08 748.941 Q326.891 748.941 329.946 753.547 Q333.025 758.131 333.025 766.881 Q333.025 775.608 329.946 780.214 Q326.891 784.797 321.08 784.797 Q315.27 784.797 312.192 780.214 Q309.136 775.608 309.136 766.881 Q309.136 758.131 312.192 753.547 Q315.27 748.941 321.08 748.941 Z\" fill=\"#000000\" fill-rule=\"nonzero\" fill-opacity=\"1\" /><path clip-path=\"url(#clip300)\" d=\"M91.5706 597.178 L99.2095 597.178 L99.2095 570.813 L90.8993 572.479 L90.8993 568.22 L99.1632 566.554 L103.839 566.554 L103.839 597.178 L111.478 597.178 L111.478 601.114 L91.5706 601.114 L91.5706 597.178 Z\" fill=\"#000000\" fill-rule=\"nonzero\" fill-opacity=\"1\" /><path clip-path=\"url(#clip300)\" d=\"M120.922 595.234 L125.807 595.234 L125.807 601.114 L120.922 601.114 L120.922 595.234 Z\" fill=\"#000000\" fill-rule=\"nonzero\" fill-opacity=\"1\" /><path clip-path=\"url(#clip300)\" d=\"M145.992 569.632 Q142.381 569.632 140.552 573.197 Q138.746 576.739 138.746 583.868 Q138.746 590.975 140.552 594.539 Q142.381 598.081 145.992 598.081 Q149.626 598.081 151.431 594.539 Q153.26 590.975 153.26 583.868 Q153.26 576.739 151.431 573.197 Q149.626 569.632 145.992 569.632 M145.992 565.929 Q151.802 565.929 154.857 570.535 Q157.936 575.118 157.936 583.868 Q157.936 592.595 154.857 597.201 Q151.802 601.785 145.992 601.785 Q140.181 601.785 137.103 597.201 Q134.047 592.595 134.047 583.868 Q134.047 575.118 137.103 570.535 Q140.181 565.929 145.992 565.929 Z\" fill=\"#000000\" fill-rule=\"nonzero\" fill-opacity=\"1\" /><path clip-path=\"url(#clip300)\" d=\"M194.325 575.651 L183.746 586.276 L194.325 596.854 L191.57 599.655 L180.945 589.03 L170.32 599.655 L167.589 596.854 L178.144 586.276 L167.589 575.651 L170.32 572.85 L180.945 583.475 L191.57 572.85 L194.325 575.651 Z\" fill=\"#000000\" fill-rule=\"nonzero\" fill-opacity=\"1\" /><path clip-path=\"url(#clip300)\" d=\"M206.686 597.178 L214.325 597.178 L214.325 570.813 L206.014 572.479 L206.014 568.22 L214.278 566.554 L218.954 566.554 L218.954 597.178 L226.593 597.178 L226.593 601.114 L206.686 601.114 L206.686 597.178 Z\" fill=\"#000000\" fill-rule=\"nonzero\" fill-opacity=\"1\" /><path clip-path=\"url(#clip300)\" d=\"M246.037 569.632 Q242.426 569.632 240.598 573.197 Q238.792 576.739 238.792 583.868 Q238.792 590.975 240.598 594.539 Q242.426 598.081 246.037 598.081 Q249.672 598.081 251.477 594.539 Q253.306 590.975 253.306 583.868 Q253.306 576.739 251.477 573.197 Q249.672 569.632 246.037 569.632 M246.037 565.929 Q251.848 565.929 254.903 570.535 Q257.982 575.118 257.982 583.868 Q257.982 592.595 254.903 597.201 Q251.848 601.785 246.037 601.785 Q240.227 601.785 237.149 597.201 Q234.093 592.595 234.093 583.868 Q234.093 575.118 237.149 570.535 Q240.227 565.929 246.037 565.929 Z\" fill=\"#000000\" fill-rule=\"nonzero\" fill-opacity=\"1\" /><path clip-path=\"url(#clip300)\" d=\"M257.982 560.03 L282.093 560.03 L282.093 563.227 L257.982 563.227 L257.982 560.03 Z\" fill=\"#000000\" fill-rule=\"nonzero\" fill-opacity=\"1\" /><path clip-path=\"url(#clip300)\" d=\"M290.952 570.506 L297.158 570.506 L297.158 549.084 L290.406 550.438 L290.406 546.977 L297.121 545.623 L300.92 545.623 L300.92 570.506 L307.126 570.506 L307.126 573.703 L290.952 573.703 L290.952 570.506 Z\" fill=\"#000000\" fill-rule=\"nonzero\" fill-opacity=\"1\" /><path clip-path=\"url(#clip300)\" d=\"M325.238 548.933 L315.646 563.923 L325.238 563.923 L325.238 548.933 M324.242 545.623 L329.019 545.623 L329.019 563.923 L333.025 563.923 L333.025 567.083 L329.019 567.083 L329.019 573.703 L325.238 573.703 L325.238 567.083 L312.562 567.083 L312.562 563.415 L324.242 545.623 Z\" fill=\"#000000\" fill-rule=\"nonzero\" fill-opacity=\"1\" /><path clip-path=\"url(#clip300)\" d=\"M94.7882 407.718 L111.108 407.718 L111.108 411.653 L89.1632 411.653 L89.1632 407.718 Q91.8252 404.964 96.4085 400.334 Q101.015 395.681 102.196 394.339 Q104.441 391.816 105.321 390.079 Q106.223 388.32 106.223 386.63 Q106.223 383.876 104.279 382.14 Q102.358 380.404 99.2558 380.404 Q97.0567 380.404 94.603 381.167 Q92.1725 381.931 89.3947 383.482 L89.3947 378.76 Q92.2188 377.626 94.6724 377.047 Q97.1261 376.468 99.1632 376.468 Q104.534 376.468 107.728 379.154 Q110.922 381.839 110.922 386.329 Q110.922 388.459 110.112 390.38 Q109.325 392.279 107.219 394.871 Q106.64 395.542 103.538 398.76 Q100.436 401.954 94.7882 407.718 Z\" fill=\"#000000\" fill-rule=\"nonzero\" fill-opacity=\"1\" /><path clip-path=\"url(#clip300)\" d=\"M120.922 405.774 L125.807 405.774 L125.807 411.653 L120.922 411.653 L120.922 405.774 Z\" fill=\"#000000\" fill-rule=\"nonzero\" fill-opacity=\"1\" /><path clip-path=\"url(#clip300)\" d=\"M145.992 380.172 Q142.381 380.172 140.552 383.737 Q138.746 387.279 138.746 394.408 Q138.746 401.515 140.552 405.079 Q142.381 408.621 145.992 408.621 Q149.626 408.621 151.431 405.079 Q153.26 401.515 153.26 394.408 Q153.26 387.279 151.431 383.737 Q149.626 380.172 145.992 380.172 M145.992 376.468 Q151.802 376.468 154.857 381.075 Q157.936 385.658 157.936 394.408 Q157.936 403.135 154.857 407.741 Q151.802 412.325 145.992 412.325 Q140.181 412.325 137.103 407.741 Q134.047 403.135 134.047 394.408 Q134.047 385.658 137.103 381.075 Q140.181 376.468 145.992 376.468 Z\" fill=\"#000000\" fill-rule=\"nonzero\" fill-opacity=\"1\" /><path clip-path=\"url(#clip300)\" d=\"M194.325 386.191 L183.746 396.816 L194.325 407.394 L191.57 410.195 L180.945 399.57 L170.32 410.195 L167.589 407.394 L178.144 396.816 L167.589 386.191 L170.32 383.39 L180.945 394.015 L191.57 383.39 L194.325 386.191 Z\" fill=\"#000000\" fill-rule=\"nonzero\" fill-opacity=\"1\" /><path clip-path=\"url(#clip300)\" d=\"M206.686 407.718 L214.325 407.718 L214.325 381.353 L206.014 383.019 L206.014 378.76 L214.278 377.093 L218.954 377.093 L218.954 407.718 L226.593 407.718 L226.593 411.653 L206.686 411.653 L206.686 407.718 Z\" fill=\"#000000\" fill-rule=\"nonzero\" fill-opacity=\"1\" /><path clip-path=\"url(#clip300)\" d=\"M246.037 380.172 Q242.426 380.172 240.598 383.737 Q238.792 387.279 238.792 394.408 Q238.792 401.515 240.598 405.079 Q242.426 408.621 246.037 408.621 Q249.672 408.621 251.477 405.079 Q253.306 401.515 253.306 394.408 Q253.306 387.279 251.477 383.737 Q249.672 380.172 246.037 380.172 M246.037 376.468 Q251.848 376.468 254.903 381.075 Q257.982 385.658 257.982 394.408 Q257.982 403.135 254.903 407.741 Q251.848 412.325 246.037 412.325 Q240.227 412.325 237.149 407.741 Q234.093 403.135 234.093 394.408 Q234.093 385.658 237.149 381.075 Q240.227 376.468 246.037 376.468 Z\" fill=\"#000000\" fill-rule=\"nonzero\" fill-opacity=\"1\" /><path clip-path=\"url(#clip300)\" d=\"M257.982 370.57 L282.093 370.57 L282.093 373.767 L257.982 373.767 L257.982 370.57 Z\" fill=\"#000000\" fill-rule=\"nonzero\" fill-opacity=\"1\" /><path clip-path=\"url(#clip300)\" d=\"M290.952 381.046 L297.158 381.046 L297.158 359.624 L290.406 360.978 L290.406 357.517 L297.121 356.163 L300.92 356.163 L300.92 381.046 L307.126 381.046 L307.126 384.243 L290.952 384.243 L290.952 381.046 Z\" fill=\"#000000\" fill-rule=\"nonzero\" fill-opacity=\"1\" /><path clip-path=\"url(#clip300)\" d=\"M325.238 359.473 L315.646 374.463 L325.238 374.463 L325.238 359.473 M324.242 356.163 L329.019 356.163 L329.019 374.463 L333.025 374.463 L333.025 377.623 L329.019 377.623 L329.019 384.243 L325.238 384.243 L325.238 377.623 L312.562 377.623 L312.562 373.955 L324.242 356.163 Z\" fill=\"#000000\" fill-rule=\"nonzero\" fill-opacity=\"1\" /><path clip-path=\"url(#clip300)\" d=\"M104.927 203.559 Q108.283 204.277 110.158 206.545 Q112.057 208.814 112.057 212.147 Q112.057 217.263 108.538 220.064 Q105.02 222.865 98.5382 222.865 Q96.3623 222.865 94.0475 222.425 Q91.7558 222.008 89.3021 221.152 L89.3021 216.638 Q91.2465 217.772 93.5613 218.351 Q95.8761 218.929 98.3993 218.929 Q102.797 218.929 105.089 217.193 Q107.404 215.457 107.404 212.147 Q107.404 209.092 105.251 207.379 Q103.121 205.643 99.3021 205.643 L95.2743 205.643 L95.2743 201.8 L99.4872 201.8 Q102.936 201.8 104.765 200.434 Q106.594 199.045 106.594 196.453 Q106.594 193.791 104.696 192.379 Q102.821 190.944 99.3021 190.944 Q97.3808 190.944 95.1817 191.36 Q92.9826 191.777 90.3438 192.656 L90.3438 188.49 Q93.0058 187.749 95.3206 187.379 Q97.6585 187.008 99.7187 187.008 Q105.043 187.008 108.145 189.439 Q111.246 191.846 111.246 195.967 Q111.246 198.837 109.603 200.828 Q107.959 202.795 104.927 203.559 Z\" fill=\"#000000\" fill-rule=\"nonzero\" fill-opacity=\"1\" /><path clip-path=\"url(#clip300)\" d=\"M120.922 216.314 L125.807 216.314 L125.807 222.193 L120.922 222.193 L120.922 216.314 Z\" fill=\"#000000\" fill-rule=\"nonzero\" fill-opacity=\"1\" /><path clip-path=\"url(#clip300)\" d=\"M145.992 190.712 Q142.381 190.712 140.552 194.277 Q138.746 197.818 138.746 204.948 Q138.746 212.055 140.552 215.619 Q142.381 219.161 145.992 219.161 Q149.626 219.161 151.431 215.619 Q153.26 212.055 153.26 204.948 Q153.26 197.818 151.431 194.277 Q149.626 190.712 145.992 190.712 M145.992 187.008 Q151.802 187.008 154.857 191.615 Q157.936 196.198 157.936 204.948 Q157.936 213.675 154.857 218.281 Q151.802 222.865 145.992 222.865 Q140.181 222.865 137.103 218.281 Q134.047 213.675 134.047 204.948 Q134.047 196.198 137.103 191.615 Q140.181 187.008 145.992 187.008 Z\" fill=\"#000000\" fill-rule=\"nonzero\" fill-opacity=\"1\" /><path clip-path=\"url(#clip300)\" d=\"M194.325 196.731 L183.746 207.355 L194.325 217.934 L191.57 220.735 L180.945 210.11 L170.32 220.735 L167.589 217.934 L178.144 207.355 L167.589 196.731 L170.32 193.93 L180.945 204.555 L191.57 193.93 L194.325 196.731 Z\" fill=\"#000000\" fill-rule=\"nonzero\" fill-opacity=\"1\" /><path clip-path=\"url(#clip300)\" d=\"M206.686 218.258 L214.325 218.258 L214.325 191.893 L206.014 193.559 L206.014 189.3 L214.278 187.633 L218.954 187.633 L218.954 218.258 L226.593 218.258 L226.593 222.193 L206.686 222.193 L206.686 218.258 Z\" fill=\"#000000\" fill-rule=\"nonzero\" fill-opacity=\"1\" /><path clip-path=\"url(#clip300)\" d=\"M246.037 190.712 Q242.426 190.712 240.598 194.277 Q238.792 197.818 238.792 204.948 Q238.792 212.055 240.598 215.619 Q242.426 219.161 246.037 219.161 Q249.672 219.161 251.477 215.619 Q253.306 212.055 253.306 204.948 Q253.306 197.818 251.477 194.277 Q249.672 190.712 246.037 190.712 M246.037 187.008 Q251.848 187.008 254.903 191.615 Q257.982 196.198 257.982 204.948 Q257.982 213.675 254.903 218.281 Q251.848 222.865 246.037 222.865 Q240.227 222.865 237.149 218.281 Q234.093 213.675 234.093 204.948 Q234.093 196.198 237.149 191.615 Q240.227 187.008 246.037 187.008 Z\" fill=\"#000000\" fill-rule=\"nonzero\" fill-opacity=\"1\" /><path clip-path=\"url(#clip300)\" d=\"M257.982 181.11 L282.093 181.11 L282.093 184.307 L257.982 184.307 L257.982 181.11 Z\" fill=\"#000000\" fill-rule=\"nonzero\" fill-opacity=\"1\" /><path clip-path=\"url(#clip300)\" d=\"M290.952 191.586 L297.158 191.586 L297.158 170.164 L290.406 171.518 L290.406 168.057 L297.121 166.703 L300.92 166.703 L300.92 191.586 L307.126 191.586 L307.126 194.783 L290.952 194.783 L290.952 191.586 Z\" fill=\"#000000\" fill-rule=\"nonzero\" fill-opacity=\"1\" /><path clip-path=\"url(#clip300)\" d=\"M325.238 170.013 L315.646 185.003 L325.238 185.003 L325.238 170.013 M324.242 166.703 L329.019 166.703 L329.019 185.003 L333.025 185.003 L333.025 188.163 L329.019 188.163 L329.019 194.783 L325.238 194.783 L325.238 188.163 L312.562 188.163 L312.562 184.495 L324.242 166.703 Z\" fill=\"#000000\" fill-rule=\"nonzero\" fill-opacity=\"1\" /><polyline clip-path=\"url(#clip302)\" style=\"stroke:#009af9; stroke-linecap:round; stroke-linejoin:round; stroke-width:4; stroke-opacity:1; fill:none\" points=\"425.168,1445.72 503.145,1136.05 581.122,956.306 659.099,857.464 737.076,806.579 815.052,782.449 893.029,772.15 971.006,768.326 1048.98,767.156 1126.96,766.887 1204.94,766.848 1282.91,766.846 1360.89,766.846 1438.87,766.846 1516.84,766.844 1594.82,766.805 1672.8,766.536 1750.77,765.366 1828.75,761.542 1906.73,751.243 1984.71,727.113 2062.68,676.228 2140.66,577.386 2218.64,397.642 2296.61,87.9763 \"/>\n",
       "<path clip-path=\"url(#clip300)\" d=\"M435.149 198.898 L685.953 198.898 L685.953 95.2176 L435.149 95.2176  Z\" fill=\"#ffffff\" fill-rule=\"evenodd\" fill-opacity=\"1\"/>\n",
       "<polyline clip-path=\"url(#clip300)\" style=\"stroke:#000000; stroke-linecap:round; stroke-linejoin:round; stroke-width:4; stroke-opacity:1; fill:none\" points=\"435.149,198.898 685.953,198.898 685.953,95.2176 435.149,95.2176 435.149,198.898 \"/>\n",
       "<polyline clip-path=\"url(#clip300)\" style=\"stroke:#009af9; stroke-linecap:round; stroke-linejoin:round; stroke-width:4; stroke-opacity:1; fill:none\" points=\"457.191,147.058 589.439,147.058 \"/>\n",
       "<path clip-path=\"url(#clip300)\" d=\"M625.323 166.745 Q623.518 171.375 621.805 172.787 Q620.092 174.199 617.221 174.199 L613.819 174.199 L613.819 170.634 L616.319 170.634 Q618.078 170.634 619.05 169.8 Q620.022 168.967 621.203 165.865 L621.967 163.921 L611.481 138.412 L615.995 138.412 L624.096 158.689 L632.198 138.412 L636.712 138.412 L625.323 166.745 Z\" fill=\"#000000\" fill-rule=\"nonzero\" fill-opacity=\"1\" /><path clip-path=\"url(#clip300)\" d=\"M644.004 160.402 L651.643 160.402 L651.643 134.037 L643.332 135.703 L643.332 131.444 L651.596 129.778 L656.272 129.778 L656.272 160.402 L663.911 160.402 L663.911 164.338 L644.004 164.338 L644.004 160.402 Z\" fill=\"#000000\" fill-rule=\"nonzero\" fill-opacity=\"1\" /></svg>\n"
      ]
     },
     "execution_count": 75,
     "metadata": {},
     "output_type": "execute_result"
    }
   ],
   "source": [
    "x = [0.988:0.001:1.012...]\n",
    "function f2(x :: Real)\n",
    "    (x - 1)^7\n",
    "end\n",
    "y2 = map(f2, x)\n",
    "plot(x, y2)"
   ]
  },
  {
   "cell_type": "markdown",
   "metadata": {},
   "source": [
    "#### 3."
   ]
  },
  {
   "cell_type": "markdown",
   "metadata": {},
   "source": [
    "Plot `y = x^7 - 7x^6 + 21x^5 - 35x^4 + 35x^3 - 21x^2 + 7x - 1` and `y = (x - 1)^7` together:"
   ]
  },
  {
   "cell_type": "code",
   "execution_count": 76,
   "metadata": {},
   "outputs": [
    {
     "data": {
      "image/svg+xml": [
       "<?xml version=\"1.0\" encoding=\"utf-8\"?>\n",
       "<svg xmlns=\"http://www.w3.org/2000/svg\" xmlns:xlink=\"http://www.w3.org/1999/xlink\" width=\"600\" height=\"400\" viewBox=\"0 0 2400 1600\">\n",
       "<defs>\n",
       "  <clipPath id=\"clip340\">\n",
       "    <rect x=\"0\" y=\"0\" width=\"2400\" height=\"1600\"/>\n",
       "  </clipPath>\n",
       "</defs>\n",
       "<path clip-path=\"url(#clip340)\" d=\"M0 1600 L2400 1600 L2400 0 L0 0  Z\" fill=\"#ffffff\" fill-rule=\"evenodd\" fill-opacity=\"1\"/>\n",
       "<defs>\n",
       "  <clipPath id=\"clip341\">\n",
       "    <rect x=\"480\" y=\"0\" width=\"1681\" height=\"1600\"/>\n",
       "  </clipPath>\n",
       "</defs>\n",
       "<path clip-path=\"url(#clip340)\" d=\"M369.025 1486.45 L2352.76 1486.45 L2352.76 47.2441 L369.025 47.2441  Z\" fill=\"#ffffff\" fill-rule=\"evenodd\" fill-opacity=\"1\"/>\n",
       "<defs>\n",
       "  <clipPath id=\"clip342\">\n",
       "    <rect x=\"369\" y=\"47\" width=\"1985\" height=\"1440\"/>\n",
       "  </clipPath>\n",
       "</defs>\n",
       "<polyline clip-path=\"url(#clip342)\" style=\"stroke:#000000; stroke-linecap:round; stroke-linejoin:round; stroke-width:2; stroke-opacity:0.1; fill:none\" points=\"581.122,1486.45 581.122,47.2441 \"/>\n",
       "<polyline clip-path=\"url(#clip342)\" style=\"stroke:#000000; stroke-linecap:round; stroke-linejoin:round; stroke-width:2; stroke-opacity:0.1; fill:none\" points=\"971.006,1486.45 971.006,47.2441 \"/>\n",
       "<polyline clip-path=\"url(#clip342)\" style=\"stroke:#000000; stroke-linecap:round; stroke-linejoin:round; stroke-width:2; stroke-opacity:0.1; fill:none\" points=\"1360.89,1486.45 1360.89,47.2441 \"/>\n",
       "<polyline clip-path=\"url(#clip342)\" style=\"stroke:#000000; stroke-linecap:round; stroke-linejoin:round; stroke-width:2; stroke-opacity:0.1; fill:none\" points=\"1750.77,1486.45 1750.77,47.2441 \"/>\n",
       "<polyline clip-path=\"url(#clip342)\" style=\"stroke:#000000; stroke-linecap:round; stroke-linejoin:round; stroke-width:2; stroke-opacity:0.1; fill:none\" points=\"2140.66,1486.45 2140.66,47.2441 \"/>\n",
       "<polyline clip-path=\"url(#clip340)\" style=\"stroke:#000000; stroke-linecap:round; stroke-linejoin:round; stroke-width:4; stroke-opacity:1; fill:none\" points=\"369.025,1486.45 2352.76,1486.45 \"/>\n",
       "<polyline clip-path=\"url(#clip340)\" style=\"stroke:#000000; stroke-linecap:round; stroke-linejoin:round; stroke-width:4; stroke-opacity:1; fill:none\" points=\"581.122,1486.45 581.122,1467.55 \"/>\n",
       "<polyline clip-path=\"url(#clip340)\" style=\"stroke:#000000; stroke-linecap:round; stroke-linejoin:round; stroke-width:4; stroke-opacity:1; fill:none\" points=\"971.006,1486.45 971.006,1467.55 \"/>\n",
       "<polyline clip-path=\"url(#clip340)\" style=\"stroke:#000000; stroke-linecap:round; stroke-linejoin:round; stroke-width:4; stroke-opacity:1; fill:none\" points=\"1360.89,1486.45 1360.89,1467.55 \"/>\n",
       "<polyline clip-path=\"url(#clip340)\" style=\"stroke:#000000; stroke-linecap:round; stroke-linejoin:round; stroke-width:4; stroke-opacity:1; fill:none\" points=\"1750.77,1486.45 1750.77,1467.55 \"/>\n",
       "<polyline clip-path=\"url(#clip340)\" style=\"stroke:#000000; stroke-linecap:round; stroke-linejoin:round; stroke-width:4; stroke-opacity:1; fill:none\" points=\"2140.66,1486.45 2140.66,1467.55 \"/>\n",
       "<path clip-path=\"url(#clip340)\" d=\"M528.344 1517.37 Q524.733 1517.37 522.905 1520.93 Q521.099 1524.47 521.099 1531.6 Q521.099 1538.71 522.905 1542.27 Q524.733 1545.82 528.344 1545.82 Q531.979 1545.82 533.784 1542.27 Q535.613 1538.71 535.613 1531.6 Q535.613 1524.47 533.784 1520.93 Q531.979 1517.37 528.344 1517.37 M528.344 1513.66 Q534.154 1513.66 537.21 1518.27 Q540.289 1522.85 540.289 1531.6 Q540.289 1540.33 537.21 1544.94 Q534.154 1549.52 528.344 1549.52 Q522.534 1549.52 519.455 1544.94 Q516.4 1540.33 516.4 1531.6 Q516.4 1522.85 519.455 1518.27 Q522.534 1513.66 528.344 1513.66 Z\" fill=\"#000000\" fill-rule=\"nonzero\" fill-opacity=\"1\" /><path clip-path=\"url(#clip340)\" d=\"M548.506 1542.97 L553.39 1542.97 L553.39 1548.85 L548.506 1548.85 L548.506 1542.97 Z\" fill=\"#000000\" fill-rule=\"nonzero\" fill-opacity=\"1\" /><path clip-path=\"url(#clip340)\" d=\"M563.714 1548.13 L563.714 1543.87 Q565.474 1544.7 567.279 1545.14 Q569.085 1545.58 570.821 1545.58 Q575.451 1545.58 577.881 1542.48 Q580.335 1539.36 580.682 1533.01 Q579.339 1535.01 577.279 1536.07 Q575.219 1537.13 572.719 1537.13 Q567.534 1537.13 564.502 1534.01 Q561.492 1530.86 561.492 1525.42 Q561.492 1520.1 564.64 1516.88 Q567.789 1513.66 573.02 1513.66 Q579.015 1513.66 582.163 1518.27 Q585.335 1522.85 585.335 1531.6 Q585.335 1539.77 581.446 1544.66 Q577.58 1549.52 571.029 1549.52 Q569.27 1549.52 567.464 1549.17 Q565.659 1548.82 563.714 1548.13 M573.02 1533.48 Q576.168 1533.48 577.997 1531.32 Q579.849 1529.17 579.849 1525.42 Q579.849 1521.7 577.997 1519.54 Q576.168 1517.37 573.02 1517.37 Q569.872 1517.37 568.02 1519.54 Q566.191 1521.7 566.191 1525.42 Q566.191 1529.17 568.02 1531.32 Q569.872 1533.48 573.02 1533.48 Z\" fill=\"#000000\" fill-rule=\"nonzero\" fill-opacity=\"1\" /><path clip-path=\"url(#clip340)\" d=\"M593.876 1548.13 L593.876 1543.87 Q595.636 1544.7 597.441 1545.14 Q599.247 1545.58 600.983 1545.58 Q605.612 1545.58 608.043 1542.48 Q610.497 1539.36 610.844 1533.01 Q609.501 1535.01 607.441 1536.07 Q605.381 1537.13 602.881 1537.13 Q597.696 1537.13 594.663 1534.01 Q591.654 1530.86 591.654 1525.42 Q591.654 1520.1 594.802 1516.88 Q597.95 1513.66 603.182 1513.66 Q609.177 1513.66 612.325 1518.27 Q615.497 1522.85 615.497 1531.6 Q615.497 1539.77 611.608 1544.66 Q607.742 1549.52 601.191 1549.52 Q599.432 1549.52 597.626 1549.17 Q595.821 1548.82 593.876 1548.13 M603.182 1533.48 Q606.33 1533.48 608.159 1531.32 Q610.011 1529.17 610.011 1525.42 Q610.011 1521.7 608.159 1519.54 Q606.33 1517.37 603.182 1517.37 Q600.034 1517.37 598.182 1519.54 Q596.353 1521.7 596.353 1525.42 Q596.353 1529.17 598.182 1531.32 Q600.034 1533.48 603.182 1533.48 Z\" fill=\"#000000\" fill-rule=\"nonzero\" fill-opacity=\"1\" /><path clip-path=\"url(#clip340)\" d=\"M633.899 1517.37 Q630.288 1517.37 628.46 1520.93 Q626.654 1524.47 626.654 1531.6 Q626.654 1538.71 628.46 1542.27 Q630.288 1545.82 633.899 1545.82 Q637.534 1545.82 639.339 1542.27 Q641.168 1538.71 641.168 1531.6 Q641.168 1524.47 639.339 1520.93 Q637.534 1517.37 633.899 1517.37 M633.899 1513.66 Q639.709 1513.66 642.765 1518.27 Q645.844 1522.85 645.844 1531.6 Q645.844 1540.33 642.765 1544.94 Q639.709 1549.52 633.899 1549.52 Q628.089 1549.52 625.01 1544.94 Q621.955 1540.33 621.955 1531.6 Q621.955 1522.85 625.01 1518.27 Q628.089 1513.66 633.899 1513.66 Z\" fill=\"#000000\" fill-rule=\"nonzero\" fill-opacity=\"1\" /><path clip-path=\"url(#clip340)\" d=\"M918.726 1517.37 Q915.115 1517.37 913.286 1520.93 Q911.481 1524.47 911.481 1531.6 Q911.481 1538.71 913.286 1542.27 Q915.115 1545.82 918.726 1545.82 Q922.36 1545.82 924.166 1542.27 Q925.995 1538.71 925.995 1531.6 Q925.995 1524.47 924.166 1520.93 Q922.36 1517.37 918.726 1517.37 M918.726 1513.66 Q924.536 1513.66 927.592 1518.27 Q930.671 1522.85 930.671 1531.6 Q930.671 1540.33 927.592 1544.94 Q924.536 1549.52 918.726 1549.52 Q912.916 1549.52 909.837 1544.94 Q906.782 1540.33 906.782 1531.6 Q906.782 1522.85 909.837 1518.27 Q912.916 1513.66 918.726 1513.66 Z\" fill=\"#000000\" fill-rule=\"nonzero\" fill-opacity=\"1\" /><path clip-path=\"url(#clip340)\" d=\"M938.888 1542.97 L943.772 1542.97 L943.772 1548.85 L938.888 1548.85 L938.888 1542.97 Z\" fill=\"#000000\" fill-rule=\"nonzero\" fill-opacity=\"1\" /><path clip-path=\"url(#clip340)\" d=\"M954.096 1548.13 L954.096 1543.87 Q955.856 1544.7 957.661 1545.14 Q959.467 1545.58 961.203 1545.58 Q965.832 1545.58 968.263 1542.48 Q970.717 1539.36 971.064 1533.01 Q969.721 1535.01 967.661 1536.07 Q965.601 1537.13 963.101 1537.13 Q957.916 1537.13 954.883 1534.01 Q951.874 1530.86 951.874 1525.42 Q951.874 1520.1 955.022 1516.88 Q958.17 1513.66 963.402 1513.66 Q969.397 1513.66 972.545 1518.27 Q975.717 1522.85 975.717 1531.6 Q975.717 1539.77 971.828 1544.66 Q967.962 1549.52 961.411 1549.52 Q959.652 1549.52 957.846 1549.17 Q956.041 1548.82 954.096 1548.13 M963.402 1533.48 Q966.55 1533.48 968.379 1531.32 Q970.231 1529.17 970.231 1525.42 Q970.231 1521.7 968.379 1519.54 Q966.55 1517.37 963.402 1517.37 Q960.254 1517.37 958.402 1519.54 Q956.573 1521.7 956.573 1525.42 Q956.573 1529.17 958.402 1531.32 Q960.254 1533.48 963.402 1533.48 Z\" fill=\"#000000\" fill-rule=\"nonzero\" fill-opacity=\"1\" /><path clip-path=\"url(#clip340)\" d=\"M984.258 1548.13 L984.258 1543.87 Q986.018 1544.7 987.823 1545.14 Q989.629 1545.58 991.365 1545.58 Q995.994 1545.58 998.425 1542.48 Q1000.88 1539.36 1001.23 1533.01 Q999.883 1535.01 997.823 1536.07 Q995.763 1537.13 993.263 1537.13 Q988.078 1537.13 985.045 1534.01 Q982.036 1530.86 982.036 1525.42 Q982.036 1520.1 985.184 1516.88 Q988.332 1513.66 993.564 1513.66 Q999.559 1513.66 1002.71 1518.27 Q1005.88 1522.85 1005.88 1531.6 Q1005.88 1539.77 1001.99 1544.66 Q998.124 1549.52 991.573 1549.52 Q989.814 1549.52 988.008 1549.17 Q986.203 1548.82 984.258 1548.13 M993.564 1533.48 Q996.712 1533.48 998.541 1531.32 Q1000.39 1529.17 1000.39 1525.42 Q1000.39 1521.7 998.541 1519.54 Q996.712 1517.37 993.564 1517.37 Q990.416 1517.37 988.564 1519.54 Q986.735 1521.7 986.735 1525.42 Q986.735 1529.17 988.564 1531.32 Q990.416 1533.48 993.564 1533.48 Z\" fill=\"#000000\" fill-rule=\"nonzero\" fill-opacity=\"1\" /><path clip-path=\"url(#clip340)\" d=\"M1014.33 1514.29 L1032.68 1514.29 L1032.68 1518.22 L1018.61 1518.22 L1018.61 1526.7 Q1019.63 1526.35 1020.65 1526.19 Q1021.67 1526 1022.68 1526 Q1028.47 1526 1031.85 1529.17 Q1035.23 1532.34 1035.23 1537.76 Q1035.23 1543.34 1031.76 1546.44 Q1028.29 1549.52 1021.97 1549.52 Q1019.79 1549.52 1017.52 1549.15 Q1015.28 1548.78 1012.87 1548.04 L1012.87 1543.34 Q1014.95 1544.47 1017.17 1545.03 Q1019.4 1545.58 1021.87 1545.58 Q1025.88 1545.58 1028.22 1543.48 Q1030.55 1541.37 1030.55 1537.76 Q1030.55 1534.15 1028.22 1532.04 Q1025.88 1529.94 1021.87 1529.94 Q1020 1529.94 1018.12 1530.35 Q1016.27 1530.77 1014.33 1531.65 L1014.33 1514.29 Z\" fill=\"#000000\" fill-rule=\"nonzero\" fill-opacity=\"1\" /><path clip-path=\"url(#clip340)\" d=\"M1297.88 1544.91 L1305.52 1544.91 L1305.52 1518.55 L1297.21 1520.21 L1297.21 1515.95 L1305.47 1514.29 L1310.15 1514.29 L1310.15 1544.91 L1317.79 1544.91 L1317.79 1548.85 L1297.88 1548.85 L1297.88 1544.91 Z\" fill=\"#000000\" fill-rule=\"nonzero\" fill-opacity=\"1\" /><path clip-path=\"url(#clip340)\" d=\"M1327.23 1542.97 L1332.12 1542.97 L1332.12 1548.85 L1327.23 1548.85 L1327.23 1542.97 Z\" fill=\"#000000\" fill-rule=\"nonzero\" fill-opacity=\"1\" /><path clip-path=\"url(#clip340)\" d=\"M1352.3 1517.37 Q1348.69 1517.37 1346.86 1520.93 Q1345.06 1524.47 1345.06 1531.6 Q1345.06 1538.71 1346.86 1542.27 Q1348.69 1545.82 1352.3 1545.82 Q1355.94 1545.82 1357.74 1542.27 Q1359.57 1538.71 1359.57 1531.6 Q1359.57 1524.47 1357.74 1520.93 Q1355.94 1517.37 1352.3 1517.37 M1352.3 1513.66 Q1358.11 1513.66 1361.17 1518.27 Q1364.25 1522.85 1364.25 1531.6 Q1364.25 1540.33 1361.17 1544.94 Q1358.11 1549.52 1352.3 1549.52 Q1346.49 1549.52 1343.41 1544.94 Q1340.36 1540.33 1340.36 1531.6 Q1340.36 1522.85 1343.41 1518.27 Q1346.49 1513.66 1352.3 1513.66 Z\" fill=\"#000000\" fill-rule=\"nonzero\" fill-opacity=\"1\" /><path clip-path=\"url(#clip340)\" d=\"M1382.46 1517.37 Q1378.85 1517.37 1377.02 1520.93 Q1375.22 1524.47 1375.22 1531.6 Q1375.22 1538.71 1377.02 1542.27 Q1378.85 1545.82 1382.46 1545.82 Q1386.1 1545.82 1387.9 1542.27 Q1389.73 1538.71 1389.73 1531.6 Q1389.73 1524.47 1387.9 1520.93 Q1386.1 1517.37 1382.46 1517.37 M1382.46 1513.66 Q1388.27 1513.66 1391.33 1518.27 Q1394.41 1522.85 1394.41 1531.6 Q1394.41 1540.33 1391.33 1544.94 Q1388.27 1549.52 1382.46 1549.52 Q1376.65 1549.52 1373.58 1544.94 Q1370.52 1540.33 1370.52 1531.6 Q1370.52 1522.85 1373.58 1518.27 Q1376.65 1513.66 1382.46 1513.66 Z\" fill=\"#000000\" fill-rule=\"nonzero\" fill-opacity=\"1\" /><path clip-path=\"url(#clip340)\" d=\"M1412.63 1517.37 Q1409.02 1517.37 1407.19 1520.93 Q1405.38 1524.47 1405.38 1531.6 Q1405.38 1538.71 1407.19 1542.27 Q1409.02 1545.82 1412.63 1545.82 Q1416.26 1545.82 1418.07 1542.27 Q1419.89 1538.71 1419.89 1531.6 Q1419.89 1524.47 1418.07 1520.93 Q1416.26 1517.37 1412.63 1517.37 M1412.63 1513.66 Q1418.44 1513.66 1421.49 1518.27 Q1424.57 1522.85 1424.57 1531.6 Q1424.57 1540.33 1421.49 1544.94 Q1418.44 1549.52 1412.63 1549.52 Q1406.82 1549.52 1403.74 1544.94 Q1400.68 1540.33 1400.68 1531.6 Q1400.68 1522.85 1403.74 1518.27 Q1406.82 1513.66 1412.63 1513.66 Z\" fill=\"#000000\" fill-rule=\"nonzero\" fill-opacity=\"1\" /><path clip-path=\"url(#clip340)\" d=\"M1688.26 1544.91 L1695.9 1544.91 L1695.9 1518.55 L1687.59 1520.21 L1687.59 1515.95 L1695.86 1514.29 L1700.53 1514.29 L1700.53 1544.91 L1708.17 1544.91 L1708.17 1548.85 L1688.26 1548.85 L1688.26 1544.91 Z\" fill=\"#000000\" fill-rule=\"nonzero\" fill-opacity=\"1\" /><path clip-path=\"url(#clip340)\" d=\"M1717.62 1542.97 L1722.5 1542.97 L1722.5 1548.85 L1717.62 1548.85 L1717.62 1542.97 Z\" fill=\"#000000\" fill-rule=\"nonzero\" fill-opacity=\"1\" /><path clip-path=\"url(#clip340)\" d=\"M1742.68 1517.37 Q1739.07 1517.37 1737.24 1520.93 Q1735.44 1524.47 1735.44 1531.6 Q1735.44 1538.71 1737.24 1542.27 Q1739.07 1545.82 1742.68 1545.82 Q1746.32 1545.82 1748.12 1542.27 Q1749.95 1538.71 1749.95 1531.6 Q1749.95 1524.47 1748.12 1520.93 Q1746.32 1517.37 1742.68 1517.37 M1742.68 1513.66 Q1748.49 1513.66 1751.55 1518.27 Q1754.63 1522.85 1754.63 1531.6 Q1754.63 1540.33 1751.55 1544.94 Q1748.49 1549.52 1742.68 1549.52 Q1736.87 1549.52 1733.8 1544.94 Q1730.74 1540.33 1730.74 1531.6 Q1730.74 1522.85 1733.8 1518.27 Q1736.87 1513.66 1742.68 1513.66 Z\" fill=\"#000000\" fill-rule=\"nonzero\" fill-opacity=\"1\" /><path clip-path=\"url(#clip340)\" d=\"M1772.85 1517.37 Q1769.24 1517.37 1767.41 1520.93 Q1765.6 1524.47 1765.6 1531.6 Q1765.6 1538.71 1767.41 1542.27 Q1769.24 1545.82 1772.85 1545.82 Q1776.48 1545.82 1778.29 1542.27 Q1780.11 1538.71 1780.11 1531.6 Q1780.11 1524.47 1778.29 1520.93 Q1776.48 1517.37 1772.85 1517.37 M1772.85 1513.66 Q1778.66 1513.66 1781.71 1518.27 Q1784.79 1522.85 1784.79 1531.6 Q1784.79 1540.33 1781.71 1544.94 Q1778.66 1549.52 1772.85 1549.52 Q1767.04 1549.52 1763.96 1544.94 Q1760.9 1540.33 1760.9 1531.6 Q1760.9 1522.85 1763.96 1518.27 Q1767.04 1513.66 1772.85 1513.66 Z\" fill=\"#000000\" fill-rule=\"nonzero\" fill-opacity=\"1\" /><path clip-path=\"url(#clip340)\" d=\"M1793.05 1514.29 L1811.41 1514.29 L1811.41 1518.22 L1797.34 1518.22 L1797.34 1526.7 Q1798.36 1526.35 1799.37 1526.19 Q1800.39 1526 1801.41 1526 Q1807.2 1526 1810.58 1529.17 Q1813.96 1532.34 1813.96 1537.76 Q1813.96 1543.34 1810.48 1546.44 Q1807.01 1549.52 1800.69 1549.52 Q1798.52 1549.52 1796.25 1549.15 Q1794 1548.78 1791.6 1548.04 L1791.6 1543.34 Q1793.68 1544.47 1795.9 1545.03 Q1798.12 1545.58 1800.6 1545.58 Q1804.61 1545.58 1806.94 1543.48 Q1809.28 1541.37 1809.28 1537.76 Q1809.28 1534.15 1806.94 1532.04 Q1804.61 1529.94 1800.6 1529.94 Q1798.73 1529.94 1796.85 1530.35 Q1795 1530.77 1793.05 1531.65 L1793.05 1514.29 Z\" fill=\"#000000\" fill-rule=\"nonzero\" fill-opacity=\"1\" /><path clip-path=\"url(#clip340)\" d=\"M2077.65 1544.91 L2085.29 1544.91 L2085.29 1518.55 L2076.98 1520.21 L2076.98 1515.95 L2085.24 1514.29 L2089.92 1514.29 L2089.92 1544.91 L2097.56 1544.91 L2097.56 1548.85 L2077.65 1548.85 L2077.65 1544.91 Z\" fill=\"#000000\" fill-rule=\"nonzero\" fill-opacity=\"1\" /><path clip-path=\"url(#clip340)\" d=\"M2107 1542.97 L2111.89 1542.97 L2111.89 1548.85 L2107 1548.85 L2107 1542.97 Z\" fill=\"#000000\" fill-rule=\"nonzero\" fill-opacity=\"1\" /><path clip-path=\"url(#clip340)\" d=\"M2132.07 1517.37 Q2128.46 1517.37 2126.63 1520.93 Q2124.83 1524.47 2124.83 1531.6 Q2124.83 1538.71 2126.63 1542.27 Q2128.46 1545.82 2132.07 1545.82 Q2135.71 1545.82 2137.51 1542.27 Q2139.34 1538.71 2139.34 1531.6 Q2139.34 1524.47 2137.51 1520.93 Q2135.71 1517.37 2132.07 1517.37 M2132.07 1513.66 Q2137.88 1513.66 2140.94 1518.27 Q2144.02 1522.85 2144.02 1531.6 Q2144.02 1540.33 2140.94 1544.94 Q2137.88 1549.52 2132.07 1549.52 Q2126.26 1549.52 2123.18 1544.94 Q2120.13 1540.33 2120.13 1531.6 Q2120.13 1522.85 2123.18 1518.27 Q2126.26 1513.66 2132.07 1513.66 Z\" fill=\"#000000\" fill-rule=\"nonzero\" fill-opacity=\"1\" /><path clip-path=\"url(#clip340)\" d=\"M2153.04 1544.91 L2160.68 1544.91 L2160.68 1518.55 L2152.37 1520.21 L2152.37 1515.95 L2160.64 1514.29 L2165.31 1514.29 L2165.31 1544.91 L2172.95 1544.91 L2172.95 1548.85 L2153.04 1548.85 L2153.04 1544.91 Z\" fill=\"#000000\" fill-rule=\"nonzero\" fill-opacity=\"1\" /><path clip-path=\"url(#clip340)\" d=\"M2192.39 1517.37 Q2188.78 1517.37 2186.95 1520.93 Q2185.15 1524.47 2185.15 1531.6 Q2185.15 1538.71 2186.95 1542.27 Q2188.78 1545.82 2192.39 1545.82 Q2196.03 1545.82 2197.83 1542.27 Q2199.66 1538.71 2199.66 1531.6 Q2199.66 1524.47 2197.83 1520.93 Q2196.03 1517.37 2192.39 1517.37 M2192.39 1513.66 Q2198.2 1513.66 2201.26 1518.27 Q2204.34 1522.85 2204.34 1531.6 Q2204.34 1540.33 2201.26 1544.94 Q2198.2 1549.52 2192.39 1549.52 Q2186.58 1549.52 2183.51 1544.94 Q2180.45 1540.33 2180.45 1531.6 Q2180.45 1522.85 2183.51 1518.27 Q2186.58 1513.66 2192.39 1513.66 Z\" fill=\"#000000\" fill-rule=\"nonzero\" fill-opacity=\"1\" /><polyline clip-path=\"url(#clip342)\" style=\"stroke:#000000; stroke-linecap:round; stroke-linejoin:round; stroke-width:2; stroke-opacity:0.1; fill:none\" points=\"369.025,1171.76 2352.76,1171.76 \"/>\n",
       "<polyline clip-path=\"url(#clip342)\" style=\"stroke:#000000; stroke-linecap:round; stroke-linejoin:round; stroke-width:2; stroke-opacity:0.1; fill:none\" points=\"369.025,825.686 2352.76,825.686 \"/>\n",
       "<polyline clip-path=\"url(#clip342)\" style=\"stroke:#000000; stroke-linecap:round; stroke-linejoin:round; stroke-width:2; stroke-opacity:0.1; fill:none\" points=\"369.025,479.608 2352.76,479.608 \"/>\n",
       "<polyline clip-path=\"url(#clip342)\" style=\"stroke:#000000; stroke-linecap:round; stroke-linejoin:round; stroke-width:2; stroke-opacity:0.1; fill:none\" points=\"369.025,133.53 2352.76,133.53 \"/>\n",
       "<polyline clip-path=\"url(#clip340)\" style=\"stroke:#000000; stroke-linecap:round; stroke-linejoin:round; stroke-width:4; stroke-opacity:1; fill:none\" points=\"369.025,1486.45 369.025,47.2441 \"/>\n",
       "<polyline clip-path=\"url(#clip340)\" style=\"stroke:#000000; stroke-linecap:round; stroke-linejoin:round; stroke-width:4; stroke-opacity:1; fill:none\" points=\"369.025,1171.76 387.922,1171.76 \"/>\n",
       "<polyline clip-path=\"url(#clip340)\" style=\"stroke:#000000; stroke-linecap:round; stroke-linejoin:round; stroke-width:4; stroke-opacity:1; fill:none\" points=\"369.025,825.686 387.922,825.686 \"/>\n",
       "<polyline clip-path=\"url(#clip340)\" style=\"stroke:#000000; stroke-linecap:round; stroke-linejoin:round; stroke-width:4; stroke-opacity:1; fill:none\" points=\"369.025,479.608 387.922,479.608 \"/>\n",
       "<polyline clip-path=\"url(#clip340)\" style=\"stroke:#000000; stroke-linecap:round; stroke-linejoin:round; stroke-width:4; stroke-opacity:1; fill:none\" points=\"369.025,133.53 387.922,133.53 \"/>\n",
       "<path clip-path=\"url(#clip340)\" d=\"M50.9921 1178.66 L80.6679 1178.66 L80.6679 1182.6 L50.9921 1182.6 L50.9921 1178.66 Z\" fill=\"#000000\" fill-rule=\"nonzero\" fill-opacity=\"1\" /><path clip-path=\"url(#clip340)\" d=\"M94.7882 1191.56 L111.108 1191.56 L111.108 1195.49 L89.1632 1195.49 L89.1632 1191.56 Q91.8252 1188.8 96.4085 1184.17 Q101.015 1179.52 102.196 1178.18 Q104.441 1175.65 105.321 1173.92 Q106.223 1172.16 106.223 1170.47 Q106.223 1167.71 104.279 1165.98 Q102.358 1164.24 99.2558 1164.24 Q97.0567 1164.24 94.603 1165.01 Q92.1725 1165.77 89.3947 1167.32 L89.3947 1162.6 Q92.2188 1161.46 94.6724 1160.89 Q97.1261 1160.31 99.1632 1160.31 Q104.534 1160.31 107.728 1162.99 Q110.922 1165.68 110.922 1170.17 Q110.922 1172.3 110.112 1174.22 Q109.325 1176.12 107.219 1178.71 Q106.64 1179.38 103.538 1182.6 Q100.436 1185.79 94.7882 1191.56 Z\" fill=\"#000000\" fill-rule=\"nonzero\" fill-opacity=\"1\" /><path clip-path=\"url(#clip340)\" d=\"M120.922 1189.61 L125.807 1189.61 L125.807 1195.49 L120.922 1195.49 L120.922 1189.61 Z\" fill=\"#000000\" fill-rule=\"nonzero\" fill-opacity=\"1\" /><path clip-path=\"url(#clip340)\" d=\"M145.992 1164.01 Q142.381 1164.01 140.552 1167.57 Q138.746 1171.12 138.746 1178.25 Q138.746 1185.35 140.552 1188.92 Q142.381 1192.46 145.992 1192.46 Q149.626 1192.46 151.431 1188.92 Q153.26 1185.35 153.26 1178.25 Q153.26 1171.12 151.431 1167.57 Q149.626 1164.01 145.992 1164.01 M145.992 1160.31 Q151.802 1160.31 154.857 1164.91 Q157.936 1169.5 157.936 1178.25 Q157.936 1186.97 154.857 1191.58 Q151.802 1196.16 145.992 1196.16 Q140.181 1196.16 137.103 1191.58 Q134.047 1186.97 134.047 1178.25 Q134.047 1169.5 137.103 1164.91 Q140.181 1160.31 145.992 1160.31 Z\" fill=\"#000000\" fill-rule=\"nonzero\" fill-opacity=\"1\" /><path clip-path=\"url(#clip340)\" d=\"M194.325 1170.03 L183.746 1180.65 L194.325 1191.23 L191.57 1194.03 L180.945 1183.41 L170.32 1194.03 L167.589 1191.23 L178.144 1180.65 L167.589 1170.03 L170.32 1167.23 L180.945 1177.85 L191.57 1167.23 L194.325 1170.03 Z\" fill=\"#000000\" fill-rule=\"nonzero\" fill-opacity=\"1\" /><path clip-path=\"url(#clip340)\" d=\"M206.686 1191.56 L214.325 1191.56 L214.325 1165.19 L206.014 1166.86 L206.014 1162.6 L214.278 1160.93 L218.954 1160.93 L218.954 1191.56 L226.593 1191.56 L226.593 1195.49 L206.686 1195.49 L206.686 1191.56 Z\" fill=\"#000000\" fill-rule=\"nonzero\" fill-opacity=\"1\" /><path clip-path=\"url(#clip340)\" d=\"M246.037 1164.01 Q242.426 1164.01 240.598 1167.57 Q238.792 1171.12 238.792 1178.25 Q238.792 1185.35 240.598 1188.92 Q242.426 1192.46 246.037 1192.46 Q249.672 1192.46 251.477 1188.92 Q253.306 1185.35 253.306 1178.25 Q253.306 1171.12 251.477 1167.57 Q249.672 1164.01 246.037 1164.01 M246.037 1160.31 Q251.848 1160.31 254.903 1164.91 Q257.982 1169.5 257.982 1178.25 Q257.982 1186.97 254.903 1191.58 Q251.848 1196.16 246.037 1196.16 Q240.227 1196.16 237.149 1191.58 Q234.093 1186.97 234.093 1178.25 Q234.093 1169.5 237.149 1164.91 Q240.227 1160.31 246.037 1160.31 Z\" fill=\"#000000\" fill-rule=\"nonzero\" fill-opacity=\"1\" /><path clip-path=\"url(#clip340)\" d=\"M257.982 1154.41 L282.093 1154.41 L282.093 1157.6 L257.982 1157.6 L257.982 1154.41 Z\" fill=\"#000000\" fill-rule=\"nonzero\" fill-opacity=\"1\" /><path clip-path=\"url(#clip340)\" d=\"M290.952 1164.88 L297.158 1164.88 L297.158 1143.46 L290.406 1144.82 L290.406 1141.36 L297.121 1140 L300.92 1140 L300.92 1164.88 L307.126 1164.88 L307.126 1168.08 L290.952 1168.08 L290.952 1164.88 Z\" fill=\"#000000\" fill-rule=\"nonzero\" fill-opacity=\"1\" /><path clip-path=\"url(#clip340)\" d=\"M325.238 1143.31 L315.646 1158.3 L325.238 1158.3 L325.238 1143.31 M324.242 1140 L329.019 1140 L329.019 1158.3 L333.025 1158.3 L333.025 1161.46 L329.019 1161.46 L329.019 1168.08 L325.238 1168.08 L325.238 1161.46 L312.562 1161.46 L312.562 1157.79 L324.242 1140 Z\" fill=\"#000000\" fill-rule=\"nonzero\" fill-opacity=\"1\" /><path clip-path=\"url(#clip340)\" d=\"M321.08 811.484 Q317.469 811.484 315.641 815.049 Q313.835 818.591 313.835 825.72 Q313.835 832.827 315.641 836.392 Q317.469 839.933 321.08 839.933 Q324.715 839.933 326.52 836.392 Q328.349 832.827 328.349 825.72 Q328.349 818.591 326.52 815.049 Q324.715 811.484 321.08 811.484 M321.08 807.781 Q326.891 807.781 329.946 812.387 Q333.025 816.971 333.025 825.72 Q333.025 834.447 329.946 839.054 Q326.891 843.637 321.08 843.637 Q315.27 843.637 312.192 839.054 Q309.136 834.447 309.136 825.72 Q309.136 816.971 312.192 812.387 Q315.27 807.781 321.08 807.781 Z\" fill=\"#000000\" fill-rule=\"nonzero\" fill-opacity=\"1\" /><path clip-path=\"url(#clip340)\" d=\"M94.7882 499.4 L111.108 499.4 L111.108 503.335 L89.1632 503.335 L89.1632 499.4 Q91.8252 496.646 96.4085 492.016 Q101.015 487.363 102.196 486.021 Q104.441 483.498 105.321 481.761 Q106.223 480.002 106.223 478.312 Q106.223 475.558 104.279 473.822 Q102.358 472.086 99.2558 472.086 Q97.0567 472.086 94.603 472.849 Q92.1725 473.613 89.3947 475.164 L89.3947 470.442 Q92.2188 469.308 94.6724 468.729 Q97.1261 468.15 99.1632 468.15 Q104.534 468.15 107.728 470.836 Q110.922 473.521 110.922 478.011 Q110.922 480.141 110.112 482.062 Q109.325 483.961 107.219 486.553 Q106.64 487.224 103.538 490.442 Q100.436 493.636 94.7882 499.4 Z\" fill=\"#000000\" fill-rule=\"nonzero\" fill-opacity=\"1\" /><path clip-path=\"url(#clip340)\" d=\"M120.922 497.456 L125.807 497.456 L125.807 503.335 L120.922 503.335 L120.922 497.456 Z\" fill=\"#000000\" fill-rule=\"nonzero\" fill-opacity=\"1\" /><path clip-path=\"url(#clip340)\" d=\"M145.992 471.854 Q142.381 471.854 140.552 475.419 Q138.746 478.961 138.746 486.09 Q138.746 493.197 140.552 496.761 Q142.381 500.303 145.992 500.303 Q149.626 500.303 151.431 496.761 Q153.26 493.197 153.26 486.09 Q153.26 478.961 151.431 475.419 Q149.626 471.854 145.992 471.854 M145.992 468.15 Q151.802 468.15 154.857 472.757 Q157.936 477.34 157.936 486.09 Q157.936 494.817 154.857 499.423 Q151.802 504.007 145.992 504.007 Q140.181 504.007 137.103 499.423 Q134.047 494.817 134.047 486.09 Q134.047 477.34 137.103 472.757 Q140.181 468.15 145.992 468.15 Z\" fill=\"#000000\" fill-rule=\"nonzero\" fill-opacity=\"1\" /><path clip-path=\"url(#clip340)\" d=\"M194.325 477.873 L183.746 488.498 L194.325 499.076 L191.57 501.877 L180.945 491.252 L170.32 501.877 L167.589 499.076 L178.144 488.498 L167.589 477.873 L170.32 475.072 L180.945 485.697 L191.57 475.072 L194.325 477.873 Z\" fill=\"#000000\" fill-rule=\"nonzero\" fill-opacity=\"1\" /><path clip-path=\"url(#clip340)\" d=\"M206.686 499.4 L214.325 499.4 L214.325 473.035 L206.014 474.701 L206.014 470.442 L214.278 468.775 L218.954 468.775 L218.954 499.4 L226.593 499.4 L226.593 503.335 L206.686 503.335 L206.686 499.4 Z\" fill=\"#000000\" fill-rule=\"nonzero\" fill-opacity=\"1\" /><path clip-path=\"url(#clip340)\" d=\"M246.037 471.854 Q242.426 471.854 240.598 475.419 Q238.792 478.961 238.792 486.09 Q238.792 493.197 240.598 496.761 Q242.426 500.303 246.037 500.303 Q249.672 500.303 251.477 496.761 Q253.306 493.197 253.306 486.09 Q253.306 478.961 251.477 475.419 Q249.672 471.854 246.037 471.854 M246.037 468.15 Q251.848 468.15 254.903 472.757 Q257.982 477.34 257.982 486.09 Q257.982 494.817 254.903 499.423 Q251.848 504.007 246.037 504.007 Q240.227 504.007 237.149 499.423 Q234.093 494.817 234.093 486.09 Q234.093 477.34 237.149 472.757 Q240.227 468.15 246.037 468.15 Z\" fill=\"#000000\" fill-rule=\"nonzero\" fill-opacity=\"1\" /><path clip-path=\"url(#clip340)\" d=\"M257.982 462.252 L282.093 462.252 L282.093 465.449 L257.982 465.449 L257.982 462.252 Z\" fill=\"#000000\" fill-rule=\"nonzero\" fill-opacity=\"1\" /><path clip-path=\"url(#clip340)\" d=\"M290.952 472.728 L297.158 472.728 L297.158 451.306 L290.406 452.66 L290.406 449.199 L297.121 447.845 L300.92 447.845 L300.92 472.728 L307.126 472.728 L307.126 475.925 L290.952 475.925 L290.952 472.728 Z\" fill=\"#000000\" fill-rule=\"nonzero\" fill-opacity=\"1\" /><path clip-path=\"url(#clip340)\" d=\"M325.238 451.155 L315.646 466.145 L325.238 466.145 L325.238 451.155 M324.242 447.845 L329.019 447.845 L329.019 466.145 L333.025 466.145 L333.025 469.305 L329.019 469.305 L329.019 475.925 L325.238 475.925 L325.238 469.305 L312.562 469.305 L312.562 465.637 L324.242 447.845 Z\" fill=\"#000000\" fill-rule=\"nonzero\" fill-opacity=\"1\" /><path clip-path=\"url(#clip340)\" d=\"M103.608 126.772 L91.8021 145.221 L103.608 145.221 L103.608 126.772 M102.381 122.697 L108.26 122.697 L108.26 145.221 L113.191 145.221 L113.191 149.109 L108.26 149.109 L108.26 157.257 L103.608 157.257 L103.608 149.109 L88.0058 149.109 L88.0058 144.596 L102.381 122.697 Z\" fill=\"#000000\" fill-rule=\"nonzero\" fill-opacity=\"1\" /><path clip-path=\"url(#clip340)\" d=\"M120.922 151.378 L125.807 151.378 L125.807 157.257 L120.922 157.257 L120.922 151.378 Z\" fill=\"#000000\" fill-rule=\"nonzero\" fill-opacity=\"1\" /><path clip-path=\"url(#clip340)\" d=\"M145.992 125.776 Q142.381 125.776 140.552 129.341 Q138.746 132.883 138.746 140.012 Q138.746 147.119 140.552 150.683 Q142.381 154.225 145.992 154.225 Q149.626 154.225 151.431 150.683 Q153.26 147.119 153.26 140.012 Q153.26 132.883 151.431 129.341 Q149.626 125.776 145.992 125.776 M145.992 122.072 Q151.802 122.072 154.857 126.679 Q157.936 131.262 157.936 140.012 Q157.936 148.739 154.857 153.345 Q151.802 157.929 145.992 157.929 Q140.181 157.929 137.103 153.345 Q134.047 148.739 134.047 140.012 Q134.047 131.262 137.103 126.679 Q140.181 122.072 145.992 122.072 Z\" fill=\"#000000\" fill-rule=\"nonzero\" fill-opacity=\"1\" /><path clip-path=\"url(#clip340)\" d=\"M194.325 131.795 L183.746 142.42 L194.325 152.998 L191.57 155.799 L180.945 145.174 L170.32 155.799 L167.589 152.998 L178.144 142.42 L167.589 131.795 L170.32 128.994 L180.945 139.619 L191.57 128.994 L194.325 131.795 Z\" fill=\"#000000\" fill-rule=\"nonzero\" fill-opacity=\"1\" /><path clip-path=\"url(#clip340)\" d=\"M206.686 153.322 L214.325 153.322 L214.325 126.957 L206.014 128.623 L206.014 124.364 L214.278 122.697 L218.954 122.697 L218.954 153.322 L226.593 153.322 L226.593 157.257 L206.686 157.257 L206.686 153.322 Z\" fill=\"#000000\" fill-rule=\"nonzero\" fill-opacity=\"1\" /><path clip-path=\"url(#clip340)\" d=\"M246.037 125.776 Q242.426 125.776 240.598 129.341 Q238.792 132.883 238.792 140.012 Q238.792 147.119 240.598 150.683 Q242.426 154.225 246.037 154.225 Q249.672 154.225 251.477 150.683 Q253.306 147.119 253.306 140.012 Q253.306 132.883 251.477 129.341 Q249.672 125.776 246.037 125.776 M246.037 122.072 Q251.848 122.072 254.903 126.679 Q257.982 131.262 257.982 140.012 Q257.982 148.739 254.903 153.345 Q251.848 157.929 246.037 157.929 Q240.227 157.929 237.149 153.345 Q234.093 148.739 234.093 140.012 Q234.093 131.262 237.149 126.679 Q240.227 122.072 246.037 122.072 Z\" fill=\"#000000\" fill-rule=\"nonzero\" fill-opacity=\"1\" /><path clip-path=\"url(#clip340)\" d=\"M257.982 116.174 L282.093 116.174 L282.093 119.371 L257.982 119.371 L257.982 116.174 Z\" fill=\"#000000\" fill-rule=\"nonzero\" fill-opacity=\"1\" /><path clip-path=\"url(#clip340)\" d=\"M290.952 126.65 L297.158 126.65 L297.158 105.228 L290.406 106.582 L290.406 103.121 L297.121 101.767 L300.92 101.767 L300.92 126.65 L307.126 126.65 L307.126 129.847 L290.952 129.847 L290.952 126.65 Z\" fill=\"#000000\" fill-rule=\"nonzero\" fill-opacity=\"1\" /><path clip-path=\"url(#clip340)\" d=\"M325.238 105.077 L315.646 120.067 L325.238 120.067 L325.238 105.077 M324.242 101.767 L329.019 101.767 L329.019 120.067 L333.025 120.067 L333.025 123.227 L329.019 123.227 L329.019 129.847 L325.238 129.847 L325.238 123.227 L312.562 123.227 L312.562 119.559 L324.242 101.767 Z\" fill=\"#000000\" fill-rule=\"nonzero\" fill-opacity=\"1\" /><polyline clip-path=\"url(#clip342)\" style=\"stroke:#009af9; stroke-linecap:round; stroke-linejoin:round; stroke-width:4; stroke-opacity:1; fill:none\" points=\"425.168,1440.44 503.145,1225.28 581.122,1071.59 659.099,964.006 737.076,933.268 815.052,841.055 893.029,856.424 971.006,887.162 1048.98,856.424 1126.96,871.793 1204.94,841.055 1282.91,856.424 1360.89,825.686 1438.87,917.899 1516.84,871.793 1594.82,794.948 1672.8,856.424 1750.77,841.055 1828.75,856.424 1906.73,825.686 1984.71,902.531 2062.68,887.162 2140.66,825.686 2218.64,502.938 2296.61,87.9763 \"/>\n",
       "<polyline clip-path=\"url(#clip342)\" style=\"stroke:#e26f46; stroke-linecap:round; stroke-linejoin:round; stroke-width:4; stroke-opacity:1; fill:none\" points=\"425.168,1445.72 503.145,1162.89 581.122,998.725 659.099,908.45 737.076,861.975 815.052,839.936 893.029,830.53 971.006,827.038 1048.98,825.969 1126.96,825.724 1204.94,825.688 1282.91,825.686 1360.89,825.686 1438.87,825.686 1516.84,825.684 1594.82,825.648 1672.8,825.402 1750.77,824.334 1828.75,820.842 1906.73,811.435 1984.71,789.397 2062.68,742.922 2140.66,652.647 2218.64,488.482 2296.61,205.656 \"/>\n",
       "<path clip-path=\"url(#clip340)\" d=\"M435.149 250.738 L685.953 250.738 L685.953 95.2176 L435.149 95.2176  Z\" fill=\"#ffffff\" fill-rule=\"evenodd\" fill-opacity=\"1\"/>\n",
       "<polyline clip-path=\"url(#clip340)\" style=\"stroke:#000000; stroke-linecap:round; stroke-linejoin:round; stroke-width:4; stroke-opacity:1; fill:none\" points=\"435.149,250.738 685.953,250.738 685.953,95.2176 435.149,95.2176 435.149,250.738 \"/>\n",
       "<polyline clip-path=\"url(#clip340)\" style=\"stroke:#009af9; stroke-linecap:round; stroke-linejoin:round; stroke-width:4; stroke-opacity:1; fill:none\" points=\"457.191,147.058 589.439,147.058 \"/>\n",
       "<path clip-path=\"url(#clip340)\" d=\"M625.323 166.745 Q623.518 171.375 621.805 172.787 Q620.092 174.199 617.221 174.199 L613.819 174.199 L613.819 170.634 L616.319 170.634 Q618.078 170.634 619.05 169.8 Q620.022 168.967 621.203 165.865 L621.967 163.921 L611.481 138.412 L615.995 138.412 L624.096 158.689 L632.198 138.412 L636.712 138.412 L625.323 166.745 Z\" fill=\"#000000\" fill-rule=\"nonzero\" fill-opacity=\"1\" /><path clip-path=\"url(#clip340)\" d=\"M644.004 160.402 L651.643 160.402 L651.643 134.037 L643.332 135.703 L643.332 131.444 L651.596 129.778 L656.272 129.778 L656.272 160.402 L663.911 160.402 L663.911 164.338 L644.004 164.338 L644.004 160.402 Z\" fill=\"#000000\" fill-rule=\"nonzero\" fill-opacity=\"1\" /><polyline clip-path=\"url(#clip340)\" style=\"stroke:#e26f46; stroke-linecap:round; stroke-linejoin:round; stroke-width:4; stroke-opacity:1; fill:none\" points=\"457.191,198.898 589.439,198.898 \"/>\n",
       "<path clip-path=\"url(#clip340)\" d=\"M625.323 218.585 Q623.518 223.215 621.805 224.627 Q620.092 226.039 617.221 226.039 L613.819 226.039 L613.819 222.474 L616.319 222.474 Q618.078 222.474 619.05 221.64 Q620.022 220.807 621.203 217.705 L621.967 215.761 L611.481 190.252 L615.995 190.252 L624.096 210.529 L632.198 190.252 L636.712 190.252 L625.323 218.585 Z\" fill=\"#000000\" fill-rule=\"nonzero\" fill-opacity=\"1\" /><path clip-path=\"url(#clip340)\" d=\"M647.221 212.242 L663.541 212.242 L663.541 216.178 L641.596 216.178 L641.596 212.242 Q644.258 209.488 648.842 204.858 Q653.448 200.205 654.629 198.863 Q656.874 196.34 657.754 194.604 Q658.656 192.844 658.656 191.155 Q658.656 188.4 656.712 186.664 Q654.791 184.928 651.689 184.928 Q649.49 184.928 647.036 185.692 Q644.606 186.455 641.828 188.006 L641.828 183.284 Q644.652 182.15 647.106 181.571 Q649.559 180.993 651.596 180.993 Q656.967 180.993 660.161 183.678 Q663.356 186.363 663.356 190.854 Q663.356 192.983 662.545 194.905 Q661.758 196.803 659.652 199.395 Q659.073 200.067 655.971 203.284 Q652.869 206.479 647.221 212.242 Z\" fill=\"#000000\" fill-rule=\"nonzero\" fill-opacity=\"1\" /></svg>\n"
      ]
     },
     "execution_count": 76,
     "metadata": {},
     "output_type": "execute_result"
    }
   ],
   "source": [
    "plot(x, [y1, y2])"
   ]
  },
  {
   "cell_type": "markdown",
   "metadata": {},
   "source": [
    "We can find that "
   ]
  },
  {
   "cell_type": "markdown",
   "metadata": {},
   "source": [
    "## Q5\n",
    "\n",
    "1. Show the **Sherman-Morrison formula**\n",
    "$$\n",
    "\t(\\mathbf{A} + \\mathbf{u} \\mathbf{u}^T)^{-1} = \\mathbf{A}^{-1} - \\frac{1}{1 + \\mathbf{u}^T \\mathbf{A}^{-1} \\mathbf{u}} \\mathbf{A}^{-1} \\mathbf{u} \\mathbf{u}^T \\mathbf{A}^{-1},\n",
    "$$\n",
    "where $\\mathbf{A} \\in \\mathbb{R}^{n \\times n}$ is nonsingular and $\\mathbf{u} \\in \\mathbb{R}^n$. This formula supplies the inverse of the symmetric, rank-one  perturbation of $\\mathbf{A}$.\n",
    "\n",
    "2. Show the **Woodbury formula**\n",
    "$$\n",
    "\t(\\mathbf{A} + \\mathbf{U} \\mathbf{V}^T)^{-1} = \\mathbf{A}^{-1} - \\mathbf{A}^{-1} \\mathbf{U} (\\mathbf{I}_m + \\mathbf{V}^T \\mathbf{A}^{-1} \\mathbf{U})^{-1} \\mathbf{V}^T \\mathbf{A}^{-1},\n",
    "$$\n",
    "where $\\mathbf{A} \\in \\mathbb{R}^{n \\times n}$ is nonsingular, $\\mathbf{U}, \\mathbf{V} \\in \\mathbb{R}^{n \\times m}$, and $\\mathbf{I}_m$ is the $m \\times m$ identity matrix. In many applications $m$ is much smaller than $n$. Woodbury formula generalizes Sherman-Morrison and is valuable because the smaller matrix $\\mathbf{I}_m + \\mathbf{V}^T \\mathbf{A}^{-1} \\mathbf{U}$ is cheaper to invert than the larger matrix $\\mathbf{A} + \\mathbf{U} \\mathbf{V}^T$.\n",
    "\n",
    "3. Show the **binomial inversion formula**\n",
    "$$\n",
    "\t(\\mathbf{A} + \\mathbf{U} \\mathbf{B} \\mathbf{V}^T)^{-1} = \\mathbf{A}^{-1} - \\mathbf{A}^{-1} \\mathbf{U} (\\mathbf{B}^{-1} + \\mathbf{V}^T \\mathbf{A}^{-1} \\mathbf{U})^{-1} \\mathbf{V}^T \\mathbf{A}^{-1},\n",
    "$$\n",
    "where $\\mathbf{A}$ and $\\mathbf{B}$ are nonsingular.\n",
    "\n",
    "4. Show the identity\n",
    "$$\n",
    "\t\\text{det}(\\mathbf{A} + \\mathbf{U} \\mathbf{V}^T) = \\text{det}(\\mathbf{A}) \\text{det}(\\mathbf{I}_m + \\mathbf{V}^T \\mathbf{A}^{-1} \\mathbf{U}).\n",
    "$$\n",
    "This formula is useful for evaluating the density of a multivariate normal with covariance matrix $\\mathbf{A} + \\mathbf{U} \\mathbf{V}^T$.\n",
    "\n",
    "**Hint**: 1 and 2 are special cases of 3. For 4, show that\n",
    "$$\n",
    "\\begin{pmatrix}\n",
    "- \\mathbf{A} & \\mathbf{O} \\\\\n",
    "\\mathbf{O} & \\mathbf{I} + \\mathbf{V}^T \\mathbf{A}^{-1} \\mathbf{U}\n",
    "\\end{pmatrix} = \\begin{pmatrix}\n",
    "\\mathbf{I} & \\mathbf{O} \\\\\n",
    "\\mathbf{V}^T \\mathbf{A}^{-1} & \\mathbf{I}\n",
    "\\end{pmatrix} \\begin{pmatrix}\n",
    "- \\mathbf{A} & \\mathbf{U} \\\\\n",
    "\\mathbf{V}^T & \\mathbf{I}\n",
    "\\end{pmatrix} \\begin{pmatrix}\n",
    "\\mathbf{I} & \\mathbf{A}^{-1} \\mathbf{U} \\\\\n",
    "\\mathbf{O} & \\mathbf{I}\n",
    "\\end{pmatrix}.\n",
    "$$"
   ]
  },
  {
   "cell_type": "markdown",
   "metadata": {},
   "source": [
    "### **Sol.**\n",
    "\n",
    "#### 3.\n",
    "Proof:\n",
    "\n",
    "Firstly, we can\n",
    "\n",
    "$$\n",
    "\\begin{aligned}\n",
    "& \\left(A+U B V^{\\top}\\right)\\left(A^{-1}-A^{-1} U\\left(B^{-1}+V^{\\top} A^{-1} U\\right)^{-1} V^{\\top} A^{-1}\\right) \\\\\n",
    "= & I+U B V^{\\top} A^{-1}-U\\left(B^{-1}+V^{\\top} A^{-1} U\\right)^{-1} V^{\\top} A^{-1}-U B V^{\\top} A^{-1} U\\left(B^{-1}+V^{\\top} A^{-1} U\\right)^{-1} V^{\\top} A^{-1} \\\\\n",
    "= & I+U B V^{\\top} A^{-1}-\\left(U+U B V^{\\top} A^{-1} U\\right)\\left(B^{-1}+V^{\\top} A^{-1} U\\right)^{-1} V^{\\top} A^{-1} \\\\\n",
    "= & I+U B V^{\\top} A^{-1}-U B\\left(B^{-1}+V^{\\top} A^{-1} U\\right)\\left(B^{-1}+V^{\\top} A^{-1} U\\right)^{-1} V^{\\top} A^{-1} \\\\\n",
    "= & I+U B V^{\\top} A^{-1}-U B V^{\\top} A^{-1} \\\\\n",
    "= & I\n",
    "\\end{aligned}\n",
    "$$\n",
    "\n",
    "Since $\\left(A+U B V^{\\top}\\right)^{-1}$ exist, we have,\n",
    "\n",
    "$$\n",
    "\\begin{aligned}\n",
    "\\left(A+U B V^{\\top}\\right)^{-1} I & =(A+U B V)^{-1}\\left(A+U B U^{\\top}\\right)\\left(A^{-1}-A^{-1} U\\left(B^{-1}+U^{\\top} A^{-1} U\\right)^{-1} U^{\\top} A^{-1}\\right) \\\\\n",
    "\\left(A+U B V^{\\top}\\right)^{-1} & \\left.=A^{-1}-A^{-1} U\\left(B^{-1}+V^{\\top} A^{\\top} U\\right)^{-1} V^{\\top} A^{-1}\\right.\n",
    "\\end{aligned}\n",
    "$$\n",
    "\n",
    "#### 1.\n",
    "\n",
    "Based on what we derived in Q3, we set $\\mathbf{u}=U, \\mathbf{u}^{T}=V$ and $\\mathbf{I}_1=B$, then we can get,\n",
    "\n",
    "$$\n",
    "\t(\\mathbf{A} + \\mathbf{u} \\mathbf{u}^T)^{-1} = \\mathbf{A}^{-1} - \\frac{1}{1 + \\mathbf{u}^T \\mathbf{A}^{-1} \\mathbf{u}} \\mathbf{A}^{-1} \\mathbf{u} \\mathbf{u}^T \\mathbf{A}^{-1},\n",
    "$$\n",
    "\n",
    "where $\\mathbf{A} \\in \\mathbb{R}^{n \\times n}$ is nonsingular and $\\mathbf{u} \\in \\mathbb{R}^n$. This formula supplies the inverse of the symmetric, rank-one  perturbation of $\\mathbf{A}$.\n",
    "\n",
    "#### 2.\n",
    "\n",
    "Based on what we derived in Q3, we set $\\mathbf{I}_m=B$, then we can get,\n",
    "\n",
    "$$\n",
    "\t(\\mathbf{A} + \\mathbf{U} \\mathbf{V}^T)^{-1} = \\mathbf{A}^{-1} - \\mathbf{A}^{-1} \\mathbf{U} (\\mathbf{I}_m + \\mathbf{V}^T \\mathbf{A}^{-1} \\mathbf{U})^{-1} \\mathbf{V}^T \\mathbf{A}^{-1},\n",
    "$$\n",
    "\n",
    "where $\\mathbf{A} \\in \\mathbb{R}^{n \\times n}$ is nonsingular, $\\mathbf{U}, \\mathbf{V} \\in \\mathbb{R}^{n \\times m}$, and $\\mathbf{I}_m$ is the $m \\times m$ identity matrix. \n",
    "\n",
    "#### 4.\n",
    "\n",
    "Firstly, we can derive the relationship, \n",
    "$$\n",
    "\\begin{aligned}\n",
    "& \\left(\\begin{array}{cc}\n",
    "I & 0 \\\\\n",
    "V^{\\top} A^{-1} & I\n",
    "\\end{array}\\right)\\left(\\begin{array}{cc}\n",
    "-A & U \\\\\n",
    "V^{\\top} & I\n",
    "\\end{array}\\right)\\left(\\begin{array}{cc}\n",
    "I & A^{-1} U \\\\\n",
    "0 & I\n",
    "\\end{array}\\right) \\\\\n",
    "=& \\left(\\begin{array}{cc}\n",
    "-A& U  \\\\\n",
    "-V^{-} A^{-1} A+V^{\\top} &V^{\\top} A^{-1} U+I\\end{array}\\right)\\left(\\begin{array}{cc}\n",
    "I & A^{-1} U \\\\\n",
    "0 & I\n",
    "\\end{array}\\right) \\\\\n",
    "=& \\left(\\begin{array}{cc}\n",
    "-A & U \\\\\n",
    "0 & V^{\\top} A^{-1} U+I\n",
    "\\end{array}\\right)\\left(\\begin{array}{cc}\n",
    "I & A^{-1} U \\\\\n",
    "0 & I\n",
    "\\end{array}\\right) \\\\\n",
    "=& \\left(\\begin{array}{cc}\n",
    "-A & -A A^{-1} U+U \\\\\n",
    "0 & V^{\\top} A^{-1} U+I\n",
    "\\end{array}\\right) \\\\\n",
    " =&\\left(\\begin{array}{cc}\n",
    "-A & 0 \\\\\n",
    "0 & I+V^{\\top} A^{-1} U\n",
    "\\end{array}\\right)\n",
    "\\end{aligned}\n",
    "$$\n",
    "\n",
    "Then we know\n",
    "\n",
    "$$\n",
    "\\begin{aligned}\n",
    " \\operatorname{det}\\left(\\begin{array}{cc}\n",
    "-A & 0 \\\\\n",
    "0 & I+V^{\\top} A^{-1} U\n",
    "\\end{array}\\right)&=\\operatorname{det}\\left(\\begin{array}{cc}\n",
    "I & 0 \\\\\n",
    "V^{\\top} A^{-1} & I\n",
    "\\end{array}\\right)\\left(\\begin{array}{cc}\n",
    "-A & U \\\\\n",
    "V^{\\top} & I\n",
    "\\end{array}\\right)\\left(\\begin{array}{cc}\n",
    "I & A^{-1} U \\\\\n",
    "0 & I\n",
    "\\end{array}\\right) \\\\\n",
    " \\operatorname{det}(-A) \\operatorname{det}\\left(I+V^{\\top} A^{-1} U\\right)&= 1 * \\operatorname{det}\\left(\\begin{array}{cc}\n",
    "-A & U \\\\\n",
    "V^{\\top} & I\n",
    "\\end{array}\\right)* 1 \\\\\n",
    " \\operatorname{det}\\left(A+U V^{\\top}\\right)&=\\operatorname{det}(A) \\operatorname{det}\\left(I+V^{\\top} A^{-1} U\\right)\n",
    "\\end{aligned}\n",
    "$$"
   ]
  },
  {
   "cell_type": "markdown",
   "metadata": {},
   "source": [
    "## Q6\n",
    "\n",
    "Demonstrate the following facts about triangular and orthogonal matrices in Julia (one numerical example for each fact). Mathematically curious ones are also encouraged to prove them. \n",
    "\n",
    "Note a unit triangular matrix is a triangular matrix with all diagonal entries being 1.\n",
    "\n",
    "1. The product of two upper (lower) triangular matrices is upper (lower) triangular.\n",
    "\n",
    "2. The inverse of an upper (lower) triangular matrix is upper (lower) triangular.\n",
    "\n",
    "3. The product of two unit upper (lower) triangular matrices is unit upper (lower) triangular.\n",
    "\n",
    "4. The inverse of a unit upper (lower) triangular matrix is unit upper (lower) triangular.\n",
    "\n",
    "5. An orthogonal upper (lower) triangular matrix is diagonal. (You just need to prove this.)\n",
    "\n",
    "6. The product of two orthogonal matrices is orthogonal."
   ]
  },
  {
   "cell_type": "markdown",
   "metadata": {},
   "source": [
    "#### 1."
   ]
  },
  {
   "cell_type": "code",
   "execution_count": 104,
   "metadata": {},
   "outputs": [
    {
     "data": {
      "text/plain": [
       "3×3 UpperTriangular{Float64, Matrix{Float64}}:\n",
       " 1.08459  -0.405428  -0.0996119\n",
       "  ⋅        1.33552   -0.980334\n",
       "  ⋅         ⋅        -2.31091"
      ]
     },
     "execution_count": 104,
     "metadata": {},
     "output_type": "execute_result"
    }
   ],
   "source": [
    "Random.seed!(257)\n",
    "upp1 = UpperTriangular(randn(3,3))\n",
    "upp2 = UpperTriangular(randn(3,3))\n",
    "upp1 * upp2"
   ]
  },
  {
   "cell_type": "markdown",
   "metadata": {},
   "source": [
    "## Q7\n",
    "\n",
    "Let the $n \\times n$ matrix `H` have elements `H[i, j] = 1 / (i + j - 1)`.  \n",
    "\n",
    "1. Write a function `h(n)` that outputs $n \\times n$ matrix `H`. Try at least 4 ways, e.g., $ij$-looping, $ji$-looping, [comprehension](https://docs.julialang.org/en/v1/manual/arrays/#man-comprehensions), and vectorization (R style). Compute and print `H` for `n = 5`.   \n",
    "\n",
    "2. Compare their efficiencies (using `BenchmarkTools`) at `n = 5000`."
   ]
  },
  {
   "cell_type": "markdown",
   "metadata": {},
   "source": [
    "### **Sol.**\n",
    "\n",
    "#### 1."
   ]
  },
  {
   "cell_type": "code",
   "execution_count": 91,
   "metadata": {},
   "outputs": [
    {
     "data": {
      "text/plain": [
       "5×5 Matrix{Float64}:\n",
       " 1.0       0.5       0.333333  0.25      0.2\n",
       " 0.5       0.333333  0.25      0.2       0.166667\n",
       " 0.333333  0.25      0.2       0.166667  0.142857\n",
       " 0.25      0.2       0.166667  0.142857  0.125\n",
       " 0.2       0.166667  0.142857  0.125     0.111111"
      ]
     },
     "execution_count": 91,
     "metadata": {},
     "output_type": "execute_result"
    }
   ],
   "source": [
    "n = 5\n",
    "H = Matrix{Float64}(undef, n, n)\n",
    "function hij(n :: Int, H :: Matrix{Float64})\n",
    "    @turbo for i in 1:n, j in 1:n\n",
    "        H[i, j] = 1 / (i + j - 1)\n",
    "    end\n",
    "    H\n",
    "end\n",
    "hij(5, H)"
   ]
  },
  {
   "cell_type": "code",
   "execution_count": 92,
   "metadata": {},
   "outputs": [
    {
     "data": {
      "text/plain": [
       "5×5 Matrix{Float64}:\n",
       " 1.0       0.5       0.333333  0.25      0.2\n",
       " 0.5       0.333333  0.25      0.2       0.166667\n",
       " 0.333333  0.25      0.2       0.166667  0.142857\n",
       " 0.25      0.2       0.166667  0.142857  0.125\n",
       " 0.2       0.166667  0.142857  0.125     0.111111"
      ]
     },
     "execution_count": 92,
     "metadata": {},
     "output_type": "execute_result"
    }
   ],
   "source": [
    "function hji(n :: Int, H :: Matrix{Float64})\n",
    "    @turbo for j in 1:n, i in 1:n\n",
    "        H[i, j] = 1 / (i + j - 1)\n",
    "    end\n",
    "    H\n",
    "end\n",
    "hji(5, H)"
   ]
  },
  {
   "cell_type": "code",
   "execution_count": 101,
   "metadata": {},
   "outputs": [
    {
     "data": {
      "text/plain": [
       "5×5 Matrix{Float64}:\n",
       " 1.0       0.5       0.333333  0.25      0.2\n",
       " 0.5       0.333333  0.25      0.2       0.166667\n",
       " 0.333333  0.25      0.2       0.166667  0.142857\n",
       " 0.25      0.2       0.166667  0.142857  0.125\n",
       " 0.2       0.166667  0.142857  0.125     0.111111"
      ]
     },
     "execution_count": 101,
     "metadata": {},
     "output_type": "execute_result"
    }
   ],
   "source": [
    "function hcom(n :: Int, H :: Matrix{Float64})\n",
    "    [1 / (i + j - 1) for i in 1:n, j in 1:n]\n",
    "end\n",
    "@turbo hcom(5, H)"
   ]
  },
  {
   "cell_type": "code",
   "execution_count": null,
   "metadata": {},
   "outputs": [],
   "source": [
    "V = [i ]"
   ]
  }
 ],
 "metadata": {
  "jupytext": {
   "formats": "ipynb,qmd"
  },
  "kernelspec": {
   "display_name": "Julia 1.8.5",
   "language": "julia",
   "name": "julia-1.8"
  },
  "language_info": {
   "file_extension": ".jl",
   "mimetype": "application/julia",
   "name": "julia",
   "version": "1.8.5"
  },
  "toc": {
   "colors": {
    "hover_highlight": "#DAA520",
    "running_highlight": "#FF0000",
    "selected_highlight": "#FFD700"
   },
   "moveMenuLeft": true,
   "nav_menu": {
    "height": "153px",
    "width": "252px"
   },
   "navigate_menu": true,
   "number_sections": false,
   "sideBar": true,
   "skip_h1_title": true,
   "threshold": 4,
   "toc_cell": false,
   "toc_section_display": "block",
   "toc_window_display": true,
   "widenNotebook": false
  },
  "toc-autonumbering": false
 },
 "nbformat": 4,
 "nbformat_minor": 4
}
