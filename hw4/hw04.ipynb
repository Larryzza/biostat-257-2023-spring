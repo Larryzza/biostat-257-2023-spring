{
 "cells": [
  {
   "cell_type": "raw",
   "metadata": {},
   "source": [
    "---\n",
    "title: Biostat/Biomath M257 Homework 4\n",
    "subtitle: 'Due May 12 @ 11:59PM'\n",
    "author: Zian ZHUANG and UID:405444165\n",
    "date: today\n",
    "format:\n",
    "  html:\n",
    "    theme: cosmo\n",
    "    embed-resources: true\n",
    "    number-sections: true\n",
    "    toc: true\n",
    "    toc-depth: 4\n",
    "    toc-location: left\n",
    "---"
   ]
  },
  {
   "cell_type": "markdown",
   "metadata": {},
   "source": [
    "System information (for reproducibility):"
   ]
  },
  {
   "cell_type": "code",
   "execution_count": 1,
   "metadata": {
    "tags": []
   },
   "outputs": [
    {
     "name": "stdout",
     "output_type": "stream",
     "text": [
      "Julia Version 1.8.5\n",
      "Commit 17cfb8e65e (2023-01-08 06:45 UTC)\n",
      "Platform Info:\n",
      "  OS: Windows (x86_64-w64-mingw32)\n",
      "  CPU: 16 × AMD Ryzen 7 5800 8-Core Processor              \n",
      "  WORD_SIZE: 64\n",
      "  LIBM: libopenlibm\n",
      "  LLVM: libLLVM-13.0.1 (ORCJIT, znver3)\n",
      "  Threads: 8 on 16 virtual cores\n",
      "Environment:\n",
      "  JULIA_NUM_THREADS = 8\n"
     ]
    }
   ],
   "source": [
    "versioninfo()"
   ]
  },
  {
   "cell_type": "markdown",
   "metadata": {},
   "source": [
    "Load packages:"
   ]
  },
  {
   "cell_type": "code",
   "execution_count": 2,
   "metadata": {
    "tags": []
   },
   "outputs": [
    {
     "name": "stderr",
     "output_type": "stream",
     "text": [
      "\u001b[32m\u001b[1m  Activating\u001b[22m\u001b[39m project at `C:\\Users\\larry\\Dropbox\\zza\\UCLA\\academic\\year 3\\quarter 3\\257\\biostat-257-2023-spring\\hw4`\n"
     ]
    },
    {
     "name": "stdout",
     "output_type": "stream",
     "text": [
      "\u001b[32m\u001b[1mStatus\u001b[22m\u001b[39m `C:\\Users\\larry\\Dropbox\\zza\\UCLA\\academic\\year 3\\quarter 3\\257\\biostat-257-2023-spring\\hw4\\Project.toml`\n",
      " \u001b[90m [6e4b80f9] \u001b[39mBenchmarkTools v1.3.2\n",
      " \u001b[90m [944b1d66] \u001b[39mCodecZlib v0.7.1\n",
      " \u001b[90m [0b1a1467] \u001b[39mKrylovKit v0.6.0\n",
      " \u001b[90m [bdcacae8] \u001b[39mLoopVectorization v0.12.159\n",
      " \u001b[90m [b51810bb] \u001b[39mMatrixDepot v1.0.10\n",
      " \u001b[90m [295af30f] \u001b[39mRevise v3.5.2\n",
      " \u001b[90m [2913bbd2] \u001b[39mStatsBase v0.34.0\n",
      " \u001b[90m [b8865327] \u001b[39mUnicodePlots v3.5.3\n",
      " \u001b[90m [8bb1440f] \u001b[39mDelimitedFiles\n",
      " \u001b[90m [37e2e46d] \u001b[39mLinearAlgebra\n",
      " \u001b[90m [2f01184e] \u001b[39mSparseArrays\n"
     ]
    }
   ],
   "source": [
    "using Pkg\n",
    "\n",
    "Pkg.activate(pwd())\n",
    "Pkg.instantiate()\n",
    "Pkg.status()\n",
    "\n",
    "using LinearAlgebra, SparseArrays, UnicodePlots, BenchmarkTools, Revise, LoopVectorization  "
   ]
  },
  {
   "cell_type": "markdown",
   "metadata": {},
   "source": [
    "We are going to try different numerical methods learnt in class on the [Google PageRank problem](https://en.wikipedia.org/wiki/PageRank)."
   ]
  },
  {
   "cell_type": "markdown",
   "metadata": {},
   "source": [
    "## Q1 (5 pts) Recognize structure\n",
    "\n",
    "Let $\\mathbf{A} \\in \\{0,1\\}^{n \\times n}$ be the connectivity matrix of $n$ web pages with entries\n",
    "$$\n",
    "\\begin{eqnarray*}\n",
    "\ta_{ij}= \\begin{cases}\n",
    "\t1 & \\text{if page $i$ links to page $j$} \\\\\n",
    "\t0 & \\text{otherwise}\n",
    "\t\\end{cases}.\n",
    "\\end{eqnarray*}\n",
    "$$\n",
    "$r_i = \\sum_j a_{ij}$ is the out-degree of page $i$. That is $r_i$ is the number of links on page $i$. Imagine a random surfer exploring the space of $n$ pages according to the following rules.  \n",
    "\n",
    "- From a page $i$ with $r_i>0$\n",
    "    * with probability $p$, (s)he randomly chooses a link on page $i$ (uniformly) and follows that link to the next page  \n",
    "    * with probability $1-p$, (s)he randomly chooses one page from the set of all $n$ pages (uniformly) and proceeds to that page  \n",
    "- From a page $i$ with $r_i=0$ (a dangling page), (s)he randomly chooses one page from the set of all $n$ pages (uniformly) and proceeds to that page  \n",
    "    \n",
    "The process defines a Markov chain on the space of $n$ pages. Write the transition matrix $\\mathbf{P}$ of the Markov chain as a sparse matrix plus rank 1 matrix."
   ]
  },
  {
   "cell_type": "markdown",
   "metadata": {},
   "source": [
    "**Sol**.\n",
    "\n",
    "In transition matrix $\\mathbf{P}$, we have: \n",
    "$$p_{ij}= \\begin{cases} \n",
    "      \\frac{p}{r_i} a_{ij} + \\frac{1-p}{n} & r_i > 0 \\\\\n",
    "      \\frac{1}{n} & r_i = 0\\\\\n",
    "\\end{cases}$$\n",
    "   \n",
    "Thus, transition matrix can be decomposed as: \n",
    "$$\\mathbf{DA} + \\mathbf{Z1_n^T}$$\n",
    "\n",
    "where  \n",
    "$\\mathbf{D}$ is a $n*n$ diagonal matrix with entries $\\frac{p}{r_i}$ for $r_i > 0$ and $0$ if $r_i = 0$.  \n",
    "$\\mathbf{Z}$ is a vector of length $n$ with $n$-th element $\\frac{1-p}{n}$for $r_i > 0$ and $\\frac{1}{n}$ if $r_i = 0$."
   ]
  },
  {
   "cell_type": "markdown",
   "metadata": {},
   "source": [
    "## Q2 Relate to numerical linear algebra\n",
    "\n",
    "According to standard Markov chain theory, the (random) position of the surfer converges to the stationary distribution $\\mathbf{x} = (x_1,\\ldots,x_n)^T$ of the Markov chain. $x_i$ has the natural interpretation of the proportion of times the surfer visits page $i$ in the long run. Therefore $\\mathbf{x}$ serves as page ranks: a higher $x_i$ means page $i$ is more visited. It is well-known that $\\mathbf{x}$ is the left eigenvector corresponding to the top eigenvalue 1 of the transition matrix $\\mathbf{P}$. That is $\\mathbf{P}^T \\mathbf{x} = \\mathbf{x}$. Therefore $\\mathbf{x}$ can be solved as an **eigen-problem**. It can also be cast as **solving a linear system**. Since the row sums of $\\mathbf{P}$ are 1, $\\mathbf{P}$ is rank deficient. We can replace the first equation by the $\\sum_{i=1}^n x_i = 1$.\n",
    "\n",
    "Hint: For iterative solvers, we don't need to replace the 1st equation. We can use the matrix $\\mathbf{I} - \\mathbf{P}^T$ directly if we start with a vector with all positive entries."
   ]
  },
  {
   "cell_type": "markdown",
   "metadata": {},
   "source": [
    "## Q3 (10 pts) Explore data\n",
    "\n",
    "Obtain the connectivity matrix `A` from the `SNAP/web-Google` data in the MatrixDepot package. "
   ]
  },
  {
   "cell_type": "code",
   "execution_count": 3,
   "metadata": {
    "tags": []
   },
   "outputs": [
    {
     "name": "stderr",
     "output_type": "stream",
     "text": [
      "\u001b[36m\u001b[1m[ \u001b[22m\u001b[39m\u001b[36m\u001b[1mInfo: \u001b[22m\u001b[39mverify download of index files...\n",
      "\u001b[36m\u001b[1m[ \u001b[22m\u001b[39m\u001b[36m\u001b[1mInfo: \u001b[22m\u001b[39mreading database\n",
      "\u001b[36m\u001b[1m[ \u001b[22m\u001b[39m\u001b[36m\u001b[1mInfo: \u001b[22m\u001b[39madding metadata...\n",
      "\u001b[36m\u001b[1m[ \u001b[22m\u001b[39m\u001b[36m\u001b[1mInfo: \u001b[22m\u001b[39madding svd data...\n",
      "\u001b[36m\u001b[1m[ \u001b[22m\u001b[39m\u001b[36m\u001b[1mInfo: \u001b[22m\u001b[39mwriting database\n",
      "\u001b[36m\u001b[1m[ \u001b[22m\u001b[39m\u001b[36m\u001b[1mInfo: \u001b[22m\u001b[39mused remote sites are sparse.tamu.edu with MAT index and math.nist.gov with HTML index\n"
     ]
    },
    {
     "data": {
      "text/latex": [
       "\\section{SNAP/web-Google}\n",
       "\\subsubparagraph{MatrixMarket matrix coordinate pattern general}\n",
       "\\rule{\\textwidth}{1pt}\n",
       "\\begin{itemize}\n",
       "\\item UF Sparse Matrix Collection, Tim Davis\n",
       "\n",
       "\n",
       "\\item http://www.cise.ufl.edu/research/sparse/matrices/SNAP/web-Google\n",
       "\n",
       "\n",
       "\\item name: SNAP/web-Google\n",
       "\n",
       "\n",
       "\\item [Web graph from Google]\n",
       "\n",
       "\n",
       "\\item id: 2301\n",
       "\n",
       "\n",
       "\\item date: 2002\n",
       "\n",
       "\n",
       "\\item author: Google\n",
       "\n",
       "\n",
       "\\item ed: J. Leskovec\n",
       "\n",
       "\n",
       "\\item fields: name title A id date author ed kind notes\n",
       "\n",
       "\n",
       "\\item kind: directed graph\n",
       "\n",
       "\\end{itemize}\n",
       "\\rule{\\textwidth}{1pt}\n",
       "\\begin{itemize}\n",
       "\\item notes:\n",
       "\n",
       "\n",
       "\\item Networks from SNAP (Stanford Network Analysis Platform) Network Data Sets,     \n",
       "\n",
       "\n",
       "\\item Jure Leskovec http://snap.stanford.edu/data/index.html                         \n",
       "\n",
       "\n",
       "\\item email jure at cs.stanford.edu                                                  \n",
       "\n",
       "\n",
       "\\item \n",
       "\\item Google web graph                                                               \n",
       "\n",
       "\n",
       "\\item \n",
       "\\item Dataset information                                                            \n",
       "\n",
       "\n",
       "\\item \n",
       "\\item Nodes represent web pages and directed edges represent hyperlinks between them.\n",
       "\n",
       "\n",
       "\\item The data was released in 2002 by Google as a part of Google Programming        \n",
       "\n",
       "\n",
       "\\item Contest.                                                                       \n",
       "\n",
       "\n",
       "\\item \n",
       "\\item Dataset statistics                                                             \n",
       "\n",
       "\n",
       "\\item Nodes   875713                                                                 \n",
       "\n",
       "\n",
       "\\item Edges   5105039                                                                \n",
       "\n",
       "\n",
       "\\item Nodes in largest WCC    855802 (0.977)                                         \n",
       "\n",
       "\n",
       "\\item Edges in largest WCC    5066842 (0.993)                                        \n",
       "\n",
       "\n",
       "\\item Nodes in largest SCC    434818 (0.497)                                         \n",
       "\n",
       "\n",
       "\\item Edges in largest SCC    3419124 (0.670)                                        \n",
       "\n",
       "\n",
       "\\item Average clustering coefficient  0.6047                                         \n",
       "\n",
       "\n",
       "\\item Number of triangles     13391903                                               \n",
       "\n",
       "\n",
       "\\item Fraction of closed triangles    0.05523                                        \n",
       "\n",
       "\n",
       "\\item Diameter (longest shortest path)    22                                         \n",
       "\n",
       "\n",
       "\\item 90-percentile effective diameter    8.1                                        \n",
       "\n",
       "\n",
       "\\item \n",
       "\\item Source (citation)                                                              \n",
       "\n",
       "\n",
       "\\item \n",
       "\\item J. Leskovec, K. Lang, A. Dasgupta, M. Mahoney. Community Structure in Large    \n",
       "\n",
       "\n",
       "\\item Networks: Natural Cluster Sizes and the Absence of Large Well-Defined Clusters.\n",
       "\n",
       "\n",
       "\\item arXiv.org:0810.1355, 2008.                                                     \n",
       "\n",
       "\n",
       "\\item \n",
       "\\item Google programming contest, 2002                                               \n",
       "\n",
       "\n",
       "\\item http://www.google.com/programming-contest/                                     \n",
       "\n",
       "\n",
       "\\item \n",
       "\\item Files                                                                          \n",
       "\n",
       "\n",
       "\\item File    Description                                                            \n",
       "\n",
       "\n",
       "\\item web-Google.txt.gz   Webgraph from the Google programming contest, 2002         \n",
       "\n",
       "\\end{itemize}\n",
       "\\rule{\\textwidth}{1pt}\n",
       "916428 916428 5105039\n",
       "\n"
      ],
      "text/markdown": [
       "# SNAP/web-Google\n",
       "\n",
       "###### MatrixMarket matrix coordinate pattern general\n",
       "\n",
       "---\n",
       "\n",
       "  * UF Sparse Matrix Collection, Tim Davis\n",
       "  * http://www.cise.ufl.edu/research/sparse/matrices/SNAP/web-Google\n",
       "  * name: SNAP/web-Google\n",
       "  * [Web graph from Google]\n",
       "  * id: 2301\n",
       "  * date: 2002\n",
       "  * author: Google\n",
       "  * ed: J. Leskovec\n",
       "  * fields: name title A id date author ed kind notes\n",
       "  * kind: directed graph\n",
       "\n",
       "---\n",
       "\n",
       "  * notes:\n",
       "  * Networks from SNAP (Stanford Network Analysis Platform) Network Data Sets,\n",
       "  * Jure Leskovec http://snap.stanford.edu/data/index.html\n",
       "  * email jure at cs.stanford.edu\n",
       "  * \n",
       "  * Google web graph\n",
       "  * \n",
       "  * Dataset information\n",
       "  * \n",
       "  * Nodes represent web pages and directed edges represent hyperlinks between them.\n",
       "  * The data was released in 2002 by Google as a part of Google Programming\n",
       "  * Contest.\n",
       "  * \n",
       "  * Dataset statistics\n",
       "  * Nodes   875713\n",
       "  * Edges   5105039\n",
       "  * Nodes in largest WCC    855802 (0.977)\n",
       "  * Edges in largest WCC    5066842 (0.993)\n",
       "  * Nodes in largest SCC    434818 (0.497)\n",
       "  * Edges in largest SCC    3419124 (0.670)\n",
       "  * Average clustering coefficient  0.6047\n",
       "  * Number of triangles     13391903\n",
       "  * Fraction of closed triangles    0.05523\n",
       "  * Diameter (longest shortest path)    22\n",
       "  * 90-percentile effective diameter    8.1\n",
       "  * \n",
       "  * Source (citation)\n",
       "  * \n",
       "  * J. Leskovec, K. Lang, A. Dasgupta, M. Mahoney. Community Structure in Large\n",
       "  * Networks: Natural Cluster Sizes and the Absence of Large Well-Defined Clusters.\n",
       "  * arXiv.org:0810.1355, 2008.\n",
       "  * \n",
       "  * Google programming contest, 2002\n",
       "  * http://www.google.com/programming-contest/\n",
       "  * \n",
       "  * Files\n",
       "  * File    Description\n",
       "  * web-Google.txt.gz   Webgraph from the Google programming contest, 2002\n",
       "\n",
       "---\n",
       "\n",
       "916428 916428 5105039\n"
      ],
      "text/plain": [
       "\u001b[1m  SNAP/web-Google\u001b[22m\n",
       "\u001b[1m  ≡≡≡≡≡≡≡≡≡≡≡≡≡≡≡≡≡\u001b[22m\n",
       "\n",
       "\u001b[1m  MatrixMarket matrix coordinate pattern general\u001b[22m\n",
       "\n",
       "  ────────────────────────────────────────────────────────────────────────────\n",
       "\n",
       "    •  UF Sparse Matrix Collection, Tim Davis\n",
       "\n",
       "    •  http://www.cise.ufl.edu/research/sparse/matrices/SNAP/web-Google\n",
       "\n",
       "    •  name: SNAP/web-Google\n",
       "\n",
       "    •  [Web graph from Google]\n",
       "\n",
       "    •  id: 2301\n",
       "\n",
       "    •  date: 2002\n",
       "\n",
       "    •  author: Google\n",
       "\n",
       "    •  ed: J. Leskovec\n",
       "\n",
       "    •  fields: name title A id date author ed kind notes\n",
       "\n",
       "    •  kind: directed graph\n",
       "\n",
       "  ────────────────────────────────────────────────────────────────────────────\n",
       "\n",
       "    •  notes:\n",
       "\n",
       "    •  Networks from SNAP (Stanford Network Analysis Platform) Network\n",
       "       Data Sets,\n",
       "\n",
       "    •  Jure Leskovec http://snap.stanford.edu/data/index.html\n",
       "\n",
       "    •  email jure at cs.stanford.edu\n",
       "\n",
       "    •  \n",
       "\n",
       "    •  Google web graph\n",
       "\n",
       "    •  \n",
       "\n",
       "    •  Dataset information\n",
       "\n",
       "    •  \n",
       "\n",
       "    •  Nodes represent web pages and directed edges represent hyperlinks\n",
       "       between them.\n",
       "\n",
       "    •  The data was released in 2002 by Google as a part of Google\n",
       "       Programming\n",
       "\n",
       "    •  Contest.\n",
       "\n",
       "    •  \n",
       "\n",
       "    •  Dataset statistics\n",
       "\n",
       "    •  Nodes 875713\n",
       "\n",
       "    •  Edges 5105039\n",
       "\n",
       "    •  Nodes in largest WCC 855802 (0.977)\n",
       "\n",
       "    •  Edges in largest WCC 5066842 (0.993)\n",
       "\n",
       "    •  Nodes in largest SCC 434818 (0.497)\n",
       "\n",
       "    •  Edges in largest SCC 3419124 (0.670)\n",
       "\n",
       "    •  Average clustering coefficient 0.6047\n",
       "\n",
       "    •  Number of triangles 13391903\n",
       "\n",
       "    •  Fraction of closed triangles 0.05523\n",
       "\n",
       "    •  Diameter (longest shortest path) 22\n",
       "\n",
       "    •  90-percentile effective diameter 8.1\n",
       "\n",
       "    •  \n",
       "\n",
       "    •  Source (citation)\n",
       "\n",
       "    •  \n",
       "\n",
       "    •  J. Leskovec, K. Lang, A. Dasgupta, M. Mahoney. Community Structure\n",
       "       in Large\n",
       "\n",
       "    •  Networks: Natural Cluster Sizes and the Absence of Large\n",
       "       Well-Defined Clusters.\n",
       "\n",
       "    •  arXiv.org:0810.1355, 2008.\n",
       "\n",
       "    •  \n",
       "\n",
       "    •  Google programming contest, 2002\n",
       "\n",
       "    •  http://www.google.com/programming-contest/\n",
       "\n",
       "    •  \n",
       "\n",
       "    •  Files\n",
       "\n",
       "    •  File Description\n",
       "\n",
       "    •  web-Google.txt.gz Webgraph from the Google programming contest,\n",
       "       2002\n",
       "\n",
       "  ────────────────────────────────────────────────────────────────────────────\n",
       "\n",
       "  916428 916428 5105039"
      ]
     },
     "execution_count": 3,
     "metadata": {},
     "output_type": "execute_result"
    }
   ],
   "source": [
    "using MatrixDepot\n",
    "\n",
    "md = mdopen(\"SNAP/web-Google\")\n",
    "# display documentation for the SNAP/web-Google data\n",
    "mdinfo(md)"
   ]
  },
  {
   "cell_type": "code",
   "execution_count": 4,
   "metadata": {
    "tags": []
   },
   "outputs": [
    {
     "data": {
      "text/plain": [
       "916428×916428 SparseMatrixCSC{Bool, Int64} with 5105039 stored entries:\n",
       "⣿⣿⣿⣿⣿⣿⣿⣿⣿⣿⣿⣿⣿⣿⣿⣿⣿⣿⣿⣿⣿⣿⣿⣿⣿⣿⣿⣿⣿⣿⣿⣿⣿⣿⣿⣿⣿⣿⣿⣿\n",
       "⣿⣿⣿⣿⣿⣿⣿⣿⣿⣿⣿⣿⣿⣿⣿⣿⣿⣿⣿⣿⣿⣿⣿⣿⣿⣿⣿⣿⣿⣿⣿⣿⣿⣿⣿⣿⣿⣿⣿⣿\n",
       "⣿⣿⣿⣿⣿⣿⣿⣿⣿⣿⣿⣿⣿⣿⣿⣿⣿⣿⣿⣿⣿⣿⣿⣿⣿⣿⣿⣿⣿⣿⣿⣿⣿⣿⣿⣿⣿⣿⣿⣿\n",
       "⣿⣿⣿⣿⣿⣿⣿⣿⣿⣿⣿⣿⣿⣿⣿⣿⣿⣿⣿⣿⣿⣿⣿⣿⣿⣿⣿⣿⣿⣿⣿⣿⣿⣿⣿⣿⣿⣿⣿⣿\n",
       "⣿⣿⣿⣿⣿⣿⣿⣿⣿⣿⣿⣿⣿⣿⣿⣿⣿⣿⣿⣿⣿⣿⣿⣿⣿⣿⣿⣿⣿⣿⣿⣿⣿⣿⣿⣿⣿⣿⣿⣿\n",
       "⣿⣿⣿⣿⣿⣿⣿⣿⣿⣿⣿⣿⣿⣿⣿⣿⣿⣿⣿⣿⣿⣿⣿⣿⣿⣿⣿⣿⣿⣿⣿⣿⣿⣿⣿⣿⣿⣿⣿⣿\n",
       "⣿⣿⣿⣿⣿⣿⣿⣿⣿⣿⣿⣿⣿⣿⣿⣿⣿⣿⣿⣿⣿⣿⣿⣿⣿⣿⣿⣿⣿⣿⣿⣿⣿⣿⣿⣿⣿⣿⣿⣿\n",
       "⣿⣿⣿⣿⣿⣿⣿⣿⣿⣿⣿⣿⣿⣿⣿⣿⣿⣿⣿⣿⣿⣿⣿⣿⣿⣿⣿⣿⣿⣿⣿⣿⣿⣿⣿⣿⣿⣿⣿⣿\n",
       "⣿⣿⣿⣿⣿⣿⣿⣿⣿⣿⣿⣿⣿⣿⣿⣿⣿⣿⣿⣿⣿⣿⣿⣿⣿⣿⣿⣿⣿⣿⣿⣿⣿⣿⣿⣿⣿⣿⣿⣿\n",
       "⣿⣿⣿⣿⣿⣿⣿⣿⣿⣿⣿⣿⣿⣿⣿⣿⣿⣿⣿⣿⣿⣿⣿⣿⣿⣿⣿⣿⣿⣿⣿⣿⣿⣿⣿⣿⣿⣿⣿⣿\n",
       "⣿⣿⣿⣿⣿⣿⣿⣿⣿⣿⣿⣿⣿⣿⣿⣿⣿⣿⣿⣿⣿⣿⣿⣿⣿⣿⣿⣿⣿⣿⣿⣿⣿⣿⣿⣿⣿⣿⣿⣿\n",
       "⣿⣿⣿⣿⣿⣿⣿⣿⣿⣿⣿⣿⣿⣿⣿⣿⣿⣿⣿⣿⣿⣿⣿⣿⣿⣿⣿⣿⣿⣿⣿⣿⣿⣿⣿⣿⣿⣿⣿⣿\n",
       "⣿⣿⣿⣿⣿⣿⣿⣿⣿⣿⣿⣿⣿⣿⣿⣿⣿⣿⣿⣿⣿⣿⣿⣿⣿⣿⣿⣿⣿⣿⣿⣿⣿⣿⣿⣿⣿⣿⣿⣿\n",
       "⣿⣿⣿⣿⣿⣿⣿⣿⣿⣿⣿⣿⣿⣿⣿⣿⣿⣿⣿⣿⣿⣿⣿⣿⣿⣿⣿⣿⣿⣿⣿⣿⣿⣿⣿⣿⣿⣿⣿⣿\n",
       "⣿⣿⣿⣿⣿⣿⣿⣿⣿⣿⣿⣿⣿⣿⣿⣿⣿⣿⣿⣿⣿⣿⣿⣿⣿⣿⣿⣿⣿⣿⣿⣿⣿⣿⣿⣿⣿⣿⣿⣿\n",
       "⣿⣿⣿⣿⣿⣿⣿⣿⣿⣿⣿⣿⣿⣿⣿⣿⣿⣿⣿⣿⣿⣿⣿⣿⣿⣿⣿⣿⣿⣿⣿⣿⣿⣿⣿⣿⣿⣿⣿⣿\n",
       "⣿⣿⣿⣿⣿⣿⣿⣿⣿⣿⣿⣿⣿⣿⣿⣿⣿⣿⣿⣿⣿⣿⣿⣿⣿⣿⣿⣿⣿⣿⣿⣿⣿⣿⣿⣿⣿⣿⣿⣿\n",
       "⣿⣿⣿⣿⣿⣿⣿⣿⣿⣿⣿⣿⣿⣿⣿⣿⣿⣿⣿⣿⣿⣿⣿⣿⣿⣿⣿⣿⣿⣿⣿⣿⣿⣿⣿⣿⣿⣿⣿⣿\n",
       "⣿⣿⣿⣿⣿⣿⣿⣿⣿⣿⣿⣿⣿⣿⣿⣿⣿⣿⣿⣿⣿⣿⣿⣿⣿⣿⣿⣿⣿⣿⣿⣿⣿⣿⣿⣿⣿⣿⣿⣿\n",
       "⣿⣿⣿⣿⣿⣿⣿⣿⣿⣿⣿⣿⣿⣿⣿⣿⣿⣿⣿⣿⣿⣿⣿⣿⣿⣿⣿⣿⣿⣿⣿⣿⣿⣿⣿⣿⣿⣿⣿⣿"
      ]
     },
     "execution_count": 4,
     "metadata": {},
     "output_type": "execute_result"
    }
   ],
   "source": [
    "# connectivity matrix\n",
    "A = md.A"
   ]
  },
  {
   "cell_type": "markdown",
   "metadata": {},
   "source": [
    "Compute summary statistics:  \n",
    "\n",
    "* How much memory does `A` take? If converted to a `Matrix{Float64}` (don't do it!), how much memory will it take?  \n",
    "\n",
    "* number of web pages\n",
    "\n",
    "* number of edges (web links)\n",
    "\n",
    "* number of dangling nodes (pages with no out links)\n",
    "\n",
    "* histogram of in-degrees  \n",
    "\n",
    "* list the top 20 pages with the largest in-degrees?  \n",
    "\n",
    "* histogram of out-degrees\n",
    "\n",
    "* which the top 20 pages with the largest out-degrees?\n",
    "\n",
    "* visualize the sparsity pattern of $\\mathbf{A}$ or a submatrix of $\\mathbf{A}$ say `A[1:10000, 1:10000]`. \n",
    "\n",
    "**Hint**: For plots, you can use the [UnicodePlots.jl](https://github.com/Evizero/UnicodePlots.jl) package (`spy`, `histogram`, etc), which is fast for large data. "
   ]
  },
  {
   "cell_type": "markdown",
   "metadata": {},
   "source": [
    "**Sol.**\n",
    "\n",
    "Compute summary statistics:  \n",
    "\n",
    "* How much memory does `A` take? If converted to a `Matrix{Float64}` (don't do it!), how much memory will it take?  "
   ]
  },
  {
   "cell_type": "code",
   "execution_count": 5,
   "metadata": {},
   "outputs": [
    {
     "data": {
      "text/plain": [
       "53276943"
      ]
     },
     "execution_count": 5,
     "metadata": {},
     "output_type": "execute_result"
    }
   ],
   "source": [
    "Base.summarysize(A)"
   ]
  },
  {
   "cell_type": "markdown",
   "metadata": {},
   "source": [
    "From the `summarysize` function we can see that A takes $53276943$ bytes to store. If converted to a `Matrix{Float64}`, the amount of memory it would take would be $916428 * 916428 * 8 = 6.72 * 10^{12}$ bytes, which is around $6.11$ TB. "
   ]
  },
  {
   "cell_type": "markdown",
   "metadata": {},
   "source": [
    "* number of web pages"
   ]
  },
  {
   "cell_type": "code",
   "execution_count": 6,
   "metadata": {},
   "outputs": [
    {
     "data": {
      "text/plain": [
       "(916428, 916428)"
      ]
     },
     "execution_count": 6,
     "metadata": {},
     "output_type": "execute_result"
    }
   ],
   "source": [
    "size(A)"
   ]
  },
  {
   "cell_type": "markdown",
   "metadata": {},
   "source": [
    "There are $916428$ web pages."
   ]
  },
  {
   "cell_type": "markdown",
   "metadata": {},
   "source": [
    "* number of edges (web links)"
   ]
  },
  {
   "cell_type": "markdown",
   "metadata": {},
   "source": [
    "There are $5105039$ web links"
   ]
  },
  {
   "cell_type": "markdown",
   "metadata": {},
   "source": [
    "* number of dangling nodes (pages with no out links)"
   ]
  },
  {
   "cell_type": "code",
   "execution_count": 7,
   "metadata": {},
   "outputs": [
    {
     "data": {
      "text/plain": [
       "176974"
      ]
     },
     "execution_count": 7,
     "metadata": {},
     "output_type": "execute_result"
    }
   ],
   "source": [
    "outnodes = sum(A, dims = 2)\n",
    "count(i -> (i == 0), outnodes)"
   ]
  },
  {
   "cell_type": "markdown",
   "metadata": {},
   "source": [
    "There are $176974$ dangling nodes."
   ]
  },
  {
   "cell_type": "markdown",
   "metadata": {},
   "source": [
    "* histogram of in-degrees"
   ]
  },
  {
   "cell_type": "code",
   "execution_count": 8,
   "metadata": {},
   "outputs": [
    {
     "data": {
      "text/plain": [
       "                    \u001b[38;5;8m┌                                        ┐\u001b[0m \n",
       "   [   0.0,  500.0) \u001b[38;5;8m┤\u001b[0m\u001b[38;5;2m███████████████████████████████\u001b[0m\u001b[38;5;2m \u001b[0m 916 114\u001b[38;5;8m \u001b[0m \u001b[38;5;8m\u001b[0m\n",
       "   [ 500.0, 1000.0) \u001b[38;5;8m┤\u001b[0m\u001b[38;5;2m\u001b[0m\u001b[38;5;2m▏\u001b[0m 180                                   \u001b[38;5;8m \u001b[0m \u001b[38;5;8m\u001b[0m\n",
       "   [1000.0, 1500.0) \u001b[38;5;8m┤\u001b[0m\u001b[38;5;2m\u001b[0m\u001b[38;5;2m▏\u001b[0m 32                                    \u001b[38;5;8m \u001b[0m \u001b[38;5;8m\u001b[0m\n",
       "   [1500.0, 2000.0) \u001b[38;5;8m┤\u001b[0m\u001b[38;5;2m\u001b[0m\u001b[38;5;2m▏\u001b[0m 20                                    \u001b[38;5;8m \u001b[0m \u001b[38;5;8m\u001b[0m\n",
       "   [2000.0, 2500.0) \u001b[38;5;8m┤\u001b[0m\u001b[38;5;2m\u001b[0m\u001b[38;5;2m▏\u001b[0m 16                                    \u001b[38;5;8m \u001b[0m \u001b[38;5;8m\u001b[0m\n",
       "   [2500.0, 3000.0) \u001b[38;5;8m┤\u001b[0m\u001b[38;5;2m\u001b[0m\u001b[38;5;2m▏\u001b[0m 20                                    \u001b[38;5;8m \u001b[0m \u001b[38;5;8m\u001b[0m\n",
       "   [3000.0, 3500.0) \u001b[38;5;8m┤\u001b[0m\u001b[38;5;2m\u001b[0m\u001b[38;5;2m▏\u001b[0m 18                                    \u001b[38;5;8m \u001b[0m \u001b[38;5;8m\u001b[0m\n",
       "   [3500.0, 4000.0) \u001b[38;5;8m┤\u001b[0m\u001b[38;5;2m\u001b[0m\u001b[38;5;2m▏\u001b[0m 10                                    \u001b[38;5;8m \u001b[0m \u001b[38;5;8m\u001b[0m\n",
       "   [4000.0, 4500.0) \u001b[38;5;8m┤\u001b[0m\u001b[38;5;2m\u001b[0m\u001b[38;5;2m▏\u001b[0m 9                                     \u001b[38;5;8m \u001b[0m \u001b[38;5;8m\u001b[0m\n",
       "   [4500.0, 5000.0) \u001b[38;5;8m┤\u001b[0m\u001b[38;5;2m\u001b[0m\u001b[38;5;2m▏\u001b[0m 4                                     \u001b[38;5;8m \u001b[0m \u001b[38;5;8m\u001b[0m\n",
       "   [5000.0, 5500.0) \u001b[38;5;8m┤\u001b[0m\u001b[38;5;2m\u001b[0m\u001b[38;5;2m▏\u001b[0m 4                                     \u001b[38;5;8m \u001b[0m \u001b[38;5;8m\u001b[0m\n",
       "   [5500.0, 6000.0) \u001b[38;5;8m┤\u001b[0m\u001b[38;5;2m\u001b[0m\u001b[38;5;2m \u001b[0m 0                                     \u001b[38;5;8m \u001b[0m \u001b[38;5;8m\u001b[0m\n",
       "   [6000.0, 6500.0) \u001b[38;5;8m┤\u001b[0m\u001b[38;5;2m\u001b[0m\u001b[38;5;2m▏\u001b[0m 1                                     \u001b[38;5;8m \u001b[0m \u001b[38;5;8m\u001b[0m\n",
       "                    \u001b[38;5;8m└                                        ┘\u001b[0m \n",
       "                                     Frequency                 "
      ]
     },
     "execution_count": 8,
     "metadata": {},
     "output_type": "execute_result"
    }
   ],
   "source": [
    "in_degrees = sum(A, dims = 1)\n",
    "histogram(in_degrees)"
   ]
  },
  {
   "cell_type": "markdown",
   "metadata": {},
   "source": [
    "* list the top 20 pages with the largest in-degrees"
   ]
  },
  {
   "cell_type": "code",
   "execution_count": 9,
   "metadata": {},
   "outputs": [
    {
     "data": {
      "text/plain": [
       "20-element Vector{Pair{Int64, Int64}}:\n",
       " 537040 => 6326\n",
       " 597622 => 5354\n",
       " 504141 => 5271\n",
       " 751385 => 5182\n",
       "  32164 => 5097\n",
       " 885606 => 4847\n",
       " 163076 => 4731\n",
       " 819224 => 4620\n",
       " 605857 => 4550\n",
       " 828964 => 4484\n",
       " 551830 => 4220\n",
       "  41910 => 4219\n",
       " 558792 => 4206\n",
       " 459075 => 4187\n",
       " 407611 => 4180\n",
       " 213433 => 4084\n",
       " 765335 => 4015\n",
       " 384667 => 4010\n",
       " 173977 => 3988\n",
       " 687326 => 3956"
      ]
     },
     "execution_count": 9,
     "metadata": {},
     "output_type": "execute_result"
    }
   ],
   "source": [
    "index = Vector(1 : size(A, 2))\n",
    "in_vec= Dict(index .=> vec(in_degrees))\n",
    "first(sort(in_vec, byvalue = true, rev = true), 20)"
   ]
  },
  {
   "cell_type": "markdown",
   "metadata": {},
   "source": [
    "* histogram of out-degrees"
   ]
  },
  {
   "cell_type": "code",
   "execution_count": 10,
   "metadata": {},
   "outputs": [
    {
     "data": {
      "text/plain": [
       "                  \u001b[38;5;8m┌                                        ┐\u001b[0m \n",
       "   [  0.0,  20.0) \u001b[38;5;8m┤\u001b[0m\u001b[38;5;2m███████████████████████████████\u001b[0m\u001b[38;5;2m \u001b[0m 891 798\u001b[38;5;8m \u001b[0m \u001b[38;5;8m\u001b[0m\n",
       "   [ 20.0,  40.0) \u001b[38;5;8m┤\u001b[0m\u001b[38;5;2m\u001b[0m\u001b[38;5;2m▊\u001b[0m 22 628                                \u001b[38;5;8m \u001b[0m \u001b[38;5;8m\u001b[0m\n",
       "   [ 40.0,  60.0) \u001b[38;5;8m┤\u001b[0m\u001b[38;5;2m\u001b[0m\u001b[38;5;2m▏\u001b[0m 1 329                                 \u001b[38;5;8m \u001b[0m \u001b[38;5;8m\u001b[0m\n",
       "   [ 60.0,  80.0) \u001b[38;5;8m┤\u001b[0m\u001b[38;5;2m\u001b[0m\u001b[38;5;2m▏\u001b[0m 371                                   \u001b[38;5;8m \u001b[0m \u001b[38;5;8m\u001b[0m\n",
       "   [ 80.0, 100.0) \u001b[38;5;8m┤\u001b[0m\u001b[38;5;2m\u001b[0m\u001b[38;5;2m▏\u001b[0m 124                                   \u001b[38;5;8m \u001b[0m \u001b[38;5;8m\u001b[0m\n",
       "   [100.0, 120.0) \u001b[38;5;8m┤\u001b[0m\u001b[38;5;2m\u001b[0m\u001b[38;5;2m▏\u001b[0m 86                                    \u001b[38;5;8m \u001b[0m \u001b[38;5;8m\u001b[0m\n",
       "   [120.0, 140.0) \u001b[38;5;8m┤\u001b[0m\u001b[38;5;2m\u001b[0m\u001b[38;5;2m▏\u001b[0m 29                                    \u001b[38;5;8m \u001b[0m \u001b[38;5;8m\u001b[0m\n",
       "   [140.0, 160.0) \u001b[38;5;8m┤\u001b[0m\u001b[38;5;2m\u001b[0m\u001b[38;5;2m▏\u001b[0m 15                                    \u001b[38;5;8m \u001b[0m \u001b[38;5;8m\u001b[0m\n",
       "   [160.0, 180.0) \u001b[38;5;8m┤\u001b[0m\u001b[38;5;2m\u001b[0m\u001b[38;5;2m▏\u001b[0m 15                                    \u001b[38;5;8m \u001b[0m \u001b[38;5;8m\u001b[0m\n",
       "   [180.0, 200.0) \u001b[38;5;8m┤\u001b[0m\u001b[38;5;2m\u001b[0m\u001b[38;5;2m▏\u001b[0m 8                                     \u001b[38;5;8m \u001b[0m \u001b[38;5;8m\u001b[0m\n",
       "   [200.0, 220.0) \u001b[38;5;8m┤\u001b[0m\u001b[38;5;2m\u001b[0m\u001b[38;5;2m▏\u001b[0m 7                                     \u001b[38;5;8m \u001b[0m \u001b[38;5;8m\u001b[0m\n",
       "   [220.0, 240.0) \u001b[38;5;8m┤\u001b[0m\u001b[38;5;2m\u001b[0m\u001b[38;5;2m▏\u001b[0m 3                                     \u001b[38;5;8m \u001b[0m \u001b[38;5;8m\u001b[0m\n",
       "   [240.0, 260.0) \u001b[38;5;8m┤\u001b[0m\u001b[38;5;2m\u001b[0m\u001b[38;5;2m▏\u001b[0m 8                                     \u001b[38;5;8m \u001b[0m \u001b[38;5;8m\u001b[0m\n",
       "   [260.0, 280.0) \u001b[38;5;8m┤\u001b[0m\u001b[38;5;2m\u001b[0m\u001b[38;5;2m▏\u001b[0m 3                                     \u001b[38;5;8m \u001b[0m \u001b[38;5;8m\u001b[0m\n",
       "   [280.0, 300.0) \u001b[38;5;8m┤\u001b[0m\u001b[38;5;2m\u001b[0m\u001b[38;5;2m \u001b[0m 0                                     \u001b[38;5;8m \u001b[0m \u001b[38;5;8m\u001b[0m\n",
       "   [300.0, 320.0) \u001b[38;5;8m┤\u001b[0m\u001b[38;5;2m\u001b[0m\u001b[38;5;2m \u001b[0m 0                                     \u001b[38;5;8m \u001b[0m \u001b[38;5;8m\u001b[0m\n",
       "   [320.0, 340.0) \u001b[38;5;8m┤\u001b[0m\u001b[38;5;2m\u001b[0m\u001b[38;5;2m▏\u001b[0m 1                                     \u001b[38;5;8m \u001b[0m \u001b[38;5;8m\u001b[0m\n",
       "   [340.0, 360.0) \u001b[38;5;8m┤\u001b[0m\u001b[38;5;2m\u001b[0m\u001b[38;5;2m \u001b[0m 0                                     \u001b[38;5;8m \u001b[0m \u001b[38;5;8m\u001b[0m\n",
       "   [360.0, 380.0) \u001b[38;5;8m┤\u001b[0m\u001b[38;5;2m\u001b[0m\u001b[38;5;2m▏\u001b[0m 2                                     \u001b[38;5;8m \u001b[0m \u001b[38;5;8m\u001b[0m\n",
       "   [380.0, 400.0) \u001b[38;5;8m┤\u001b[0m\u001b[38;5;2m\u001b[0m\u001b[38;5;2m \u001b[0m 0                                     \u001b[38;5;8m \u001b[0m \u001b[38;5;8m\u001b[0m\n",
       "   [400.0, 420.0) \u001b[38;5;8m┤\u001b[0m\u001b[38;5;2m\u001b[0m\u001b[38;5;2m \u001b[0m 0                                     \u001b[38;5;8m \u001b[0m \u001b[38;5;8m\u001b[0m\n",
       "   [420.0, 440.0) \u001b[38;5;8m┤\u001b[0m\u001b[38;5;2m\u001b[0m\u001b[38;5;2m \u001b[0m 0                                     \u001b[38;5;8m \u001b[0m \u001b[38;5;8m\u001b[0m\n",
       "   [440.0, 460.0) \u001b[38;5;8m┤\u001b[0m\u001b[38;5;2m\u001b[0m\u001b[38;5;2m▏\u001b[0m 1                                     \u001b[38;5;8m \u001b[0m \u001b[38;5;8m\u001b[0m\n",
       "                  \u001b[38;5;8m└                                        ┘\u001b[0m \n",
       "                                   Frequency                 "
      ]
     },
     "execution_count": 10,
     "metadata": {},
     "output_type": "execute_result"
    }
   ],
   "source": [
    "out_degrees = sum(A, dims = 2)\n",
    "histogram(out_degrees)"
   ]
  },
  {
   "cell_type": "markdown",
   "metadata": {},
   "source": [
    "* top 20 pages with the largest out-degrees"
   ]
  },
  {
   "cell_type": "code",
   "execution_count": 11,
   "metadata": {},
   "outputs": [
    {
     "data": {
      "text/plain": [
       "20-element Vector{Pair{Int64, Int64}}:\n",
       " 506743 => 456\n",
       " 203749 => 372\n",
       " 305230 => 372\n",
       " 768092 => 330\n",
       " 808644 => 277\n",
       " 412411 => 268\n",
       " 600480 => 265\n",
       " 376429 => 258\n",
       " 156951 => 257\n",
       " 885729 => 256\n",
       " 667585 => 253\n",
       " 685696 => 248\n",
       " 282141 => 247\n",
       " 598189 => 245\n",
       " 579315 => 244\n",
       " 411594 => 231\n",
       " 321092 => 229\n",
       " 838279 => 225\n",
       " 302734 => 216\n",
       " 915274 => 213"
      ]
     },
     "execution_count": 11,
     "metadata": {},
     "output_type": "execute_result"
    }
   ],
   "source": [
    "out_vec= Dict(index .=> out_degrees)\n",
    "first(sort(out_vec, byvalue = true, rev = true), 20)"
   ]
  },
  {
   "cell_type": "markdown",
   "metadata": {},
   "source": [
    "* visualize the sparsity pattern of $\\mathbf{A}$ or a submatrix of $\\mathbf{A}$ say `A[1:10000, 1:10000]`. "
   ]
  },
  {
   "cell_type": "code",
   "execution_count": 12,
   "metadata": {},
   "outputs": [
    {
     "data": {
      "text/plain": [
       "          \u001b[38;5;8m┌──────────────────────────────────────────┐\u001b[0m    \n",
       "        \u001b[38;5;8m1\u001b[0m \u001b[38;5;8m│\u001b[0m⠀⠀⠀⠀⠀⠀⠀\u001b[38;5;1m⠂\u001b[0m⠀⠀⠀⠀\u001b[38;5;1m⢀\u001b[0m\u001b[38;5;1m⢂\u001b[0m\u001b[38;5;1m⡂\u001b[0m\u001b[38;5;1m⠐\u001b[0m⠀⠀⠀\u001b[38;5;1m⠠\u001b[0m⠀⠀⠀\u001b[38;5;1m⠔\u001b[0m\u001b[38;5;1m⠄\u001b[0m⠀\u001b[38;5;1m⠈\u001b[0m\u001b[38;5;1m⢀\u001b[0m⠀⠀\u001b[38;5;1m⠉\u001b[0m⠀⠀\u001b[38;5;1m⠁\u001b[0m⠀⠀\u001b[38;5;1m⠐\u001b[0m⠀\u001b[38;5;1m⠄\u001b[0m⠀\u001b[38;5;1m⠐\u001b[0m⠀\u001b[38;5;8m│\u001b[0m \u001b[38;5;1m> 0\u001b[0m\n",
       "         \u001b[38;5;8m\u001b[0m \u001b[38;5;8m│\u001b[0m⠀⠀⠀⠀⠀\u001b[38;5;1m⠂\u001b[0m\u001b[38;5;1m⡂\u001b[0m⠀\u001b[38;5;1m⠄\u001b[0m\u001b[38;5;1m⠄\u001b[0m\u001b[38;5;1m⠈\u001b[0m\u001b[38;5;1m⠈\u001b[0m\u001b[38;5;1m⡔\u001b[0m⠀⠀\u001b[38;5;1m⠁\u001b[0m\u001b[38;5;1m⠂\u001b[0m⠀⠀⠀⠀\u001b[38;5;1m⠠\u001b[0m\u001b[38;5;1m⠁\u001b[0m\u001b[38;5;1m⠒\u001b[0m\u001b[38;5;1m⠁\u001b[0m⠀\u001b[38;5;1m⠄\u001b[0m⠀\u001b[38;5;1m⠐\u001b[0m⠀\u001b[38;5;1m⠈\u001b[0m⠀⠀\u001b[38;5;1m⡐\u001b[0m⠀⠀\u001b[38;5;1m⠠\u001b[0m⠀\u001b[38;5;1m⡀\u001b[0m⠀\u001b[38;5;1m⠉\u001b[0m⠀\u001b[38;5;8m│\u001b[0m \u001b[38;5;4m< 0\u001b[0m\n",
       "         \u001b[38;5;8m\u001b[0m \u001b[38;5;8m│\u001b[0m⠀\u001b[38;5;1m⠐\u001b[0m\u001b[38;5;1m⠠\u001b[0m⠀⠀\u001b[38;5;1m⠁\u001b[0m\u001b[38;5;1m⢐\u001b[0m\u001b[38;5;1m⠄\u001b[0m⠀\u001b[38;5;1m⠢\u001b[0m\u001b[38;5;1m⠠\u001b[0m⠀⠀\u001b[38;5;1m⡀\u001b[0m\u001b[38;5;1m⠈\u001b[0m⠀\u001b[38;5;1m⠋\u001b[0m⠀⠀⠀⠀⠀\u001b[38;5;1m⠂\u001b[0m\u001b[38;5;1m⡀\u001b[0m⠀\u001b[38;5;1m⠈\u001b[0m\u001b[38;5;1m⠄\u001b[0m⠀\u001b[38;5;1m⠄\u001b[0m\u001b[38;5;1m⠁\u001b[0m\u001b[38;5;1m⠈\u001b[0m⠀\u001b[38;5;1m⠠\u001b[0m⠀\u001b[38;5;1m⠰\u001b[0m⠀⠀⠀⠀\u001b[38;5;1m⢀\u001b[0m\u001b[38;5;1m⠆\u001b[0m⠀\u001b[38;5;8m│\u001b[0m \u001b[38;5;8m\u001b[0m   \n",
       "         \u001b[38;5;8m\u001b[0m \u001b[38;5;8m│\u001b[0m⠀\u001b[38;5;1m⠈\u001b[0m\u001b[38;5;1m⠠\u001b[0m\u001b[38;5;1m⠂\u001b[0m⠀\u001b[38;5;1m⠈\u001b[0m⠀\u001b[38;5;1m⡠\u001b[0m\u001b[38;5;1m⠐\u001b[0m⠀⠀⠀⠀⠀⠀⠀⠀⠀⠀\u001b[38;5;1m⡀\u001b[0m\u001b[38;5;1m⠈\u001b[0m\u001b[38;5;1m⠄\u001b[0m\u001b[38;5;1m⠁\u001b[0m\u001b[38;5;1m⢀\u001b[0m\u001b[38;5;1m⡀\u001b[0m\u001b[38;5;1m⠐\u001b[0m\u001b[38;5;1m⠄\u001b[0m\u001b[38;5;1m⠄\u001b[0m⠀⠀\u001b[38;5;1m⢀\u001b[0m⠀\u001b[38;5;1m⠈\u001b[0m\u001b[38;5;1m⠂\u001b[0m\u001b[38;5;1m⢠\u001b[0m⠀\u001b[38;5;1m⠢\u001b[0m\u001b[38;5;1m⠐\u001b[0m⠀⠀⠀\u001b[38;5;1m⡀\u001b[0m\u001b[38;5;8m│\u001b[0m \u001b[38;5;8m\u001b[0m   \n",
       "         \u001b[38;5;8m\u001b[0m \u001b[38;5;8m│\u001b[0m⠀⠀\u001b[38;5;1m⠐\u001b[0m\u001b[38;5;1m⡁\u001b[0m⠀\u001b[38;5;1m⡀\u001b[0m⠀⠀\u001b[38;5;1m⠠\u001b[0m⠀\u001b[38;5;1m⠁\u001b[0m⠀⠀⠀\u001b[38;5;1m⡄\u001b[0m⠀\u001b[38;5;1m⠈\u001b[0m\u001b[38;5;1m⠁\u001b[0m⠀⠀⠀⠀\u001b[38;5;1m⠠\u001b[0m\u001b[38;5;1m⠂\u001b[0m⠀⠀⠀⠀⠀\u001b[38;5;1m⠂\u001b[0m\u001b[38;5;1m⠪\u001b[0m⠀⠀\u001b[38;5;1m⠂\u001b[0m⠀⠀⠀\u001b[38;5;1m⠄\u001b[0m\u001b[38;5;1m⢀\u001b[0m⠀\u001b[38;5;1m⠁\u001b[0m⠀\u001b[38;5;8m│\u001b[0m \u001b[38;5;8m\u001b[0m   \n",
       "         \u001b[38;5;8m\u001b[0m \u001b[38;5;8m│\u001b[0m\u001b[38;5;1m⠂\u001b[0m\u001b[38;5;1m⢀\u001b[0m⠀\u001b[38;5;1m⠁\u001b[0m⠀⠀\u001b[38;5;1m⡀\u001b[0m\u001b[38;5;1m⡉\u001b[0m⠀⠀\u001b[38;5;1m⠠\u001b[0m\u001b[38;5;1m⠂\u001b[0m\u001b[38;5;1m⠐\u001b[0m\u001b[38;5;1m⢀\u001b[0m\u001b[38;5;1m⠄\u001b[0m\u001b[38;5;1m⠁\u001b[0m\u001b[38;5;1m⠐\u001b[0m⠀\u001b[38;5;1m⠈\u001b[0m⠀⠀⠀⠀⠀\u001b[38;5;1m⡀\u001b[0m\u001b[38;5;1m⠐\u001b[0m\u001b[38;5;1m⠁\u001b[0m\u001b[38;5;1m⡠\u001b[0m⠀\u001b[38;5;1m⠂\u001b[0m\u001b[38;5;1m⠚\u001b[0m⠀\u001b[38;5;1m⠁\u001b[0m⠀\u001b[38;5;1m⠐\u001b[0m\u001b[38;5;1m⢀\u001b[0m\u001b[38;5;1m⠆\u001b[0m⠀\u001b[38;5;1m⠈\u001b[0m\u001b[38;5;1m⠄\u001b[0m\u001b[38;5;1m⢀\u001b[0m\u001b[38;5;1m⠂\u001b[0m\u001b[38;5;8m│\u001b[0m \u001b[38;5;8m\u001b[0m   \n",
       "         \u001b[38;5;8m\u001b[0m \u001b[38;5;8m│\u001b[0m⠀⠀⠀\u001b[38;5;1m⠁\u001b[0m⠀\u001b[38;5;1m⡄\u001b[0m⠀⠀⠀⠀\u001b[38;5;1m⠒\u001b[0m⠀\u001b[38;5;1m⢄\u001b[0m\u001b[38;5;1m⠄\u001b[0m\u001b[38;5;1m⢂\u001b[0m⠀\u001b[38;5;1m⠂\u001b[0m⠀⠀\u001b[38;5;1m⠄\u001b[0m⠀\u001b[38;5;1m⢀\u001b[0m⠀\u001b[38;5;1m⠣\u001b[0m⠀\u001b[38;5;1m⢀\u001b[0m⠀⠀⠀⠀\u001b[38;5;1m⠠\u001b[0m\u001b[38;5;1m⡀\u001b[0m⠀⠀\u001b[38;5;1m⢠\u001b[0m\u001b[38;5;1m⠄\u001b[0m⠀\u001b[38;5;1m⡀\u001b[0m⠀\u001b[38;5;1m⠂\u001b[0m\u001b[38;5;1m⠂\u001b[0m⠀\u001b[38;5;8m│\u001b[0m \u001b[38;5;8m\u001b[0m   \n",
       "         \u001b[38;5;8m\u001b[0m \u001b[38;5;8m│\u001b[0m\u001b[38;5;1m⢀\u001b[0m\u001b[38;5;1m⠈\u001b[0m⠀⠀\u001b[38;5;1m⠂\u001b[0m⠀⠀\u001b[38;5;1m⠁\u001b[0m\u001b[38;5;1m⢠\u001b[0m\u001b[38;5;1m⠈\u001b[0m\u001b[38;5;1m⠄\u001b[0m\u001b[38;5;1m⠁\u001b[0m⠀⠀\u001b[38;5;1m⡈\u001b[0m\u001b[38;5;1m⠈\u001b[0m\u001b[38;5;1m⠠\u001b[0m⠀\u001b[38;5;1m⢀\u001b[0m\u001b[38;5;1m⡦\u001b[0m⠀⠀\u001b[38;5;1m⠅\u001b[0m\u001b[38;5;1m⠐\u001b[0m⠀\u001b[38;5;1m⠨\u001b[0m\u001b[38;5;1m⠁\u001b[0m\u001b[38;5;1m⠨\u001b[0m⠀\u001b[38;5;1m⠄\u001b[0m\u001b[38;5;1m⠠\u001b[0m\u001b[38;5;1m⢀\u001b[0m⠀\u001b[38;5;1m⠐\u001b[0m\u001b[38;5;1m⢐\u001b[0m⠀⠀\u001b[38;5;1m⠉\u001b[0m⠀⠀\u001b[38;5;1m⠠\u001b[0m\u001b[38;5;1m⠉\u001b[0m\u001b[38;5;8m│\u001b[0m \u001b[38;5;8m\u001b[0m   \n",
       "         \u001b[38;5;8m\u001b[0m \u001b[38;5;8m│\u001b[0m⠀⠀\u001b[38;5;1m⠨\u001b[0m⠀\u001b[38;5;1m⠋\u001b[0m⠀\u001b[38;5;1m⠄\u001b[0m⠀\u001b[38;5;1m⠂\u001b[0m⠀\u001b[38;5;1m⠈\u001b[0m⠀⠀⠀\u001b[38;5;1m⠈\u001b[0m⠀⠀⠀⠀\u001b[38;5;1m⡑\u001b[0m⠀\u001b[38;5;1m⢀\u001b[0m\u001b[38;5;1m⠈\u001b[0m\u001b[38;5;1m⠈\u001b[0m⠀⠀⠀\u001b[38;5;1m⠈\u001b[0m⠀\u001b[38;5;1m⠂\u001b[0m\u001b[38;5;1m⠐\u001b[0m\u001b[38;5;1m⠼\u001b[0m⠀\u001b[38;5;1m⠠\u001b[0m⠀⠀\u001b[38;5;1m⡈\u001b[0m\u001b[38;5;1m⠁\u001b[0m⠀⠀\u001b[38;5;1m⠡\u001b[0m\u001b[38;5;1m⠄\u001b[0m\u001b[38;5;8m│\u001b[0m \u001b[38;5;8m\u001b[0m   \n",
       "         \u001b[38;5;8m\u001b[0m \u001b[38;5;8m│\u001b[0m\u001b[38;5;1m⠠\u001b[0m\u001b[38;5;1m⡁\u001b[0m⠀⠀⠀⠀⠀⠀⠀⠀\u001b[38;5;1m⠂\u001b[0m\u001b[38;5;1m⢀\u001b[0m⠀⠀⠀\u001b[38;5;1m⡄\u001b[0m⠀⠀⠀\u001b[38;5;1m⠤\u001b[0m⠀⠀\u001b[38;5;1m⠁\u001b[0m⠀\u001b[38;5;1m⡂\u001b[0m⠀⠀⠀\u001b[38;5;1m⠄\u001b[0m⠀\u001b[38;5;1m⢈\u001b[0m⠀\u001b[38;5;1m⢔\u001b[0m\u001b[38;5;1m⡊\u001b[0m\u001b[38;5;1m⣨\u001b[0m\u001b[38;5;1m⠈\u001b[0m\u001b[38;5;1m⠂\u001b[0m⠀\u001b[38;5;1m⠄\u001b[0m\u001b[38;5;1m⢀\u001b[0m⠀⠀\u001b[38;5;8m│\u001b[0m \u001b[38;5;8m\u001b[0m   \n",
       "         \u001b[38;5;8m\u001b[0m \u001b[38;5;8m│\u001b[0m⠀\u001b[38;5;1m⠂\u001b[0m⠀\u001b[38;5;1m⠈\u001b[0m⠀⠀⠀⠀⠀⠀\u001b[38;5;1m⠈\u001b[0m⠀\u001b[38;5;1m⡀\u001b[0m⠀\u001b[38;5;1m⠂\u001b[0m\u001b[38;5;1m⠠\u001b[0m\u001b[38;5;1m⠐\u001b[0m⠀\u001b[38;5;1m⠄\u001b[0m⠀⠀⠀⠀⠀⠀\u001b[38;5;1m⠤\u001b[0m⠀⠀⠀\u001b[38;5;1m⠠\u001b[0m\u001b[38;5;1m⠘\u001b[0m\u001b[38;5;1m⠐\u001b[0m⠀\u001b[38;5;1m⠄\u001b[0m\u001b[38;5;1m⢘\u001b[0m⠀⠀\u001b[38;5;1m⢐\u001b[0m\u001b[38;5;1m⠄\u001b[0m⠀\u001b[38;5;1m⠁\u001b[0m⠀\u001b[38;5;8m│\u001b[0m \u001b[38;5;8m\u001b[0m   \n",
       "         \u001b[38;5;8m\u001b[0m \u001b[38;5;8m│\u001b[0m\u001b[38;5;1m⢀\u001b[0m\u001b[38;5;1m⠄\u001b[0m\u001b[38;5;1m⢠\u001b[0m\u001b[38;5;1m⠄\u001b[0m\u001b[38;5;1m⡊\u001b[0m\u001b[38;5;1m⠂\u001b[0m\u001b[38;5;1m⠢\u001b[0m\u001b[38;5;1m⢀\u001b[0m⠀⠀⠀⠀\u001b[38;5;1m⠄\u001b[0m\u001b[38;5;1m⡀\u001b[0m\u001b[38;5;1m⡑\u001b[0m⠀\u001b[38;5;1m⡐\u001b[0m⠀\u001b[38;5;1m⠁\u001b[0m\u001b[38;5;1m⡂\u001b[0m⠀⠀⠀\u001b[38;5;1m⠰\u001b[0m\u001b[38;5;1m⠂\u001b[0m\u001b[38;5;1m⢠\u001b[0m\u001b[38;5;1m⠄\u001b[0m\u001b[38;5;1m⠈\u001b[0m⠀\u001b[38;5;1m⠈\u001b[0m\u001b[38;5;1m⠐\u001b[0m⠀⠀⠀\u001b[38;5;1m⠉\u001b[0m⠀⠀\u001b[38;5;1m⡀\u001b[0m⠀⠀\u001b[38;5;1m⠃\u001b[0m⠀\u001b[38;5;8m│\u001b[0m \u001b[38;5;8m\u001b[0m   \n",
       "         \u001b[38;5;8m\u001b[0m \u001b[38;5;8m│\u001b[0m⠀⠀\u001b[38;5;1m⠅\u001b[0m⠀\u001b[38;5;1m⡁\u001b[0m⠀⠀⠀⠀⠀\u001b[38;5;1m⢁\u001b[0m\u001b[38;5;1m⢀\u001b[0m⠀\u001b[38;5;1m⡀\u001b[0m\u001b[38;5;1m⡀\u001b[0m\u001b[38;5;1m⡐\u001b[0m⠀⠀\u001b[38;5;1m⠈\u001b[0m\u001b[38;5;1m⠈\u001b[0m\u001b[38;5;1m⠔\u001b[0m\u001b[38;5;1m⠄\u001b[0m⠀⠀\u001b[38;5;1m⢀\u001b[0m⠀⠀⠀⠀⠀⠀⠀⠀\u001b[38;5;1m⠄\u001b[0m\u001b[38;5;1m⢉\u001b[0m\u001b[38;5;1m⠠\u001b[0m\u001b[38;5;1m⠁\u001b[0m⠀\u001b[38;5;1m⠁\u001b[0m⠀⠀⠀\u001b[38;5;8m│\u001b[0m \u001b[38;5;8m\u001b[0m   \n",
       "         \u001b[38;5;8m\u001b[0m \u001b[38;5;8m│\u001b[0m\u001b[38;5;1m⠊\u001b[0m\u001b[38;5;1m⢈\u001b[0m⠀\u001b[38;5;1m⠁\u001b[0m⠀⠀⠀\u001b[38;5;1m⠅\u001b[0m⠀\u001b[38;5;1m⠂\u001b[0m⠀\u001b[38;5;1m⡀\u001b[0m⠀⠀⠀⠀\u001b[38;5;1m⡀\u001b[0m⠀⠀\u001b[38;5;1m⠐\u001b[0m\u001b[38;5;1m⠄\u001b[0m\u001b[38;5;1m⠁\u001b[0m\u001b[38;5;1m⠠\u001b[0m⠀\u001b[38;5;1m⠐\u001b[0m\u001b[38;5;1m⠈\u001b[0m⠀⠀⠀\u001b[38;5;1m⡀\u001b[0m\u001b[38;5;1m⢠\u001b[0m⠀⠀⠀\u001b[38;5;1m⢰\u001b[0m⠀⠀⠀\u001b[38;5;1m⢀\u001b[0m⠀\u001b[38;5;1m⠠\u001b[0m\u001b[38;5;1m⠂\u001b[0m\u001b[38;5;8m│\u001b[0m \u001b[38;5;8m\u001b[0m   \n",
       "         \u001b[38;5;8m\u001b[0m \u001b[38;5;8m│\u001b[0m\u001b[38;5;1m⠈\u001b[0m⠀⠀\u001b[38;5;1m⠈\u001b[0m\u001b[38;5;1m⠄\u001b[0m⠀⠀\u001b[38;5;1m⠄\u001b[0m\u001b[38;5;1m⠐\u001b[0m⠀\u001b[38;5;1m⠠\u001b[0m\u001b[38;5;1m⠁\u001b[0m\u001b[38;5;1m⠁\u001b[0m⠀\u001b[38;5;1m⡂\u001b[0m⠀\u001b[38;5;1m⠠\u001b[0m\u001b[38;5;1m⠄\u001b[0m\u001b[38;5;1m⠌\u001b[0m\u001b[38;5;1m⠅\u001b[0m\u001b[38;5;1m⣀\u001b[0m⠀⠀\u001b[38;5;1m⢀\u001b[0m⠀\u001b[38;5;1m⠠\u001b[0m⠀\u001b[38;5;1m⠠\u001b[0m\u001b[38;5;1m⠠\u001b[0m⠀\u001b[38;5;1m⠲\u001b[0m\u001b[38;5;1m⢂\u001b[0m⠀\u001b[38;5;1m⠰\u001b[0m\u001b[38;5;1m⡄\u001b[0m⠀\u001b[38;5;1m⢀\u001b[0m\u001b[38;5;1m⠬\u001b[0m\u001b[38;5;1m⠈\u001b[0m⠀⠀⠀\u001b[38;5;8m│\u001b[0m \u001b[38;5;8m\u001b[0m   \n",
       "         \u001b[38;5;8m\u001b[0m \u001b[38;5;8m│\u001b[0m\u001b[38;5;1m⠈\u001b[0m⠀⠀\u001b[38;5;1m⠄\u001b[0m⠀⠀\u001b[38;5;1m⡀\u001b[0m\u001b[38;5;1m⠈\u001b[0m⠀⠀\u001b[38;5;1m⠙\u001b[0m⠀⠀⠀\u001b[38;5;1m⢀\u001b[0m\u001b[38;5;1m⢀\u001b[0m\u001b[38;5;1m⠂\u001b[0m⠀⠀\u001b[38;5;1m⡄\u001b[0m\u001b[38;5;1m⢀\u001b[0m⠀\u001b[38;5;1m⠠\u001b[0m⠀\u001b[38;5;1m⠂\u001b[0m⠀⠀\u001b[38;5;1m⠐\u001b[0m⠀⠀\u001b[38;5;1m⠸\u001b[0m⠀⠀⠀\u001b[38;5;1m⠈\u001b[0m\u001b[38;5;1m⠠\u001b[0m⠀\u001b[38;5;1m⠠\u001b[0m\u001b[38;5;1m⠁\u001b[0m⠀\u001b[38;5;1m⠂\u001b[0m⠀\u001b[38;5;8m│\u001b[0m \u001b[38;5;8m\u001b[0m   \n",
       "         \u001b[38;5;8m\u001b[0m \u001b[38;5;8m│\u001b[0m\u001b[38;5;1m⠄\u001b[0m⠀⠀⠀\u001b[38;5;1m⠄\u001b[0m\u001b[38;5;1m⠂\u001b[0m\u001b[38;5;1m⠂\u001b[0m⠀⠀⠀\u001b[38;5;1m⠡\u001b[0m\u001b[38;5;1m⠁\u001b[0m⠀\u001b[38;5;1m⢉\u001b[0m\u001b[38;5;1m⠄\u001b[0m⠀⠀⠀\u001b[38;5;1m⡐\u001b[0m\u001b[38;5;1m⠑\u001b[0m\u001b[38;5;1m⠂\u001b[0m\u001b[38;5;1m⠄\u001b[0m\u001b[38;5;1m⠂\u001b[0m⠀⠀⠀\u001b[38;5;1m⢀\u001b[0m⠀\u001b[38;5;1m⢀\u001b[0m⠀⠀⠀⠀\u001b[38;5;1m⠉\u001b[0m\u001b[38;5;1m⠠\u001b[0m\u001b[38;5;1m⠈\u001b[0m⠀\u001b[38;5;1m⠁\u001b[0m⠀⠀\u001b[38;5;1m⡀\u001b[0m\u001b[38;5;1m⠄\u001b[0m\u001b[38;5;8m│\u001b[0m \u001b[38;5;8m\u001b[0m   \n",
       "         \u001b[38;5;8m\u001b[0m \u001b[38;5;8m│\u001b[0m⠀⠀⠀⠀⠀⠀⠀⠀⠀⠀⠀\u001b[38;5;1m⠠\u001b[0m\u001b[38;5;1m⠂\u001b[0m⠀⠀\u001b[38;5;1m⠄\u001b[0m⠀⠀⠀⠀\u001b[38;5;1m⠐\u001b[0m\u001b[38;5;1m⡀\u001b[0m⠀⠀\u001b[38;5;1m⠁\u001b[0m⠀\u001b[38;5;1m⠐\u001b[0m⠀⠀⠀\u001b[38;5;1m⢰\u001b[0m\u001b[38;5;1m⡄\u001b[0m\u001b[38;5;1m⠁\u001b[0m⠀⠀\u001b[38;5;1m⠉\u001b[0m\u001b[38;5;1m⠠\u001b[0m⠀\u001b[38;5;1m⠠\u001b[0m⠀\u001b[38;5;1m⡀\u001b[0m⠀\u001b[38;5;8m│\u001b[0m \u001b[38;5;8m\u001b[0m   \n",
       "         \u001b[38;5;8m\u001b[0m \u001b[38;5;8m│\u001b[0m\u001b[38;5;1m⡁\u001b[0m\u001b[38;5;1m⠄\u001b[0m\u001b[38;5;1m⢀\u001b[0m\u001b[38;5;1m⠂\u001b[0m⠀\u001b[38;5;1m⠁\u001b[0m\u001b[38;5;1m⡈\u001b[0m\u001b[38;5;1m⠆\u001b[0m⠀\u001b[38;5;1m⠄\u001b[0m\u001b[38;5;1m⠁\u001b[0m\u001b[38;5;1m⠁\u001b[0m⠀\u001b[38;5;1m⠂\u001b[0m\u001b[38;5;1m⠁\u001b[0m⠀\u001b[38;5;1m⠂\u001b[0m\u001b[38;5;1m⢀\u001b[0m⠀⠀⠀⠀⠀⠀\u001b[38;5;1m⠁\u001b[0m⠀⠀\u001b[38;5;1m⡀\u001b[0m⠀\u001b[38;5;1m⠐\u001b[0m⠀⠀⠀⠀⠀⠀⠀\u001b[38;5;1m⢀\u001b[0m\u001b[38;5;1m⠄\u001b[0m\u001b[38;5;1m⠤\u001b[0m\u001b[38;5;1m⠁\u001b[0m\u001b[38;5;1m⠠\u001b[0m\u001b[38;5;8m│\u001b[0m \u001b[38;5;8m\u001b[0m   \n",
       "         \u001b[38;5;8m\u001b[0m \u001b[38;5;8m│\u001b[0m⠀\u001b[38;5;1m⠅\u001b[0m\u001b[38;5;1m⠄\u001b[0m\u001b[38;5;1m⠈\u001b[0m⠀\u001b[38;5;1m⢀\u001b[0m\u001b[38;5;1m⠂\u001b[0m\u001b[38;5;1m⠁\u001b[0m\u001b[38;5;1m⠐\u001b[0m⠀\u001b[38;5;1m⡠\u001b[0m\u001b[38;5;1m⠄\u001b[0m⠀\u001b[38;5;1m⠄\u001b[0m\u001b[38;5;1m⠐\u001b[0m⠀⠀⠀⠀\u001b[38;5;1m⡀\u001b[0m⠀\u001b[38;5;1m⠁\u001b[0m\u001b[38;5;1m⡢\u001b[0m⠀\u001b[38;5;1m⠙\u001b[0m⠀\u001b[38;5;1m⠇\u001b[0m⠀\u001b[38;5;1m⢂\u001b[0m⠀\u001b[38;5;1m⣠\u001b[0m⠀\u001b[38;5;1m⠂\u001b[0m⠀⠀\u001b[38;5;1m⠂\u001b[0m⠀\u001b[38;5;1m⠥\u001b[0m\u001b[38;5;1m⠄\u001b[0m\u001b[38;5;1m⢁\u001b[0m\u001b[38;5;1m⡀\u001b[0m\u001b[38;5;1m⡀\u001b[0m\u001b[38;5;8m│\u001b[0m \u001b[38;5;8m\u001b[0m   \n",
       "   \u001b[38;5;8m10 000\u001b[0m \u001b[38;5;8m│\u001b[0m\u001b[38;5;1m⠘\u001b[0m⠀⠀⠀\u001b[38;5;1m⠈\u001b[0m\u001b[38;5;1m⠃\u001b[0m\u001b[38;5;1m⡁\u001b[0m\u001b[38;5;1m⠨\u001b[0m\u001b[38;5;1m⠁\u001b[0m\u001b[38;5;1m⠐\u001b[0m⠀⠀\u001b[38;5;1m⠈\u001b[0m\u001b[38;5;1m⠁\u001b[0m\u001b[38;5;1m⠄\u001b[0m⠀\u001b[38;5;1m⠁\u001b[0m⠀⠀\u001b[38;5;1m⠂\u001b[0m\u001b[38;5;1m⠁\u001b[0m\u001b[38;5;1m⢈\u001b[0m\u001b[38;5;1m⠁\u001b[0m⠀⠀\u001b[38;5;1m⡁\u001b[0m⠀⠀⠀\u001b[38;5;1m⢀\u001b[0m\u001b[38;5;1m⢰\u001b[0m⠀⠀\u001b[38;5;1m⠈\u001b[0m⠀\u001b[38;5;1m⠈\u001b[0m⠀⠀⠀⠀\u001b[38;5;1m⡂\u001b[0m⠀\u001b[38;5;8m│\u001b[0m \u001b[38;5;8m\u001b[0m   \n",
       "          \u001b[38;5;8m└──────────────────────────────────────────┘\u001b[0m    \n",
       "          ⠀\u001b[38;5;8m1\u001b[0m⠀⠀⠀⠀⠀⠀⠀⠀⠀⠀⠀⠀⠀⠀⠀⠀⠀⠀⠀\u001b[38;5;8m\u001b[0m⠀⠀⠀⠀⠀⠀⠀⠀⠀⠀⠀⠀⠀⠀⠀⠀\u001b[38;5;8m10 000\u001b[0m⠀    \n",
       "          ⠀⠀⠀⠀⠀⠀⠀⠀⠀⠀⠀⠀⠀⠀⠀⠀⠀⠀⠀600 ≠ 0⠀⠀⠀⠀⠀⠀⠀⠀⠀⠀⠀⠀⠀⠀⠀⠀⠀⠀    "
      ]
     },
     "execution_count": 12,
     "metadata": {},
     "output_type": "execute_result"
    }
   ],
   "source": [
    "spy(A[1:10000, 1:10000])"
   ]
  },
  {
   "cell_type": "markdown",
   "metadata": {},
   "source": [
    "## Q4 (5 pts) Dense linear algebra? \n",
    "\n",
    "Consider the following methods to obtain the page ranks of the `SNAP/web-Google` data. \n",
    "\n",
    "1. A dense linear system solver such as LU decomposition.  \n",
    "2. A dense eigen-solver for asymmetric matrix.  \n",
    "\n",
    "For the LU approach, estimate (1) the memory usage and (2) how long it will take assuming that the LAPACK functions can achieve the theoretical throughput of your computer. "
   ]
  },
  {
   "cell_type": "markdown",
   "metadata": {},
   "source": [
    "**Sol.**\n",
    "\n",
    "1. the memory usage\n",
    "\n",
    "For the LU approach, we get L and U parts by overwriting full matrix A. Thus, we may need around $6.11$ TB memory to store the matrix.\n",
    "\n",
    "\n",
    "2. how long it will take\n",
    "\n",
    "If we want to do the matrix decomposition and then solve a linear system, the total flops would be: \n",
    "\n",
    "$$\\frac{2}{3}n^3+2n^2 = 5.13 * 10^{17}$$\n",
    "\n",
    "My computer can do 8 cores * 3.4 GHz * 16 FLOP/cycle = 435.2 GFLOPS per second. Then we use total flops divided by my computing power and get the result that I need 1.179 * 10^8 seconds (approximately 1365 days).\n"
   ]
  },
  {
   "cell_type": "markdown",
   "metadata": {},
   "source": [
    "## Q5 (75 pts) Iterative solvers\n",
    "\n",
    "Set the _teleportation_ parameter at $p = 0.85$. Consider the following methods for solving the PageRank problem. \n",
    "\n",
    "1. An iterative linear system solver such as GMRES. \n",
    "2. An iterative eigen-solver such as Arnoldi method.\n",
    "\n",
    "For iterative methods, we have many choices in Julia. See a list of existing Julia packages for linear solvers at this [page](https://jutho.github.io/KrylovKit.jl/stable/#Package-features-and-alternatives-1). The start-up code below uses the [KrylovKit.jl](https://github.com/Jutho/KrylovKit.jl) package. You can use other packages if you prefer. Make sure to utilize the special structure of $\\mathbf{P}$ (sparse + rank 1) to speed up the matrix-vector multiplication. "
   ]
  },
  {
   "cell_type": "markdown",
   "metadata": {},
   "source": [
    "### Step 1 (15 pts)\n",
    "\n",
    "Let's implement a type `PageRankImPt` that mimics the matrix $\\mathbf{M} = \\mathbf{I} - \\mathbf{P}^T$. For iterative methods, all we need to provide are methods for evaluating $\\mathbf{M} \\mathbf{v}$ and $\\mathbf{M}^T \\mathbf{v}$ for arbitrary vector $\\mathbf{v}$."
   ]
  },
  {
   "cell_type": "code",
   "execution_count": 13,
   "metadata": {},
   "outputs": [],
   "source": [
    "# a type for the matrix M = I - P^T in PageRank problem\n",
    "struct PageRankImPt{TA <: Number, IA <: Integer, T <: AbstractFloat} <: AbstractMatrix{T}\n",
    "    A         :: SparseMatrixCSC{TA, IA} # adjacency matrix\n",
    "    telep     :: T\n",
    "    r         :: Vector{T}\n",
    "    d         :: Vector{T}\n",
    "    z         :: Vector{T}\n",
    "    ztv       :: Vector{T}\n",
    "    dv        :: Vector{T}\n",
    "    da        :: SparseMatrixCSC{T, IA}\n",
    "    atd       :: Transpose{T, SparseMatrixCSC{T, IA}}\n",
    "end\n",
    "\n",
    "# constructor\n",
    "function PageRankImPt(A::SparseMatrixCSC, telep::T) where T <: AbstractFloat\n",
    "    n = size(A, 1)\n",
    "    r = A * ones(n)\n",
    "    z = zeros(n)\n",
    "    d = similar(z)\n",
    "    ztv = similar(z)\n",
    "    dv = similar(z)\n",
    "    da = convert(SparseMatrixCSC{Float64, Int64}, A)\n",
    "    @tturbo for i in 1:n\n",
    "        d[i] = r[i] == 0 ? 0 : telep / r[i]\n",
    "        z[i] = r[i] == 0 ? 1 / n : (1 - telep) / n\n",
    "    end\n",
    "    mul!(da, Diagonal(d), A)\n",
    "    atd = transpose(da)\n",
    "    PageRankImPt(A, telep, r, d, z, ztv, dv, da, atd)\n",
    "end\n",
    "\n",
    "LinearAlgebra.issymmetric(::PageRankImPt) = false\n",
    "Base.size(M::PageRankImPt) = size(M.A)\n",
    "# TODO: implement this function for evaluating M[i, j]\n",
    "# Base.getindex(M::PageRankImPt, i, j) = M.telep\n",
    "\n",
    "function Base.getindex(M::PageRankImPt, i, j)\n",
    "    if i==j\n",
    "        1 - M.A[i,j] * M.d[i] - M.z[j]\n",
    "    else\n",
    "        - M.A[i,j] * M.d[i] - M.z[j]\n",
    "    end\n",
    "end\n",
    "\n",
    "# overwrite `out` by `(I - Pt) * v`\n",
    "function LinearAlgebra.mul!(\n",
    "        out :: Vector{T}, \n",
    "        M   :: PageRankImPt{<:Number, <:Integer, T}, \n",
    "        v   :: Vector{T}\n",
    "        ) where T <: AbstractFloat\n",
    "    #AtD*v\n",
    "    mul!(out, M.atd, v)    \n",
    "    #ztv\n",
    "    ztv = dot(M.z, v)    \n",
    "    #out\n",
    "    out .= v .- out .- ztv\n",
    "    return out\n",
    "end\n",
    "\n",
    "# overwrite `out` by `(I - P) * v`\n",
    "function LinearAlgebra.mul!(\n",
    "        out :: Vector{T}, \n",
    "        Mt  :: Transpose{T, PageRankImPt{TA, IA, T}}, \n",
    "        v   :: Vector{T}\n",
    "        ) where {TA<:Number, IA<:Integer, T <: AbstractFloat}\n",
    "    M = Mt.parent\n",
    "    #DAv\n",
    "    mul!(out, M.da, v)\n",
    "    #z1tv\n",
    "    M.ztv .= M.z .* sum(v)\n",
    "    #out\n",
    "    out .= v .- out .- M.ztv\n",
    "    return out\n",
    "end"
   ]
  },
  {
   "cell_type": "markdown",
   "metadata": {},
   "source": [
    "To check correctness. Note \n",
    "$$\n",
    "\\mathbf{M}^T \\mathbf{1} = \\mathbf{0}\n",
    "$$\n",
    "and\n",
    "$$\n",
    "\\mathbf{M} \\mathbf{x} = \\mathbf{0}\n",
    "$$\n",
    "for stationary distribution $\\mathbf{x}$.\n",
    "\n",
    "Download the solution file `pgrksol.csv.gz`. **Do not put this file in your Git**. You will lose points if you do. You can add a line `pgrksol.csv.gz` to your `.gitignore` file."
   ]
  },
  {
   "cell_type": "code",
   "execution_count": 14,
   "metadata": {
    "tags": []
   },
   "outputs": [
    {
     "data": {
      "text/plain": [
       "916428-element Vector{Float64}:\n",
       " 3.3783428216975054e-5\n",
       " 2.0710155392568165e-6\n",
       " 3.663065984832893e-6\n",
       " 7.527510785028837e-7\n",
       " 8.63328599674051e-7\n",
       " 1.769418252415541e-6\n",
       " 2.431230382883396e-7\n",
       " 6.368417180141445e-7\n",
       " 4.744973703681939e-7\n",
       " 2.6895486110647536e-7\n",
       " 3.18574314847409e-6\n",
       " 7.375106374416742e-7\n",
       " 2.431230382883396e-7\n",
       " ⋮\n",
       " 1.1305006040148547e-6\n",
       " 4.874825281822915e-6\n",
       " 3.167946973112519e-6\n",
       " 9.72688040308568e-7\n",
       " 6.588614479285245e-7\n",
       " 7.737011774300648e-7\n",
       " 2.431230382883396e-7\n",
       " 1.6219204214797293e-6\n",
       " 3.912130060551738e-7\n",
       " 2.431230382883396e-7\n",
       " 7.296033831163157e-6\n",
       " 6.330939996912478e-7"
      ]
     },
     "execution_count": 14,
     "metadata": {},
     "output_type": "execute_result"
    }
   ],
   "source": [
    "using CodecZlib, DelimitedFiles\n",
    "\n",
    "isfile(\"pgrksol.csv.gz\") || download(\"https://raw.githubusercontent.com/ucla-biostat-257/2023spring/master/hw/hw4/pgrksol.csv.gz\")\n",
    "xsol = open(\"pgrksol.csv.gz\", \"r\") do io\n",
    "    vec(readdlm(GzipDecompressorStream(io)))\n",
    "end"
   ]
  },
  {
   "cell_type": "markdown",
   "metadata": {},
   "source": [
    "**You will lose all 35 points (Steps 1 and 2)** if the following statements throw AssertError."
   ]
  },
  {
   "cell_type": "code",
   "execution_count": 15,
   "metadata": {},
   "outputs": [],
   "source": [
    "M = PageRankImPt(A, 0.85)\n",
    "n = size(M, 1)\n",
    "\n",
    "#@assert transpose(M) * ones(n) ≈ zeros(n)\n",
    "@assert norm(transpose(M) * ones(n)) < 1e-12"
   ]
  },
  {
   "cell_type": "code",
   "execution_count": 16,
   "metadata": {},
   "outputs": [],
   "source": [
    "#@assert M * xsol ≈ zeros(n)\n",
    "@assert norm(M * xsol) < 1e-12"
   ]
  },
  {
   "cell_type": "markdown",
   "metadata": {},
   "source": [
    "### Step 2 (20 pts)\n",
    "\n",
    "We want to benchmark the hot functions `mul!` to make sure they are efficient and allocate no memory."
   ]
  },
  {
   "cell_type": "code",
   "execution_count": 17,
   "metadata": {},
   "outputs": [
    {
     "data": {
      "text/plain": [
       "BenchmarkTools.Trial: 409 samples with 1 evaluation.\n",
       " Range \u001b[90m(\u001b[39m\u001b[36m\u001b[1mmin\u001b[22m\u001b[39m … \u001b[35mmax\u001b[39m\u001b[90m):  \u001b[39m\u001b[36m\u001b[1m10.693 ms\u001b[22m\u001b[39m … \u001b[35m 17.213 ms\u001b[39m  \u001b[90m┊\u001b[39m GC \u001b[90m(\u001b[39mmin … max\u001b[90m): \u001b[39m0.00% … 0.00%\n",
       " Time  \u001b[90m(\u001b[39m\u001b[34m\u001b[1mmedian\u001b[22m\u001b[39m\u001b[90m):     \u001b[39m\u001b[34m\u001b[1m11.781 ms               \u001b[22m\u001b[39m\u001b[90m┊\u001b[39m GC \u001b[90m(\u001b[39mmedian\u001b[90m):    \u001b[39m0.00%\n",
       " Time  \u001b[90m(\u001b[39m\u001b[32m\u001b[1mmean\u001b[22m\u001b[39m ± \u001b[32mσ\u001b[39m\u001b[90m):   \u001b[39m\u001b[32m\u001b[1m11.934 ms\u001b[22m\u001b[39m ± \u001b[32m793.646 μs\u001b[39m  \u001b[90m┊\u001b[39m GC \u001b[90m(\u001b[39mmean ± σ\u001b[90m):  \u001b[39m0.00% ± 0.00%\n",
       "\n",
       "  \u001b[39m \u001b[39m \u001b[39m \u001b[39m \u001b[39m \u001b[39m▂\u001b[39m \u001b[39m▃\u001b[39m▃\u001b[39m▆\u001b[39m▄\u001b[39m▇\u001b[39m▅\u001b[39m \u001b[39m▂\u001b[39m█\u001b[39m \u001b[39m▄\u001b[34m▅\u001b[39m\u001b[39m▂\u001b[39m▃\u001b[32m▂\u001b[39m\u001b[39m▇\u001b[39m \u001b[39m \u001b[39m \u001b[39m▃\u001b[39m \u001b[39m \u001b[39m \u001b[39m \u001b[39m \u001b[39m \u001b[39m \u001b[39m \u001b[39m \u001b[39m \u001b[39m \u001b[39m \u001b[39m \u001b[39m \u001b[39m \u001b[39m \u001b[39m \u001b[39m \u001b[39m \u001b[39m \u001b[39m \u001b[39m \u001b[39m \u001b[39m \u001b[39m \u001b[39m \u001b[39m \u001b[39m \u001b[39m \u001b[39m \u001b[39m \u001b[39m \u001b[39m \u001b[39m \u001b[39m \n",
       "  \u001b[39m▃\u001b[39m▃\u001b[39m▃\u001b[39m▄\u001b[39m▅\u001b[39m█\u001b[39m▇\u001b[39m█\u001b[39m█\u001b[39m█\u001b[39m█\u001b[39m█\u001b[39m█\u001b[39m█\u001b[39m█\u001b[39m█\u001b[39m█\u001b[39m█\u001b[34m█\u001b[39m\u001b[39m█\u001b[39m█\u001b[32m█\u001b[39m\u001b[39m█\u001b[39m█\u001b[39m▄\u001b[39m█\u001b[39m█\u001b[39m▅\u001b[39m▆\u001b[39m▅\u001b[39m▅\u001b[39m▆\u001b[39m█\u001b[39m▄\u001b[39m▆\u001b[39m▅\u001b[39m▇\u001b[39m▄\u001b[39m▅\u001b[39m▃\u001b[39m▃\u001b[39m▅\u001b[39m▄\u001b[39m▃\u001b[39m▁\u001b[39m▁\u001b[39m▁\u001b[39m▃\u001b[39m▁\u001b[39m▃\u001b[39m▃\u001b[39m▁\u001b[39m▃\u001b[39m▁\u001b[39m▃\u001b[39m▃\u001b[39m▃\u001b[39m▁\u001b[39m▃\u001b[39m▃\u001b[39m \u001b[39m▅\n",
       "  10.7 ms\u001b[90m         Histogram: frequency by time\u001b[39m         14.3 ms \u001b[0m\u001b[1m<\u001b[22m\n",
       "\n",
       " Memory estimate\u001b[90m: \u001b[39m\u001b[33m0 bytes\u001b[39m, allocs estimate\u001b[90m: \u001b[39m\u001b[33m0\u001b[39m."
      ]
     },
     "execution_count": 17,
     "metadata": {},
     "output_type": "execute_result"
    }
   ],
   "source": [
    "M = PageRankImPt(A, 0.85)\n",
    "n = size(M, 1)\n",
    "v, out = ones(n), zeros(n)\n",
    "bm_mv = @benchmark mul!($out, $M, $v) setup=(fill!(out, 0); fill!(v, 1))"
   ]
  },
  {
   "cell_type": "code",
   "execution_count": 18,
   "metadata": {},
   "outputs": [
    {
     "data": {
      "text/plain": [
       "BenchmarkTools.Trial: 364 samples with 1 evaluation.\n",
       " Range \u001b[90m(\u001b[39m\u001b[36m\u001b[1mmin\u001b[22m\u001b[39m … \u001b[35mmax\u001b[39m\u001b[90m):  \u001b[39m\u001b[36m\u001b[1m12.368 ms\u001b[22m\u001b[39m … \u001b[35m 16.170 ms\u001b[39m  \u001b[90m┊\u001b[39m GC \u001b[90m(\u001b[39mmin … max\u001b[90m): \u001b[39m0.00% … 0.00%\n",
       " Time  \u001b[90m(\u001b[39m\u001b[34m\u001b[1mmedian\u001b[22m\u001b[39m\u001b[90m):     \u001b[39m\u001b[34m\u001b[1m13.302 ms               \u001b[22m\u001b[39m\u001b[90m┊\u001b[39m GC \u001b[90m(\u001b[39mmedian\u001b[90m):    \u001b[39m0.00%\n",
       " Time  \u001b[90m(\u001b[39m\u001b[32m\u001b[1mmean\u001b[22m\u001b[39m ± \u001b[32mσ\u001b[39m\u001b[90m):   \u001b[39m\u001b[32m\u001b[1m13.453 ms\u001b[22m\u001b[39m ± \u001b[32m677.903 μs\u001b[39m  \u001b[90m┊\u001b[39m GC \u001b[90m(\u001b[39mmean ± σ\u001b[90m):  \u001b[39m0.00% ± 0.00%\n",
       "\n",
       "  \u001b[39m \u001b[39m \u001b[39m \u001b[39m \u001b[39m \u001b[39m \u001b[39m▅\u001b[39m▅\u001b[39m▃\u001b[39m▄\u001b[39m▇\u001b[39m█\u001b[39m█\u001b[39m▃\u001b[39m \u001b[39m \u001b[39m▁\u001b[34m▁\u001b[39m\u001b[39m \u001b[39m▃\u001b[32m▁\u001b[39m\u001b[39m \u001b[39m▃\u001b[39m \u001b[39m▂\u001b[39m \u001b[39m▁\u001b[39m \u001b[39m \u001b[39m \u001b[39m \u001b[39m \u001b[39m \u001b[39m \u001b[39m \u001b[39m \u001b[39m \u001b[39m \u001b[39m \u001b[39m \u001b[39m \u001b[39m \u001b[39m \u001b[39m \u001b[39m \u001b[39m \u001b[39m \u001b[39m \u001b[39m \u001b[39m \u001b[39m \u001b[39m \u001b[39m \u001b[39m \u001b[39m \u001b[39m \u001b[39m \u001b[39m \u001b[39m \u001b[39m \u001b[39m \u001b[39m \n",
       "  \u001b[39m▃\u001b[39m▁\u001b[39m▃\u001b[39m▅\u001b[39m▅\u001b[39m█\u001b[39m█\u001b[39m█\u001b[39m█\u001b[39m█\u001b[39m█\u001b[39m█\u001b[39m█\u001b[39m█\u001b[39m█\u001b[39m▇\u001b[39m█\u001b[34m█\u001b[39m\u001b[39m▆\u001b[39m█\u001b[32m█\u001b[39m\u001b[39m▆\u001b[39m█\u001b[39m█\u001b[39m█\u001b[39m▅\u001b[39m█\u001b[39m▆\u001b[39m▇\u001b[39m▇\u001b[39m▆\u001b[39m▆\u001b[39m▄\u001b[39m▅\u001b[39m▅\u001b[39m▅\u001b[39m▅\u001b[39m▄\u001b[39m▃\u001b[39m▃\u001b[39m▄\u001b[39m▃\u001b[39m▄\u001b[39m▃\u001b[39m▁\u001b[39m▁\u001b[39m▃\u001b[39m▄\u001b[39m▁\u001b[39m▃\u001b[39m▃\u001b[39m▁\u001b[39m▁\u001b[39m▃\u001b[39m▁\u001b[39m▃\u001b[39m▁\u001b[39m▃\u001b[39m▁\u001b[39m▃\u001b[39m \u001b[39m▄\n",
       "  12.4 ms\u001b[90m         Histogram: frequency by time\u001b[39m         15.7 ms \u001b[0m\u001b[1m<\u001b[22m\n",
       "\n",
       " Memory estimate\u001b[90m: \u001b[39m\u001b[33m0 bytes\u001b[39m, allocs estimate\u001b[90m: \u001b[39m\u001b[33m0\u001b[39m."
      ]
     },
     "execution_count": 18,
     "metadata": {},
     "output_type": "execute_result"
    }
   ],
   "source": [
    "bm_mtv = @benchmark mul!($out, $(transpose(M)), $v) setup=(fill!(out, 0); fill!(v, 1))"
   ]
  },
  {
   "cell_type": "markdown",
   "metadata": {},
   "source": [
    "You will lose 1 point for each 100 bytes memory allocation. So the points you will get is"
   ]
  },
  {
   "cell_type": "code",
   "execution_count": 19,
   "metadata": {},
   "outputs": [
    {
     "data": {
      "text/plain": [
       "20.0"
      ]
     },
     "execution_count": 19,
     "metadata": {},
     "output_type": "execute_result"
    }
   ],
   "source": [
    "clamp(10 - median(bm_mv).memory / 100, 0, 10) + \n",
    "clamp(10 - median(bm_mtv).memory / 100, 0, 10)"
   ]
  },
  {
   "cell_type": "markdown",
   "metadata": {},
   "source": [
    "**Hint**: My median run times are about 10 ms and memory allocations are 0 bytes."
   ]
  },
  {
   "cell_type": "markdown",
   "metadata": {},
   "source": [
    "### Step 3 (20 pts)\n",
    "\n",
    "Let's first try to solve the PageRank problem by the GMRES method for solving linear equations. "
   ]
  },
  {
   "cell_type": "code",
   "execution_count": 20,
   "metadata": {
    "tags": []
   },
   "outputs": [
    {
     "data": {
      "text/plain": [
       "(value = ([3.3783428221834835e-5, 2.07101553924515e-6, 3.6630659852312323e-6, 7.527510785590242e-7, 8.63328599714718e-7, 1.7694182527349081e-6, 2.431230382908028e-7, 6.368417180736811e-7, 4.7449737037419905e-7, 2.689548611092006e-7  …  3.1679469739726456e-6, 9.72688041021556e-7, 6.588614478531561e-7, 7.737011774701988e-7, 2.431230382908028e-7, 1.6219204214219928e-6, 3.912130060624946e-7, 2.431230382908028e-7, 7.296033831312859e-6, 6.330939996667853e-7], ConvergenceInfo: one converged value after 3 iterations and 72 applications of the linear map;\n",
       "norms of residuals are given by (7.821170354171959e-13,).\n",
       "), time = 2.2131578, bytes = 1008962679, gctime = 0.0427275, gcstats = Base.GC_Diff(1008962679, 137, 0, 79420, 3, 142, 42727500, 3, 0))"
      ]
     },
     "execution_count": 20,
     "metadata": {},
     "output_type": "execute_result"
    }
   ],
   "source": [
    "using KrylovKit\n",
    "\n",
    "# normalize in-degrees to be the start point\n",
    "x0   = vec(sum(A, dims = 1)) .+ 1.0\n",
    "x0 ./= sum(x0)\n",
    "\n",
    "# right hand side\n",
    "b = zeros(n)\n",
    "\n",
    "# warm up (compilation)\n",
    "linsolve(M, b, x0, issymmetric = false, isposdef = false, maxiter = 1) \n",
    "# output is complex eigenvalue/eigenvector\n",
    "(x_gmres, info), time_gmres, = @timed linsolve(M, b, x0, issymmetric = false, isposdef = false)"
   ]
  },
  {
   "cell_type": "markdown",
   "metadata": {},
   "source": [
    "Check correctness. **You will lose all 20 points if the following statement throws `AssertError`.**"
   ]
  },
  {
   "cell_type": "code",
   "execution_count": 21,
   "metadata": {
    "tags": []
   },
   "outputs": [],
   "source": [
    "@assert norm(x_gmres - xsol) < 1e-8"
   ]
  },
  {
   "cell_type": "markdown",
   "metadata": {},
   "source": [
    "GMRES should be reasonably fast. The points you'll get is"
   ]
  },
  {
   "cell_type": "code",
   "execution_count": 22,
   "metadata": {},
   "outputs": [
    {
     "data": {
      "text/plain": [
       "20.0"
      ]
     },
     "execution_count": 22,
     "metadata": {},
     "output_type": "execute_result"
    }
   ],
   "source": [
    "clamp(20 / time_gmres * 20, 0, 20)"
   ]
  },
  {
   "cell_type": "markdown",
   "metadata": {},
   "source": [
    "**Hint**: My runtime is about 3-4 seconds."
   ]
  },
  {
   "cell_type": "markdown",
   "metadata": {},
   "source": [
    "### Step 4 (20 pts)\n",
    "\n",
    "Let's first try to solve the PageRank problem by the Arnoldi method for solving eigen problems. "
   ]
  },
  {
   "cell_type": "code",
   "execution_count": 23,
   "metadata": {},
   "outputs": [
    {
     "data": {
      "text/plain": [
       "(value = (ComplexF64[9.949332144482505e-15 + 0.0im], Vector{ComplexF64}[[0.005635826953806724 + 0.0im, 0.00034549143807825517 + 0.0im, 0.0006110808494124441 + 0.0im, 0.00012557561626033316 + 0.0im, 0.0001440224053280124 + 0.0im, 0.00029517830503980765 + 0.0im, 4.055832828677108e-5 + 0.0im, 0.00010623935784850565 + 0.0im, 7.915671116193869e-5 + 0.0im, 4.486765066724069e-5 + 0.0im  …  0.000528483989979645 + 0.0im, 0.000162265991479869 + 0.0im, 0.0001099127383760812 + 0.0im, 0.000129070558557498 + 0.0im, 4.055832828677108e-5 + 0.0im, 0.0002705723874320063 + 0.0im, 6.526302748332294e-5 + 0.0im, 4.055832828677108e-5 + 0.0im, 0.001217140660132618 + 0.0im, 0.00010561415510697305 + 0.0im]], ConvergenceInfo: one converged value after 7 iterations and 99 applications of the linear map;\n",
       "norms of residuals are given by (9.574326983432913e-14,).\n",
       "), time = 3.6809129, bytes = 1599180685, gctime = 0.2528974, gcstats = Base.GC_Diff(1599180685, 213, 0, 414106, 317, 369, 252897400, 3, 1))"
      ]
     },
     "execution_count": 23,
     "metadata": {},
     "output_type": "execute_result"
    }
   ],
   "source": [
    "# warm up (compilation)\n",
    "eigsolve(M, x0, 1, :SR, issymmetric = false, maxiter = 1)\n",
    "# output is complex eigenvalue/eigenvector\n",
    "(vals, vecs, info), time_arnoldi, = @timed eigsolve(M, x0, 1, :SR, issymmetric = false)"
   ]
  },
  {
   "cell_type": "markdown",
   "metadata": {},
   "source": [
    "Check correctness. **You will lose all 20 points if the following statement throws `AssertError`.**"
   ]
  },
  {
   "cell_type": "code",
   "execution_count": 24,
   "metadata": {},
   "outputs": [],
   "source": [
    "@assert abs(Real(vals[1])) < 1e-8"
   ]
  },
  {
   "cell_type": "code",
   "execution_count": 25,
   "metadata": {},
   "outputs": [],
   "source": [
    "x_arnoldi   = abs.(Real.(vecs[1]))\n",
    "x_arnoldi ./= sum(x_arnoldi)\n",
    "@assert norm(x_arnoldi - xsol) < 1e-8"
   ]
  },
  {
   "cell_type": "markdown",
   "metadata": {},
   "source": [
    "Arnoldi should be reasonably fast. The points you'll get is"
   ]
  },
  {
   "cell_type": "code",
   "execution_count": 26,
   "metadata": {},
   "outputs": [
    {
     "data": {
      "text/plain": [
       "20.0"
      ]
     },
     "execution_count": 26,
     "metadata": {},
     "output_type": "execute_result"
    }
   ],
   "source": [
    "clamp(20 / time_arnoldi * 20, 0, 20)"
   ]
  },
  {
   "cell_type": "markdown",
   "metadata": {},
   "source": [
    "**Hint**: My runtime is about 6-7 seconds."
   ]
  },
  {
   "cell_type": "markdown",
   "metadata": {},
   "source": [
    "## Q6 (5 pts) Results\n",
    "\n",
    "List the top 20 pages you found and their corresponding PageRank score. Do they match the top 20 pages ranked according to in-degrees? "
   ]
  },
  {
   "cell_type": "code",
   "execution_count": 27,
   "metadata": {},
   "outputs": [
    {
     "data": {
      "text/plain": [
       "20-element Vector{Pair{Int64, Float64}}:\n",
       " 597622 => 0.0009145812114518577\n",
       "  41910 => 0.0009120131809986635\n",
       " 163076 => 0.0008950559016075417\n",
       " 537040 => 0.0008899344804414584\n",
       " 384667 => 0.0007791031790164325\n",
       " 504141 => 0.0007575423485847103\n",
       " 486981 => 0.0007177642925774972\n",
       " 605857 => 0.0007108483954459645\n",
       "  32164 => 0.0007055182681589764\n",
       " 558792 => 0.0007021658710709039\n",
       " 551830 => 0.000695075125644684\n",
       " 765335 => 0.0006762276025731935\n",
       " 751385 => 0.0006546558408068048\n",
       " 425771 => 0.0006168480316346706\n",
       " 908352 => 0.0006146220814775633\n",
       " 173977 => 0.0006031151911310604\n",
       "   7315 => 0.0005926642909131823\n",
       " 213433 => 0.0005894474426054817\n",
       " 885606 => 0.0005812660189535979\n",
       " 819224 => 0.0005765189744542853"
      ]
     },
     "execution_count": 27,
     "metadata": {},
     "output_type": "execute_result"
    }
   ],
   "source": [
    "score_arnoldi= Dict(index .=> x_arnoldi)\n",
    "first(sort(score_arnoldi, byvalue = true, rev = true), 20)"
   ]
  },
  {
   "cell_type": "code",
   "execution_count": 28,
   "metadata": {},
   "outputs": [
    {
     "data": {
      "text/plain": [
       "20-element Vector{Pair{Int64, Float64}}:\n",
       " 597622 => 0.0009145812115791916\n",
       "  41910 => 0.0009120131809568363\n",
       " 163076 => 0.0008950559015948273\n",
       " 537040 => 0.0008899344804871115\n",
       " 384667 => 0.0007791031790934531\n",
       " 504141 => 0.0007575423487411983\n",
       " 486981 => 0.0007177642925378862\n",
       " 605857 => 0.0007108483954760331\n",
       "  32164 => 0.0007055182683470026\n",
       " 558792 => 0.0007021658710772888\n",
       " 551830 => 0.0006950751256667451\n",
       " 765335 => 0.0006762276023211673\n",
       " 751385 => 0.0006546558408527693\n",
       " 425771 => 0.00061684803170309\n",
       " 908352 => 0.0006146220815036313\n",
       " 173977 => 0.0006031151911413114\n",
       "   7315 => 0.0005926642909261002\n",
       " 213433 => 0.000589447442618824\n",
       " 885606 => 0.000581266018999853\n",
       " 819224 => 0.0005765189745799193"
      ]
     },
     "execution_count": 28,
     "metadata": {},
     "output_type": "execute_result"
    }
   ],
   "source": [
    "score_gmres= Dict(index .=> x_gmres)\n",
    "first(sort(score_gmres, byvalue = true, rev = true), 20)"
   ]
  },
  {
   "cell_type": "code",
   "execution_count": 29,
   "metadata": {},
   "outputs": [
    {
     "data": {
      "text/plain": [
       "20-element Vector{Pair{Int64, Int64}}:\n",
       " 537040 => 6326\n",
       " 597622 => 5354\n",
       " 504141 => 5271\n",
       " 751385 => 5182\n",
       "  32164 => 5097\n",
       " 885606 => 4847\n",
       " 163076 => 4731\n",
       " 819224 => 4620\n",
       " 605857 => 4550\n",
       " 828964 => 4484\n",
       " 551830 => 4220\n",
       "  41910 => 4219\n",
       " 558792 => 4206\n",
       " 459075 => 4187\n",
       " 407611 => 4180\n",
       " 213433 => 4084\n",
       " 765335 => 4015\n",
       " 384667 => 4010\n",
       " 173977 => 3988\n",
       " 687326 => 3956"
      ]
     },
     "execution_count": 29,
     "metadata": {},
     "output_type": "execute_result"
    }
   ],
   "source": [
    "first(sort(in_vec, byvalue = true, rev = true), 20)"
   ]
  },
  {
   "cell_type": "markdown",
   "metadata": {},
   "source": [
    "We found that both methods accurately identified the same top 20 pages based on their PageRank scores. However, the rankings differed from the top 20 pages determined by the in-degree values we had previously obtained (have some overlapping but not exactly the same). Therefore we know that the rank of a page is not solely determined by the number of incoming links, but can also be influenced by factors such as the quality of these links."
   ]
  },
  {
   "cell_type": "markdown",
   "metadata": {},
   "source": [
    "## Q7 Be proud of yourself\n",
    "\n",
    "Go to your resume/cv and claim you have experience performing analysis on a network of one million nodes."
   ]
  }
 ],
 "metadata": {
  "@webio": {
   "lastCommId": null,
   "lastKernelId": null
  },
  "jupytext": {
   "formats": "ipynb,qmd"
  },
  "kernelspec": {
   "display_name": "Julia (8 threads) 1.8.5",
   "language": "julia",
   "name": "julia-_8-threads_-1.8"
  },
  "language_info": {
   "file_extension": ".jl",
   "mimetype": "application/julia",
   "name": "julia",
   "version": "1.8.5"
  },
  "toc": {
   "colors": {
    "hover_highlight": "#DAA520",
    "running_highlight": "#FF0000",
    "selected_highlight": "#FFD700"
   },
   "moveMenuLeft": true,
   "nav_menu": {
    "height": "87px",
    "width": "252px"
   },
   "navigate_menu": true,
   "number_sections": false,
   "sideBar": true,
   "skip_h1_title": true,
   "threshold": 4,
   "toc_cell": false,
   "toc_section_display": "block",
   "toc_window_display": true,
   "widenNotebook": false
  }
 },
 "nbformat": 4,
 "nbformat_minor": 4
}
